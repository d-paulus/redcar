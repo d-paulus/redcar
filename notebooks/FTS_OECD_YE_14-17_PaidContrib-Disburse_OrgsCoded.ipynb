{
 "cells": [
  {
   "cell_type": "markdown",
   "metadata": {},
   "source": [
    "## Imports"
   ]
  },
  {
   "cell_type": "code",
   "execution_count": 1,
   "metadata": {},
   "outputs": [],
   "source": [
    "import pandas as pd\n",
    "import plotly.graph_objects as go\n",
    "import numpy as np\n",
    "import seaborn as sns\n",
    "import plotly.express as px\n",
    "from plotly.subplots import make_subplots\n",
    "from scipy.stats import wilcoxon\n",
    "from scipy import stats"
   ]
  },
  {
   "cell_type": "markdown",
   "metadata": {},
   "source": [
    "## FTS data"
   ]
  },
  {
   "cell_type": "markdown",
   "metadata": {},
   "source": [
    "Read FTS csv data."
   ]
  },
  {
   "cell_type": "code",
   "execution_count": 2,
   "metadata": {},
   "outputs": [],
   "source": [
    "fts_data = pd.read_csv(\"../data/raw/FTS_Complete.csv\", dtype='unicode')"
   ]
  },
  {
   "cell_type": "markdown",
   "metadata": {},
   "source": [
    "Remove unneeded columns."
   ]
  },
  {
   "cell_type": "code",
   "execution_count": 3,
   "metadata": {},
   "outputs": [],
   "source": [
    "fts_data_simplified = fts_data.drop([\"Flow ID\",\n",
    "\"Original amount\",\n",
    "\"Description\",\n",
    "\"Source Emergency\",\n",
    "\"Source Project\",\n",
    "\"Source Plan\",\n",
    "\"Destination Plan\",\n",
    "\"Destination Emergency\",\n",
    "\"Destination Project\",\n",
    "\"Linked parent ID\",\n",
    "\"Linked child ID\",\n",
    "\"Donor project code\",\n",
    "\"Modality\",\n",
    "\"Version ID\",\n",
    "\"Exchange rate\",\n",
    "\"Original currency\",\n",
    "\"Amount shared on boundary (USD)\"], axis=1)"
   ]
  },
  {
   "cell_type": "markdown",
   "metadata": {},
   "source": [
    "Only keep donations that went to Yemen,"
   ]
  },
  {
   "cell_type": "code",
   "execution_count": 4,
   "metadata": {},
   "outputs": [],
   "source": [
    "fts_data_simplified_destinLocYE = fts_data_simplified.loc[fts_data_simplified['Destination Location'] == \"Yemen\"]"
   ]
  },
  {
   "cell_type": "markdown",
   "metadata": {},
   "source": [
    "The scope of the study defines the time frame as 2014-2017. "
   ]
  },
  {
   "cell_type": "code",
   "execution_count": 5,
   "metadata": {},
   "outputs": [],
   "source": [
    "years = (\"2014\", \"2015\", \"2016\", \"2017\")"
   ]
  },
  {
   "cell_type": "code",
   "execution_count": 6,
   "metadata": {},
   "outputs": [],
   "source": [
    "fts_data_simplified_destinLocYE_14_17 = fts_data_simplified_destinLocYE.loc[fts_data_simplified_destinLocYE['Destination Usage year'].isin(years)]"
   ]
  },
  {
   "cell_type": "markdown",
   "metadata": {},
   "source": [
    "Only select actual 'Paid Contributions', not 'Commitments' or 'Pledges'."
   ]
  },
  {
   "cell_type": "code",
   "execution_count": 7,
   "metadata": {},
   "outputs": [],
   "source": [
    "fts_data_simplified_destinLocYE_14_17_paidDistribu = fts_data_simplified_destinLocYE_14_17.loc[fts_data_simplified_destinLocYE_14_17['Flow status'] == \"Paid Contribution\"]"
   ]
  },
  {
   "cell_type": "markdown",
   "metadata": {},
   "source": [
    "Insert a column used for recoding the recipient organizations. This is needed because sometimes organizations have different names within FTS."
   ]
  },
  {
   "cell_type": "code",
   "execution_count": 8,
   "metadata": {},
   "outputs": [],
   "source": [
    "fts_data_simplified_destinLocYE_14_17_paidDistribu.insert(11, 'DestinOrgCode', '')"
   ]
  },
  {
   "cell_type": "markdown",
   "metadata": {},
   "source": [
    "Code the organizations within the FTS data."
   ]
  },
  {
   "cell_type": "code",
   "execution_count": 9,
   "metadata": {},
   "outputs": [
    {
     "name": "stderr",
     "output_type": "stream",
     "text": [
      "C:\\Users\\dpaulus\\AppData\\Local\\Continuum\\miniconda3\\envs\\redcar\\lib\\site-packages\\ipykernel_launcher.py:137: SettingWithCopyWarning:\n",
      "\n",
      "\n",
      "A value is trying to be set on a copy of a slice from a DataFrame.\n",
      "Try using .loc[row_indexer,col_indexer] = value instead\n",
      "\n",
      "See the caveats in the documentation: https://pandas.pydata.org/pandas-docs/stable/user_guide/indexing.html#returning-a-view-versus-a-copy\n",
      "\n"
     ]
    }
   ],
   "source": [
    "fts_data_simplified_destinLocYE_14_17_paidDistribu.fillna(method='ffill')\n",
    "\n",
    "def coding_orgs(org_name):\n",
    "    if org_name == 'United Nations Development Programme':\n",
    "        return \"1\"\n",
    "    elif org_name == 'Action Contre la Faim':\n",
    "        return \"2\"\n",
    "    elif org_name == 'Adventist Development and Relief Agency':\n",
    "        return \"3\"\n",
    "    elif org_name == 'Agency for Technical Cooperation and Development':\n",
    "        return \"4\"\n",
    "    elif org_name == 'Al Khair Relief Development Foundation':\n",
    "        return \"5\"\n",
    "    elif org_name == 'Al-Badyah Charitable Foundation':\n",
    "        return \"6\"\n",
    "    elif org_name == 'Al-Baida Coalition for Relief and Humanitarian Actions':\n",
    "        return \"7\"\n",
    "    elif org_name == 'Benevolence Coalition For Humanitarian Relief':\n",
    "        return \"8\"\n",
    "    elif org_name == 'The Coalition Of Humanitarian Relief':\n",
    "        return \"8\"\n",
    "    elif org_name == 'International Committee of the Red Cross':\n",
    "        return \"10\"\n",
    "    elif org_name == 'International Federation of Red Cross and Red Crescent Societies':\n",
    "        return \"10\"\n",
    "    elif org_name == 'Norwegian Red Cross':\n",
    "        return \"10\"\n",
    "    elif org_name == 'Qatar Red Crescent Society':\n",
    "        return \"10\"\n",
    "    elif org_name == 'Red Crescent Society of the United Arab Emirates':\n",
    "        return \"10\"\n",
    "    elif org_name == 'Sudanese Red Crescent':\n",
    "        return \"10\"\n",
    "    elif org_name == 'Yemen Red Crescent Society':\n",
    "        return \"10\"\n",
    "    elif org_name == 'Kuwait Red Crescent Society':\n",
    "        return \"10\"\n",
    "    elif org_name == 'CARE International':\n",
    "        return \"11\"\n",
    "    elif org_name == 'Yemen Humanitarian Fund':\n",
    "        return \"12\"\n",
    "    elif org_name == 'M├®decins sans Fronti─ìres':\n",
    "        return \"18\"\n",
    "    elif org_name == 'Enjaz foundation for development':\n",
    "        return \"21\"\n",
    "    elif org_name == 'Food & Agriculture Organization of the United Nations':\n",
    "        return \"26\"\n",
    "    elif org_name == 'Global Communities':\n",
    "        return \"28\"\n",
    "    elif org_name == 'Yemen, Government of':\n",
    "        return \"30\"\n",
    "    elif org_name == 'Handicap International / Humanity & Inclusion':\n",
    "        return \"32\"\n",
    "    elif org_name == 'Yemen Higher Relief Committee':\n",
    "        return \"33\"\n",
    "    elif org_name == 'International Commission for Human Development':\n",
    "        return \"37\"\n",
    "    elif org_name == 'International Medical Corps':\n",
    "        return \"38\"\n",
    "    elif org_name == 'International Organization for Migration':\n",
    "        return \"40\"\n",
    "    elif org_name == 'International Rescue Committee':\n",
    "        return \"42\"\n",
    "    elif org_name == 'International Islamic Relief Organization':\n",
    "        return \"44\"\n",
    "    elif org_name == 'Islamic Relief Worldwide':\n",
    "        return \"44\"\n",
    "    elif org_name == 'Khalifa Bin Zayed Al Nahyan Foundation':\n",
    "        return \"45\"\n",
    "    elif org_name == 'Mercy Corps':\n",
    "        return \"49\"\n",
    "    elif org_name == 'Norwegian Refugee Council':\n",
    "        return \"53\"\n",
    "    elif org_name == 'Office for the Coordination of Humanitarian Affairs':\n",
    "        return \"54\"\n",
    "    elif org_name == 'OXFAM GB':\n",
    "        return \"59\"\n",
    "    elif org_name == 'OXFAM Ireland':\n",
    "        return \"59\"\n",
    "    elif org_name == 'World Food Programme':\n",
    "        return \"64\"\n",
    "    elif org_name == 'Save the Children':\n",
    "        return \"68\"\n",
    "    elif org_name == 'Scoop Group':\n",
    "        return \"72\"\n",
    "    elif org_name == 'United Nations High Commissioner for Refugees':\n",
    "        return \"78\"\n",
    "    elif org_name == 'United Nations Population Fund':\n",
    "        return \"79\"\n",
    "    elif org_name == 'United Nations Children\\'s Fund':\n",
    "        return \"80\"\n",
    "    elif org_name == 'World Health Organization':\n",
    "        return \"85\"\n",
    "    elif org_name == 'Yemeni Social Reform Society':\n",
    "        return \"87\"\n",
    "    elif org_name == 'Alawn Foundation for Development':\n",
    "        return \"93\"\n",
    "    elif org_name == 'AlBasar Foundation':\n",
    "        return \"94\"\n",
    "    elif org_name == 'Alyateem Development Foundation':\n",
    "        return \"95\"\n",
    "    elif org_name == 'Direct Aid':\n",
    "        return \"96\"\n",
    "    elif org_name == 'International Campaign to Abolish Nuclear Weapons (ICAN)':\n",
    "        return \"97\"\n",
    "    elif org_name == 'International Children\\'s Action Network':\n",
    "        return \"98\"\n",
    "    elif org_name == 'International Youth Council - Yemen':\n",
    "        return \"99\"\n",
    "    elif org_name == 'Japan Platform':\n",
    "        return \"100\"\n",
    "    elif org_name == 'Japanese NGOs':\n",
    "        return \"101\"\n",
    "    elif org_name == 'Kuwaiti Yemeni Relief':\n",
    "        return \"102\"\n",
    "    elif org_name == 'NGOs (details not yet provided)':\n",
    "        return \"91\"\n",
    "    elif org_name == 'Office of the High Commissioner for Human Rights':\n",
    "        return \"103\"\n",
    "    elif org_name == 'Physicians Across Continents':\n",
    "        return \"104\"\n",
    "    elif org_name == 'Private (individuals & organizations)':\n",
    "        return \"63\"\n",
    "    elif org_name == 'Reform Society':\n",
    "        return \"87\"\n",
    "    elif org_name == 'United Nations Office on Drugs and Crime':\n",
    "        return \"105\"\n",
    "    elif org_name == 'Wethaq Foundation for Civil Orientation':\n",
    "        return \"106\"\n",
    "    elif org_name == 'World Assembly of Muslim Youth':\n",
    "        return \"107\"\n",
    "    elif org_name == 'Yemen National Committee for Human Rights':\n",
    "        return \"108\"\n",
    "    elif org_name == 'Yemeni Association for relief and development':\n",
    "        return \"109\"\n",
    "    \n",
    "fts_data_simplified_destinLocYE_14_17_paidDistribu['DestinOrgCode'] = fts_data_simplified_destinLocYE_14_17_paidDistribu['Destination Organization'].apply(coding_orgs)"
   ]
  },
  {
   "cell_type": "markdown",
   "metadata": {},
   "source": [
    "Convert donation amounts into numeric data types."
   ]
  },
  {
   "cell_type": "code",
   "execution_count": 10,
   "metadata": {},
   "outputs": [
    {
     "name": "stderr",
     "output_type": "stream",
     "text": [
      "C:\\Users\\dpaulus\\AppData\\Local\\Continuum\\miniconda3\\envs\\redcar\\lib\\site-packages\\ipykernel_launcher.py:1: SettingWithCopyWarning:\n",
      "\n",
      "\n",
      "A value is trying to be set on a copy of a slice from a DataFrame.\n",
      "Try using .loc[row_indexer,col_indexer] = value instead\n",
      "\n",
      "See the caveats in the documentation: https://pandas.pydata.org/pandas-docs/stable/user_guide/indexing.html#returning-a-view-versus-a-copy\n",
      "\n"
     ]
    }
   ],
   "source": [
    "fts_data_simplified_destinLocYE_14_17_paidDistribu[\"Amount (USD)\"] = pd.to_numeric(fts_data_simplified_destinLocYE_14_17_paidDistribu[\"Amount (USD)\"])"
   ]
  },
  {
   "cell_type": "markdown",
   "metadata": {},
   "source": [
    "The EU as a donor is only listed in the 'Source Organization' column, not in the 'Source Location' column like all other major donors. Therefor we recode it here."
   ]
  },
  {
   "cell_type": "code",
   "execution_count": 11,
   "metadata": {},
   "outputs": [
    {
     "name": "stderr",
     "output_type": "stream",
     "text": [
      "C:\\Users\\dpaulus\\AppData\\Local\\Continuum\\miniconda3\\envs\\redcar\\lib\\site-packages\\pandas\\core\\indexing.py:965: SettingWithCopyWarning:\n",
      "\n",
      "\n",
      "A value is trying to be set on a copy of a slice from a DataFrame.\n",
      "Try using .loc[row_indexer,col_indexer] = value instead\n",
      "\n",
      "See the caveats in the documentation: https://pandas.pydata.org/pandas-docs/stable/user_guide/indexing.html#returning-a-view-versus-a-copy\n",
      "\n"
     ]
    }
   ],
   "source": [
    "for key, row in fts_data_simplified_destinLocYE_14_17_paidDistribu.iterrows():\n",
    "    if fts_data_simplified_destinLocYE_14_17_paidDistribu.loc[key,'Source Organization'] == 'European Commission' :\n",
    "        fts_data_simplified_destinLocYE_14_17_paidDistribu.loc[key,'Source Location'] = 'EU Institutions'\n",
    "    if fts_data_simplified_destinLocYE_14_17_paidDistribu.loc[key,'Source Organization'] == 'European Commission\\'s Humanitarian Aid and Civil Protection Department' :\n",
    "        fts_data_simplified_destinLocYE_14_17_paidDistribu.loc[key,'Source Location'] = 'EU Institutions'\n"
   ]
  },
  {
   "cell_type": "markdown",
   "metadata": {},
   "source": [
    "Create a pivot table to aggregate donation amounts by donor, recipient organization and year."
   ]
  },
  {
   "cell_type": "code",
   "execution_count": 12,
   "metadata": {},
   "outputs": [],
   "source": [
    "fts_data_simplified_destinLocYE_14_17_paidDistribu_pivot = pd.pivot_table(fts_data_simplified_destinLocYE_14_17_paidDistribu,index=[\"Source Location\",\"DestinOrgCode\", \"Destination Usage year\"],values=[\"Amount (USD)\"])"
   ]
  },
  {
   "cell_type": "markdown",
   "metadata": {},
   "source": [
    "## OECD data"
   ]
  },
  {
   "cell_type": "markdown",
   "metadata": {},
   "source": [
    "Read OECD csv data."
   ]
  },
  {
   "cell_type": "code",
   "execution_count": 13,
   "metadata": {},
   "outputs": [],
   "source": [
    "oecd_data = pd.read_csv(\"../data/raw/OECD_CompleteHumanitarian.csv\", encoding='latin-1', dtype='unicode')"
   ]
  },
  {
   "cell_type": "markdown",
   "metadata": {},
   "source": [
    "Remove unneeded columns."
   ]
  },
  {
   "cell_type": "code",
   "execution_count": 14,
   "metadata": {},
   "outputs": [],
   "source": [
    "oecd_data_simplified = oecd_data.drop([\"AgencyCode\",\n",
    "\"Aid_t\",\n",
    "\"AssocFinance\",\n",
    "\"Bi_Multi\",\n",
    "\"Biodiversity\",\n",
    "\"BudgetIdent\",\n",
    "\"CRSid\",\n",
    "\"CapitalExpend\",\n",
    "\"Category\",\n",
    "\"ChannelCode\",\n",
    "\"ClimateAdaptation\",\n",
    "\"ClimateMitigation\",\n",
    "\"CommitmentDate\",\n",
    "\"Commitment_National\",\n",
    "\"CurrencyCode\",\n",
    "\"Desertification\",\n",
    "\"Disbursement_National\",\n",
    "\"Environment\",\n",
    "\"ExpectedStartDate\",\n",
    "\"FTC\",\n",
    "\"Finance_t\",\n",
    "\"FlowCode\",\n",
    "\"Gender\",\n",
    "\"Geography\",\n",
    "\"GrantElement\",\n",
    "\"GrantEquiv\",\n",
    "\"IncomegroupCode\",\n",
    "\"IncomegroupName\",\n",
    "\"InitialReport\",\n",
    "\"Interest1\",\n",
    "\"Interest2\",\n",
    "\"InvestmentProject\",\n",
    "\"NumberRepayment\",\n",
    "\"PBA\",\n",
    "\"ParentChannelCode\",\n",
    "\"Pdgg\",\n",
    "\"ProjectNumber\",\n",
    "\"ProjectTitle\",\n",
    "\"PurposeName\",\n",
    "\"RMNCH\",\n",
    "\"RecipientCode\",\n",
    "\"RegionCode\",\n",
    "\"RegionName\",\n",
    "\"Repaydate1\",\n",
    "\"Repaydate2\",\n",
    "\"SectorCode\",\n",
    "\"Trade\",\n",
    "\"TypeRepayment\",\n",
    "\"USD_Adjustment\",\n",
    "\"USD_Adjustment_Defl\",\n",
    "\"USD_AmountPartialTied\",\n",
    "\"USD_AmountPartialTied_Defl\",\n",
    "\"USD_AmountTied\",\n",
    "\"USD_AmountUntied\",\n",
    "\"USD_AmountUntied_Defl\",\n",
    "\"USD_Amounttied_Defl\",\n",
    "\"USD_Arrears_Interest\",\n",
    "\"USD_Arrears_Principal\",\n",
    "\"USD_Commitment\",\n",
    "\"USD_Commitment_Defl\",\n",
    "\"USD_Disbursement_Defl\",\n",
    "\"USD_Expert_Commitment\",\n",
    "\"USD_Expert_Extended\",\n",
    "\"USD_Export_Credit\",\n",
    "\"USD_Future_DS_Interest\",\n",
    "\"USD_Future_DS_Principal\",\n",
    "\"USD_GrantEquiv\",\n",
    "\"USD_IRTC\",\n",
    "\"USD_Interest\",\n",
    "\"USD_Outstanding\",\n",
    "\"USD_Received\",\n",
    "\"USD_Received_Defl\",\n",
    "\"@_id\"\n",
    "], axis=1)"
   ]
  },
  {
   "cell_type": "markdown",
   "metadata": {},
   "source": [
    "Only keep donations that went to Yemen."
   ]
  },
  {
   "cell_type": "code",
   "execution_count": 15,
   "metadata": {},
   "outputs": [],
   "source": [
    "oecd_data_simplified_recipientNameYE = oecd_data_simplified.loc[oecd_data_simplified['RecipientName'] == \"Yemen\"]"
   ]
  },
  {
   "cell_type": "markdown",
   "metadata": {},
   "source": [
    "The scope of the study defines the time frame as 2014-2017."
   ]
  },
  {
   "cell_type": "code",
   "execution_count": 16,
   "metadata": {},
   "outputs": [],
   "source": [
    "years = (\"2014\", \"2015\", \"2016\", \"2017\")"
   ]
  },
  {
   "cell_type": "code",
   "execution_count": 17,
   "metadata": {},
   "outputs": [],
   "source": [
    "oecd_data_simplified_recipientNameYE_14_17 = oecd_data_simplified_recipientNameYE.loc[oecd_data_simplified_recipientNameYE['Year'].isin(years)]"
   ]
  },
  {
   "cell_type": "markdown",
   "metadata": {},
   "source": [
    "Insert two columns used for recoding the recipient organizations. This is needed because sometimes organizations have different names within OECD."
   ]
  },
  {
   "cell_type": "code",
   "execution_count": 18,
   "metadata": {},
   "outputs": [],
   "source": [
    "oecd_data_simplified_recipientNameYE_14_17.insert(2, 'ChannelNameCode', '')"
   ]
  },
  {
   "cell_type": "code",
   "execution_count": 19,
   "metadata": {},
   "outputs": [],
   "source": [
    "oecd_data_simplified_recipientNameYE_14_17.insert(4, 'ChannelReportedNameCode', '')"
   ]
  },
  {
   "cell_type": "markdown",
   "metadata": {},
   "source": [
    "Code the organizations within the OECD data."
   ]
  },
  {
   "cell_type": "code",
   "execution_count": 20,
   "metadata": {},
   "outputs": [
    {
     "name": "stderr",
     "output_type": "stream",
     "text": [
      "C:\\Users\\dpaulus\\AppData\\Local\\Continuum\\miniconda3\\envs\\redcar\\lib\\site-packages\\ipykernel_launcher.py:423: SettingWithCopyWarning:\n",
      "\n",
      "\n",
      "A value is trying to be set on a copy of a slice from a DataFrame.\n",
      "Try using .loc[row_indexer,col_indexer] = value instead\n",
      "\n",
      "See the caveats in the documentation: https://pandas.pydata.org/pandas-docs/stable/user_guide/indexing.html#returning-a-view-versus-a-copy\n",
      "\n",
      "C:\\Users\\dpaulus\\AppData\\Local\\Continuum\\miniconda3\\envs\\redcar\\lib\\site-packages\\ipykernel_launcher.py:424: SettingWithCopyWarning:\n",
      "\n",
      "\n",
      "A value is trying to be set on a copy of a slice from a DataFrame.\n",
      "Try using .loc[row_indexer,col_indexer] = value instead\n",
      "\n",
      "See the caveats in the documentation: https://pandas.pydata.org/pandas-docs/stable/user_guide/indexing.html#returning-a-view-versus-a-copy\n",
      "\n"
     ]
    }
   ],
   "source": [
    "def coding_orgs(org_name):\n",
    "    if org_name == '03474 - UNDP (Direct Execution)':\n",
    "        return \"1\"\n",
    "    elif org_name == '99999 - UNDP':\n",
    "        return \"1\"\n",
    "    elif org_name == 'UNDP':\n",
    "        return \"1\"\n",
    "    elif org_name == 'UNDP(United Nations Development Programme)':\n",
    "        return \"1\"\n",
    "    elif org_name == 'United Nations Development Programme':\n",
    "        return \"1\"\n",
    "    elif org_name == 'ACF - Action Against Hunger - France':\n",
    "        return \"2\"\n",
    "    elif org_name == 'ACF International':\n",
    "        return \"2\"\n",
    "    elif org_name == 'ACF/ACTION CONTRE LA FAIM FRANCE':\n",
    "        return \"2\"\n",
    "    elif org_name == 'Action Against Hunger (ACF) - France':\n",
    "        return \"2\"\n",
    "    elif org_name == 'Adventist Development and Relief Agency':\n",
    "        return \"3\"\n",
    "    elif org_name == 'Adventist Development and Relief Agency International':\n",
    "        return \"3\"\n",
    "    elif org_name == 'Agency for Technical Cooperation and Development':\n",
    "        return \"4\"\n",
    "    elif org_name == 'Al - Khair Coalition for Humanitarian Relief':\n",
    "        return \"5\"\n",
    "    elif org_name == 'Al-Badiyh Charitable Foundation':\n",
    "        return \"6\"\n",
    "    elif org_name == 'Al-Baida Coalition for Relief and Humanitarian Actions':\n",
    "        return \"7\"\n",
    "    elif org_name == 'Benevolence Coalition For Humanitarian Relief':\n",
    "        return \"8\"\n",
    "    elif org_name == 'Bollor?Group':\n",
    "        return \"9\"\n",
    "    elif org_name == 'Canadian Red Cross':\n",
    "        return \"10\"\n",
    "    elif org_name == 'Comit?international de la Croix-Rouge':\n",
    "        return \"10\"\n",
    "    elif org_name == 'Dansk R?de Kors':\n",
    "        return \"10\"\n",
    "    elif org_name == 'Emirates Red Crescent':\n",
    "        return \"10\"\n",
    "    elif org_name == 'Finnish Red Cross':\n",
    "        return \"10\"\n",
    "    elif org_name == 'ICRC':\n",
    "        return \"10\"\n",
    "    elif org_name == 'ICRC - International Committee of the Red Cross':\n",
    "        return \"10\"\n",
    "    elif org_name == 'ICRC - Switzerland':\n",
    "        return \"10\"\n",
    "    elif org_name == 'ICRC(International Committee of the Red Cross)':\n",
    "        return \"10\"\n",
    "    elif org_name == 'ICRC/INTERNATIONAL COMMITTEE OF THE RED CROSS':\n",
    "        return \"10\"\n",
    "    elif org_name == 'International Committee Of The Red Cross':\n",
    "        return \"10\"\n",
    "    elif org_name == 'ICRC/INTERNATIONAL COMMITTEE OF THE RED CROSS/R?A KORSET':\n",
    "        return \"10\"\n",
    "    elif org_name == 'INGO International Committee of the Red Cross ICRC - ICRC - PRT':\n",
    "        return \"10\"\n",
    "    elif org_name == 'International Committee of the Red Cross':\n",
    "        return \"10\"\n",
    "    elif org_name == 'International Committee of the Red Cross (ICRC)':\n",
    "        return \"10\"\n",
    "    elif org_name == 'International Committee of the Red Cross?ICRC)':\n",
    "        return \"10\"\n",
    "    elif org_name == 'International Federation of Red Cross and Red Crescent Societies':\n",
    "        return \"10\"\n",
    "    elif org_name == 'International Red Cross and Red Crescent Societies (ICRC)':\n",
    "        return \"10\"\n",
    "    elif org_name == 'NGO Rode Kruis-Vlaanderen Internationaal':\n",
    "        return \"10\"\n",
    "    elif org_name == 'Norges R?de Kors':\n",
    "        return \"10\"\n",
    "    elif org_name == 'Swedish Red Cross':\n",
    "        return \"10\"\n",
    "    elif org_name == 'CARE Canada':\n",
    "        return \"11\"\n",
    "    elif org_name == 'Care International':\n",
    "        return \"11\"\n",
    "    elif org_name == 'CBPFs(Country-Based Pooled Funds)':\n",
    "        return \"12\"\n",
    "    elif org_name == 'Central Emergency Response Fund':\n",
    "        return \"12\"\n",
    "    elif org_name == 'ERF(Emergency Reponse Fund)':\n",
    "        return \"12\"\n",
    "    elif org_name == 'ERF(Emergency Response Fund)':\n",
    "        return \"12\"\n",
    "    elif org_name == 'UN-led Country-based Pooled Funds':\n",
    "        return \"12\"\n",
    "    elif org_name == 'UNOCHA (Emergency Response Fund)':\n",
    "        return \"12\"\n",
    "    elif org_name == 'Central Government':\n",
    "        return \"0\"\n",
    "    elif org_name == 'Cooperative for Assistance and Relief Everywhere':\n",
    "        return \"15\"\n",
    "    elif org_name == 'Dansk Flygtningehj?lp':\n",
    "        return \"16\"\n",
    "    elif org_name == 'Flyktninghjelpen':\n",
    "        return \"16\"\n",
    "    elif org_name == 'Developing country-based NGO':\n",
    "        return \"0\"\n",
    "    elif org_name == 'Doctors Without Borders':\n",
    "        return \"19\"\n",
    "    elif org_name == 'Donor country-based NGO':\n",
    "        return \"0\"\n",
    "    elif org_name == 'ONG bas? dans un pays donneur':\n",
    "        return \"0\"\n",
    "    elif org_name == 'Donor Government':\n",
    "        return \"0\"\n",
    "    elif org_name == 'Enjaz development foundation':\n",
    "        return \"21\"\n",
    "    elif org_name == 'Enterprise - Non United States Other':\n",
    "        return \"0\"\n",
    "    elif org_name == 'Enterprise - United States Other':\n",
    "        return \"0\"\n",
    "    elif org_name == 'Estonian Rescue Board':\n",
    "        return \"25\"\n",
    "    elif org_name == 'FAO':\n",
    "        return \"26\"\n",
    "    elif org_name == 'Food and Agricultural Organisation':\n",
    "        return \"26\"\n",
    "    elif org_name == 'GIZ':\n",
    "        return \"27\"\n",
    "    elif org_name == 'Global Communities':\n",
    "        return \"28\"\n",
    "    elif org_name == 'Government of the United Arab Emirates':\n",
    "        return \"0\"\n",
    "    elif org_name == 'Government of Yemen':\n",
    "        return \"0\"\n",
    "    elif org_name == 'REPUBLIC OF YEMEN':\n",
    "        return \"0\"\n",
    "    elif org_name == 'Yemen Government':\n",
    "        return \"0\"\n",
    "    elif org_name == 'Governorate in Yemen':\n",
    "        return \"0\"\n",
    "    elif org_name == 'Handicap International Canada':\n",
    "        return \"32\"\n",
    "    elif org_name == 'High relief committee (Republic of yemen)':\n",
    "        return \"33\"\n",
    "    elif org_name == 'ILO':\n",
    "        return \"34\"\n",
    "    elif org_name == 'International Labour Organisation - Regular Budget Supplementary Account':\n",
    "        return \"34\"\n",
    "    elif org_name == 'Information Management and Mine Action Programs':\n",
    "        return \"35\"\n",
    "    elif org_name == 'International Business and Technical Consultants Inc.':\n",
    "        return \"36\"\n",
    "    elif org_name == 'International Commission for Human Development':\n",
    "        return \"37\"\n",
    "    elif org_name == 'International Medical Corps':\n",
    "        return \"38\"\n",
    "    elif org_name == 'International NGO':\n",
    "        return \"0\"\n",
    "    elif org_name == 'ONG INTERNATIONALE':\n",
    "        return \"0\"\n",
    "    elif org_name == 'International Organisation for Migration':\n",
    "        return \"40\"\n",
    "    elif org_name == 'International Organisation for Migration (IOM)':\n",
    "        return \"40\"\n",
    "    elif org_name == 'International Organization for Migration':\n",
    "        return \"40\"\n",
    "    elif org_name == 'IOM':\n",
    "        return \"40\"\n",
    "    elif org_name == 'IOM - International Organisation for Migration/Organizzazione internazionale per l emigrazione':\n",
    "        return \"40\"\n",
    "    elif org_name == 'IOM(International Organisation for Migration )':\n",
    "        return \"40\"\n",
    "    elif org_name == 'IOM(International Organisation for Migration)':\n",
    "        return \"40\"\n",
    "    elif org_name == 'IOM(International Organization for Migration)':\n",
    "        return \"40\"\n",
    "    elif org_name == 'IOM/INTERNATIONAL ORGANIZATION FOR MIGRATION':\n",
    "        return \"40\"\n",
    "    elif org_name == 'International Relief and Development':\n",
    "        return \"41\"\n",
    "    elif org_name == 'International Rescue Committee':\n",
    "        return \"42\"\n",
    "    elif org_name == 'IRC/INTERNATIONAL RESCUE COMMITTEE':\n",
    "        return \"42\"\n",
    "    elif org_name == 'INTERSOS':\n",
    "        return \"43\"\n",
    "    elif org_name == 'ISLAMIC RELIEF':\n",
    "        return \"44\"\n",
    "    elif org_name == 'Islamic Relief Canada':\n",
    "        return \"44\"\n",
    "    elif org_name == 'Islamic Relief Sweden':\n",
    "        return \"44\"\n",
    "    elif org_name == 'Islamic Relief Worldwide':\n",
    "        return \"44\"\n",
    "    elif org_name == 'khalifa Bin Zayed Al Nahyan Foundation':\n",
    "        return \"45\"\n",
    "    elif org_name == 'King Salman for Relief and Humanitarian Aid Center':\n",
    "        return \"46\"\n",
    "    elif org_name == 'KOICA':\n",
    "        return \"47\"\n",
    "    elif org_name == 'Matrix International Logistics Inc.':\n",
    "        return \"48\"\n",
    "    elif org_name == 'Mercy Corps':\n",
    "        return \"49\"\n",
    "    elif org_name == 'Multilateral Organisations':\n",
    "        return \"0\"\n",
    "    elif org_name == 'Network':\n",
    "        return \"0\"\n",
    "    elif org_name == 'Networks':\n",
    "        return \"0\"\n",
    "    elif org_name == 'Non-Governmental Organisation (NGO) and Civil Society':\n",
    "        return \"0\"\n",
    "    elif org_name == 'NON-GOVERNMENTAL ORGANISATIONS (NGOs) AND CIVIL SOCIETY':\n",
    "        return \"0\"\n",
    "    elif org_name == 'Norwegian Refugee Council':\n",
    "        return \"53\"\n",
    "    elif org_name == 'NRC/NORWEGIAN REFUGEE COUNCIL':\n",
    "        return \"53\"\n",
    "    elif org_name == 'OCHA - Office for the Coordination of Humanitarian Affairs':\n",
    "        return \"54\"\n",
    "    elif org_name == 'OCHA - United Nations Office for the Coordination of Humanitarian Affairs':\n",
    "        return \"54\"\n",
    "    elif org_name == 'Un Ocha':\n",
    "        return \"54\"\n",
    "    elif org_name == 'UN Office for the Coordination of Humanitarian Aff':\n",
    "        return \"54\"\n",
    "    elif org_name == 'UN UNOCHA - Office of Co-ordination of Humanitarian Affairs - PRT':\n",
    "        return \"54\"\n",
    "    elif org_name == 'United Nations Office of Co-ordination of Humanitarian Affairs':\n",
    "        return \"54\"\n",
    "    elif org_name == 'United Nations Office of Co-ordination of Humanitarian Affairs (UNOCHA)':\n",
    "        return \"54\"\n",
    "    elif org_name == 'United nations Office of co-ordination of Humanitarian Affairs':\n",
    "        return \"54\"\n",
    "    elif org_name == 'UNOCHA':\n",
    "        return \"54\"\n",
    "    elif org_name == 'UN OCHA':\n",
    "        return \"54\"\n",
    "    elif org_name == 'UNOCHA - Switzerland':\n",
    "        return \"54\"\n",
    "    elif org_name == 'UNOCHA - UN Office of Co-ordination of Humanitarian Affairs':\n",
    "        return \"54\"\n",
    "    elif org_name == 'UNOCHA office in Yemen':\n",
    "        return \"54\"\n",
    "    elif org_name == 'UNOCHA/UNITED NATIONS OFFICE FOR THE COORDINATION OF HUMANITARIAN AFFAIRS':\n",
    "        return \"54\"\n",
    "    elif org_name == 'Other':\n",
    "        return \"0\"\n",
    "    elif org_name == 'Other non-financial corporations':\n",
    "        return \"0\"\n",
    "    elif org_name == 'Other public entities in donor country':\n",
    "        return \"0\"\n",
    "    elif org_name == 'Other public entities in recipient country':\n",
    "        return \"0\"\n",
    "    elif org_name == 'Oxfam':\n",
    "        return \"59\"\n",
    "    elif org_name == 'OXFAM - provider country office':\n",
    "        return \"59\"\n",
    "    elif org_name == 'Oxfam Deutschland e. V. (OXFAM - provider country office)':\n",
    "        return \"59\"\n",
    "    elif org_name == 'OXFAM International':\n",
    "        return \"59\"\n",
    "    elif org_name == 'Oxfam-Qu?ec':\n",
    "        return \"59\"\n",
    "    elif org_name == 'Private sector in provider country':\n",
    "        return \"0\"\n",
    "    elif org_name == 'Private sector in recipient country':\n",
    "        return \"0\"\n",
    "    elif org_name == 'Private sector in third country':\n",
    "        return \"0\"\n",
    "    elif org_name == 'Private sector institution':\n",
    "        return \"0\"\n",
    "    elif org_name == 'Private Sector Institutions':\n",
    "        return \"0\"\n",
    "    elif org_name == 'Programme alimentaire mondial':\n",
    "        return \"64\"\n",
    "    elif org_name == 'UN WFP - UNHAS Humanitarian Air Service - PRT':\n",
    "        return \"64\"\n",
    "    elif org_name == 'UN World Food Programme WFP_PAM - WFP - PRT':\n",
    "        return \"64\"\n",
    "    elif org_name == 'United Nations World Food Programme (UN WFP)':\n",
    "        return \"64\"\n",
    "    elif org_name == 'United Nations World Food Programme (WFP)':\n",
    "        return \"64\"\n",
    "    elif org_name == 'WFP':\n",
    "        return \"64\"\n",
    "    elif org_name == 'WFP - World Food Programme':\n",
    "        return \"64\"\n",
    "    elif org_name == 'WFP(World Food Programme)':\n",
    "        return \"64\"\n",
    "    elif org_name == 'WFP/WORLD FOOD PROGRAMME':\n",
    "        return \"64\"\n",
    "    elif org_name == 'World Food Programme':\n",
    "        return \"64\"\n",
    "    elif org_name == 'WFP - WORLD FOOD PROGRAMME':\n",
    "        return \"64\"\n",
    "    elif org_name == 'World Food programme (WFP)':\n",
    "        return \"64\"\n",
    "    elif org_name == 'World Food Programme (WFP)':\n",
    "        return \"64\"\n",
    "    elif org_name == 'Public corporations':\n",
    "        return \"0\"\n",
    "    elif org_name == 'Public-Private Partnerships (PPP)':\n",
    "        return \"0\"\n",
    "    elif org_name == 'Recipient Government':\n",
    "        return \"0\"\n",
    "    elif org_name == 'Red Barnet':\n",
    "        return \"68\"\n",
    "    elif org_name == 'Save the Children':\n",
    "        return \"68\"\n",
    "    elif org_name == 'Save the Children - donor country office':\n",
    "        return \"68\"\n",
    "    elif org_name == 'Save the Children Canada':\n",
    "        return \"68\"\n",
    "    elif org_name == 'Save the Children Deutschland e. V. (provider country office)':\n",
    "        return \"68\"\n",
    "    elif org_name == 'Save the Children Federation Inc.':\n",
    "        return \"68\"\n",
    "    elif org_name == 'Relief Coalition in Aden':\n",
    "        return \"69\"\n",
    "    elif org_name == 'SANA\\'A MUNICIPALITY':\n",
    "        return \"0\"\n",
    "    elif org_name == 'Scoop group':\n",
    "        return \"72\"\n",
    "    elif org_name == 'Socotra Development Association':\n",
    "        return \"73\"\n",
    "    elif org_name == 'Solidarios sin Fronteras':\n",
    "        return \"74\"\n",
    "    elif org_name == 'SVENSKA MISSIONSR?DET':\n",
    "        return \"75\"\n",
    "    elif org_name == 'Third Country Government (Delegated co-operation)':\n",
    "        return \"0\"\n",
    "    elif org_name == 'UN Office of the High Commissioner for Refugees UNHCR_HCR - UNHCR - PRT':\n",
    "        return \"78\"\n",
    "    elif org_name == 'UNHCR':\n",
    "        return \"78\"\n",
    "    elif org_name == 'UNHCR - U.N. Office of the United Nations High Commissioner for Refugees':\n",
    "        return \"78\"\n",
    "    elif org_name == 'UNHCR - UN Office of the UN High Commissioner for Refugees':\n",
    "        return \"78\"\n",
    "    elif org_name == 'UNHCR - United Nations High Commissioner for Refugees':\n",
    "        return \"78\"\n",
    "    elif org_name == 'UNHCR(United Nations Office of the United Nations High Commissioner for Refugees)':\n",
    "        return \"78\"\n",
    "    elif org_name == 'UNHCR/UNITED NATIONS HIGH COMMISSIONER FOR REFUGEES':\n",
    "        return \"78\"\n",
    "    elif org_name == 'United Nations Office of the United Nations High Commissioner for Refugees':\n",
    "        return \"78\"\n",
    "    elif org_name == 'United Nations Office of the United Nations High Commissioner for Refugees (UNHCR)':\n",
    "        return \"78\"\n",
    "    elif org_name == 'UNFPA':\n",
    "        return \"79\"\n",
    "    elif org_name == 'UNFPA - United Nations Population Fund':\n",
    "        return \"79\"\n",
    "    elif org_name == 'United Nations Population Fund':\n",
    "        return \"79\"\n",
    "    elif org_name == 'UNICEF':\n",
    "        return \"80\"\n",
    "    elif org_name == 'UNICEF - UNITED NATIONS CHILDREN S FUND':\n",
    "        return \"80\"\n",
    "    elif org_name == 'UNICEF - Childrens Fund - PRT':\n",
    "        return \"80\"\n",
    "    elif org_name == 'UNICEF - United Nations Children s Fund':\n",
    "        return \"80\"\n",
    "    elif org_name == 'UNICEF - United Nations Children\\'s Fund':\n",
    "        return \"80\"\n",
    "    elif org_name == 'UNICEF(United Nations Children`s Fund)':\n",
    "        return \"80\"\n",
    "    elif org_name == 'UNICEF(United Nations Children\\'s Fund)':\n",
    "        return \"80\"\n",
    "    elif org_name == 'UNICEF/UNITED NATIONS CHILDRENS FUND':\n",
    "        return \"80\"\n",
    "    elif org_name == 'United Nations Children?s Fund':\n",
    "        return \"80\"\n",
    "    elif org_name == 'United Nations Childrens Fund':\n",
    "        return \"80\"\n",
    "    elif org_name == 'United Nations Children\\'s Fund':\n",
    "        return \"80\"\n",
    "    elif org_name == 'United Nations Children\\'s Fund (UNICEF)':\n",
    "        return \"80\"\n",
    "    elif org_name == 'United Nations Office for Project Services':\n",
    "        return \"81\"\n",
    "    elif org_name == 'University college or other teaching institution research institute or think?tank':\n",
    "        return \"0\"\n",
    "    elif org_name == 'University college or other teaching institution research institute or think-tank':\n",
    "        return \"0\"\n",
    "    elif org_name == 'Unspecified Vendors - Bosnia and Herzegovina':\n",
    "        return \"0\"\n",
    "    elif org_name == 'Watan Foundation':\n",
    "        return \"84\"\n",
    "    elif org_name == 'WHO - World Health Organization':\n",
    "        return \"85\"\n",
    "    elif org_name == 'WHO(World Health Organization)':\n",
    "        return \"85\"\n",
    "    elif org_name == 'World Health Organisation - assessed contributions':\n",
    "        return \"85\"\n",
    "    elif org_name == 'World Health Organisation - core voluntary contributions account':\n",
    "        return \"85\"\n",
    "    elif org_name == 'World Health Organisation (WHO)':\n",
    "        return \"85\"\n",
    "    elif org_name == 'World Health Organization':\n",
    "        return \"85\"\n",
    "    elif org_name == 'World Health Organization (WHO)':\n",
    "        return \"85\"\n",
    "    elif org_name == 'Yemen Development Network for NGOs':\n",
    "        return \"86\"\n",
    "    elif org_name == 'Yemeni Development Network For NGOs':\n",
    "        return \"86\"\n",
    "    elif org_name == 'Yemeni Social Reform Society':\n",
    "        return \"87\"\n",
    "    elif org_name == 'MSB/MYNDIGHETEN F? SAMH?LLSSKYDD & BEREDSKAP':\n",
    "        return \"88\"\n",
    "    elif org_name == 'United Nations (UN) agency fund or commission':\n",
    "        return \"0\"\n",
    "    elif org_name == 'United Nations agency fund or commission (UN)':\n",
    "        return \"0\"\n",
    "    elif org_name == 'Personal Services Contractors - USAID':\n",
    "        return \"0\"\n",
    "    elif org_name == 'NGO-s':\n",
    "        return \"0\"\n",
    "    elif org_name == '03469 - National Execution':\n",
    "        return \"0\"\n",
    "    else: \n",
    "        return \"0\"\n",
    "    \n",
    "oecd_data_simplified_recipientNameYE_14_17['ChannelNameCode'] = oecd_data_simplified_recipientNameYE_14_17['ChannelName'].apply(coding_orgs)\n",
    "oecd_data_simplified_recipientNameYE_14_17['ChannelReportedNameCode'] = oecd_data_simplified_recipientNameYE_14_17['ChannelReportedName'].apply(coding_orgs)\n"
   ]
  },
  {
   "cell_type": "markdown",
   "metadata": {},
   "source": [
    "As we now have two colums with coded organizations, we need one that combines both."
   ]
  },
  {
   "cell_type": "code",
   "execution_count": 21,
   "metadata": {},
   "outputs": [],
   "source": [
    "oecd_data_simplified_recipientNameYE_14_17.insert(5, 'CodedOrg', '')"
   ]
  },
  {
   "cell_type": "code",
   "execution_count": 22,
   "metadata": {},
   "outputs": [
    {
     "name": "stderr",
     "output_type": "stream",
     "text": [
      "C:\\Users\\dpaulus\\AppData\\Local\\Continuum\\miniconda3\\envs\\redcar\\lib\\site-packages\\ipykernel_launcher.py:1: SettingWithCopyWarning:\n",
      "\n",
      "\n",
      "A value is trying to be set on a copy of a slice from a DataFrame.\n",
      "Try using .loc[row_indexer,col_indexer] = value instead\n",
      "\n",
      "See the caveats in the documentation: https://pandas.pydata.org/pandas-docs/stable/user_guide/indexing.html#returning-a-view-versus-a-copy\n",
      "\n"
     ]
    }
   ],
   "source": [
    "oecd_data_simplified_recipientNameYE_14_17['CodedOrg'] = '0'"
   ]
  },
  {
   "cell_type": "code",
   "execution_count": 23,
   "metadata": {},
   "outputs": [],
   "source": [
    "for key, row in oecd_data_simplified_recipientNameYE_14_17.iterrows():\n",
    "    if row['ChannelNameCode'] != '0':\n",
    "        row['CodedOrg'] = row['ChannelNameCode']\n",
    "    if row['ChannelReportedNameCode'] != '0':\n",
    "        row['CodedOrg'] = row['ChannelReportedNameCode']\n"
   ]
  },
  {
   "cell_type": "markdown",
   "metadata": {},
   "source": [
    "Remove some erroneous data that Excel inserted into the CSV."
   ]
  },
  {
   "cell_type": "code",
   "execution_count": 24,
   "metadata": {},
   "outputs": [
    {
     "name": "stderr",
     "output_type": "stream",
     "text": [
      "C:\\Users\\dpaulus\\AppData\\Local\\Continuum\\miniconda3\\envs\\redcar\\lib\\site-packages\\ipykernel_launcher.py:1: SettingWithCopyWarning:\n",
      "\n",
      "\n",
      "A value is trying to be set on a copy of a slice from a DataFrame.\n",
      "Try using .loc[row_indexer,col_indexer] = value instead\n",
      "\n",
      "See the caveats in the documentation: https://pandas.pydata.org/pandas-docs/stable/user_guide/indexing.html#returning-a-view-versus-a-copy\n",
      "\n"
     ]
    }
   ],
   "source": [
    "oecd_data_simplified_recipientNameYE_14_17[\"USD_Disbursement\"]= oecd_data_simplified_recipientNameYE_14_17[\"USD_Disbursement\"].replace('#NULL!', '0') "
   ]
  },
  {
   "cell_type": "markdown",
   "metadata": {},
   "source": [
    "Convert donation amounts into numeric data types."
   ]
  },
  {
   "cell_type": "code",
   "execution_count": 25,
   "metadata": {},
   "outputs": [
    {
     "name": "stderr",
     "output_type": "stream",
     "text": [
      "C:\\Users\\dpaulus\\AppData\\Local\\Continuum\\miniconda3\\envs\\redcar\\lib\\site-packages\\ipykernel_launcher.py:1: SettingWithCopyWarning:\n",
      "\n",
      "\n",
      "A value is trying to be set on a copy of a slice from a DataFrame.\n",
      "Try using .loc[row_indexer,col_indexer] = value instead\n",
      "\n",
      "See the caveats in the documentation: https://pandas.pydata.org/pandas-docs/stable/user_guide/indexing.html#returning-a-view-versus-a-copy\n",
      "\n"
     ]
    }
   ],
   "source": [
    "oecd_data_simplified_recipientNameYE_14_17[\"USD_Disbursement\"] = pd.to_numeric(oecd_data_simplified_recipientNameYE_14_17[\"USD_Disbursement\"])"
   ]
  },
  {
   "cell_type": "markdown",
   "metadata": {},
   "source": [
    "Within the OECD data, amounts are reported as 1/1000000. To make OECD amounts comparable with FTS amounts we multiply OECD amounts by 1000000."
   ]
  },
  {
   "cell_type": "code",
   "execution_count": 26,
   "metadata": {},
   "outputs": [
    {
     "name": "stderr",
     "output_type": "stream",
     "text": [
      "C:\\Users\\dpaulus\\AppData\\Local\\Continuum\\miniconda3\\envs\\redcar\\lib\\site-packages\\ipykernel_launcher.py:1: SettingWithCopyWarning:\n",
      "\n",
      "\n",
      "A value is trying to be set on a copy of a slice from a DataFrame.\n",
      "Try using .loc[row_indexer,col_indexer] = value instead\n",
      "\n",
      "See the caveats in the documentation: https://pandas.pydata.org/pandas-docs/stable/user_guide/indexing.html#returning-a-view-versus-a-copy\n",
      "\n"
     ]
    }
   ],
   "source": [
    "oecd_data_simplified_recipientNameYE_14_17[\"USD_Disbursement\"] = oecd_data_simplified_recipientNameYE_14_17[\"USD_Disbursement\"] *1000000"
   ]
  },
  {
   "cell_type": "markdown",
   "metadata": {},
   "source": [
    "Create a pivot table to aggregate donation amounts by donor, recipient organization and year."
   ]
  },
  {
   "cell_type": "code",
   "execution_count": 27,
   "metadata": {},
   "outputs": [],
   "source": [
    "oecd_data_simplified_recipientNameYE_14_17_pivot = pd.pivot_table(oecd_data_simplified_recipientNameYE_14_17,index=[\"DonorName\",\"CodedOrg\", \"Year\"],values=[\"USD_Disbursement\"])"
   ]
  },
  {
   "cell_type": "markdown",
   "metadata": {},
   "source": [
    "## Merge FTS and OECD data"
   ]
  },
  {
   "cell_type": "markdown",
   "metadata": {},
   "source": [
    "Turn FTS and OECD pivot tables into dataframes."
   ]
  },
  {
   "cell_type": "code",
   "execution_count": 95,
   "metadata": {},
   "outputs": [],
   "source": [
    "oecd_data_simplified_recipientNameYE_14_17_pivotToDF = pd.DataFrame(oecd_data_simplified_recipientNameYE_14_17_pivot.to_records())"
   ]
  },
  {
   "cell_type": "code",
   "execution_count": 96,
   "metadata": {},
   "outputs": [],
   "source": [
    "fts_data_simplified_destinLocYE_14_17_paidDistribu_pivotToDF = pd.DataFrame(fts_data_simplified_destinLocYE_14_17_paidDistribu_pivot.to_records())"
   ]
  },
  {
   "cell_type": "markdown",
   "metadata": {},
   "source": [
    "Rename columns to make merging easier."
   ]
  },
  {
   "cell_type": "code",
   "execution_count": 97,
   "metadata": {},
   "outputs": [],
   "source": [
    "fts_data_simplified_destinLocYE_14_17_paidDistribu_pivotToDF = fts_data_simplified_destinLocYE_14_17_paidDistribu_pivotToDF.rename(columns={\"Source Location\": \"Donor\", \"DestinOrgCode\": \"Organization\", 'Destination Usage year': 'Year', 'Amount (USD)': 'FTS_Amount'})"
   ]
  },
  {
   "cell_type": "code",
   "execution_count": 98,
   "metadata": {},
   "outputs": [],
   "source": [
    "oecd_data_simplified_recipientNameYE_14_17_pivotToDF = oecd_data_simplified_recipientNameYE_14_17_pivotToDF.rename(columns={\"DonorName\": \"Donor\", \"CodedOrg\": \"Organization\", 'Year': 'Year', 'USD_Disbursement': 'OECD_Amount'})"
   ]
  },
  {
   "cell_type": "markdown",
   "metadata": {},
   "source": [
    "Merge the two dataframes into one."
   ]
  },
  {
   "cell_type": "code",
   "execution_count": 99,
   "metadata": {},
   "outputs": [],
   "source": [
    "oecd_fts_merge = oecd_data_simplified_recipientNameYE_14_17_pivotToDF.merge(fts_data_simplified_destinLocYE_14_17_paidDistribu_pivotToDF, how='outer', on=['Donor', 'Organization', 'Year'])"
   ]
  },
  {
   "cell_type": "markdown",
   "metadata": {},
   "source": [
    "## Grand Bargain signatories"
   ]
  },
  {
   "cell_type": "markdown",
   "metadata": {},
   "source": [
    "Only select Grand Bargain signatory donors and organizations in the merged data."
   ]
  },
  {
   "cell_type": "code",
   "execution_count": 100,
   "metadata": {},
   "outputs": [],
   "source": [
    "GBSorgs = ('26', '10', '40', '80', '1', '78', '79', '54', '64')"
   ]
  },
  {
   "cell_type": "code",
   "execution_count": 101,
   "metadata": {},
   "outputs": [],
   "source": [
    "GBSdonors = ('Australia', 'Belgium', 'Bulgaria', 'Canada', 'Czech Republic', 'Denmark', 'EU Institutions', 'Germany', 'Italy', 'Japan', 'Luxembourg', 'Netherlands', 'Norway', 'Poland', 'Sweden', 'Switzerland', 'United Kingdom', 'United States')"
   ]
  },
  {
   "cell_type": "code",
   "execution_count": 102,
   "metadata": {},
   "outputs": [],
   "source": [
    "oecd_fts_merge_onlyGBSdonors = oecd_fts_merge.loc[oecd_fts_merge['Donor'].isin(GBSdonors)]"
   ]
  },
  {
   "cell_type": "code",
   "execution_count": 103,
   "metadata": {},
   "outputs": [],
   "source": [
    "oecd_fts_merge_onlyGBSdonorsAndGBSorgs = oecd_fts_merge_onlyGBSdonors.loc[oecd_fts_merge_onlyGBSdonors['Organization'].isin(GBSorgs)]"
   ]
  },
  {
   "cell_type": "markdown",
   "metadata": {},
   "source": [
    "## Descriptive statistics"
   ]
  },
  {
   "cell_type": "markdown",
   "metadata": {},
   "source": [
    "Check the distribution of reported FTS and OECD amounts."
   ]
  },
  {
   "cell_type": "code",
   "execution_count": 104,
   "metadata": {},
   "outputs": [
    {
     "data": {
      "application/vnd.plotly.v1+json": {
       "config": {
        "plotlyServerURL": "https://plot.ly"
       },
       "data": [
        {
         "marker": {
          "color": "red"
         },
         "name": "FTS",
         "type": "box",
         "xaxis": "x",
         "y": [
          1855288,
          null,
          null,
          null,
          836120,
          278707,
          2440626,
          2239642,
          711035.5,
          1137656,
          null,
          null,
          759857,
          null,
          null,
          6283662,
          4081506.5,
          2017639,
          4249318.333333333,
          2714932,
          786782,
          823970,
          1486989,
          772709.5,
          180995.6,
          1343663.5,
          1115242,
          null,
          null,
          203080,
          180587,
          null,
          null,
          null,
          null,
          null,
          74487,
          1506932,
          3807493,
          4847310,
          null,
          3231540,
          null,
          null,
          null,
          null,
          985978.5,
          null,
          906002,
          4881876,
          null,
          null,
          null,
          null,
          8155102,
          4098457,
          3050281.3333333335,
          8348425.5,
          3357496,
          3062210,
          3350709.5,
          4479283,
          1530612.25,
          4474273,
          5464481,
          9141017,
          null,
          null,
          null,
          null,
          742227.3333333334,
          null,
          null,
          null,
          279330,
          2044625,
          8125507.666666667,
          12039011.166666666,
          2673797,
          null,
          null,
          null,
          15262515,
          null,
          4953998.333333333,
          null,
          718924,
          1628664,
          null,
          391937,
          1179245,
          60000,
          1050000,
          3000000,
          1000000,
          1000000,
          287500,
          520000,
          1049050,
          100000,
          104800,
          5107847.666666667,
          7376584.5,
          7746723,
          6149510.333333333,
          3500000,
          2150000,
          3500000,
          2524791.6666666665,
          null,
          null,
          343879,
          null,
          566893,
          1061571,
          null,
          null,
          null,
          null,
          null,
          3260870,
          5428882,
          null,
          825083,
          859560.5,
          720793.3333333334,
          1799557.5,
          299385.5,
          1177024,
          1756796,
          4034348.6666666665,
          588512,
          547615,
          null,
          null,
          null,
          null,
          740083,
          null,
          500000,
          1096011,
          752559,
          495360.5,
          357867,
          558847,
          2818489,
          1525088,
          1192606,
          2081548,
          1659476,
          457526.2,
          1572343,
          1524266.5,
          2651111.5,
          null,
          null,
          null,
          null,
          null,
          null,
          564334,
          414508,
          null,
          null,
          1108647,
          null,
          1404213,
          2235840,
          1218702,
          1456816,
          1003009,
          null,
          null,
          null,
          null,
          1398239.3333333333,
          3444935.3333333335,
          933333.3333333334,
          null,
          413223,
          959623.5,
          518806.5,
          671141,
          24015152,
          4170429,
          15974694.333333334,
          3384615,
          5651530,
          489256.8,
          2980244.3333333335,
          14307420,
          27656476,
          9218826.333333334,
          null,
          null,
          500000,
          null,
          null,
          null,
          1481147.5,
          6000000,
          null,
          null,
          1000000,
          916666.6666666666,
          1200000,
          2750000,
          10390380.5,
          34287489.333333336,
          17363067.333333332,
          39881588.4,
          8900000,
          22400000,
          5760000,
          3753333.3333333335,
          1000080,
          null,
          2333333.3333333335,
          2778029.8333333335,
          5050940,
          2823166.75,
          2268649,
          3915427,
          1000000,
          54289,
          182482,
          239123,
          1580778,
          3200000,
          3700000,
          3730000,
          6737538.5,
          14269410,
          3557604,
          1310821,
          247424,
          1250000,
          937500,
          1000000,
          602337,
          1500000,
          1250000,
          6400000,
          9000000,
          5119762.25,
          645572,
          833333,
          3180401,
          1086956,
          2849381,
          456156,
          450174,
          986193,
          1200000,
          453001,
          398406,
          501505,
          1513000,
          1100000,
          3381429
         ],
         "yaxis": "y"
        },
        {
         "marker": {
          "color": "blue"
         },
         "name": "OECD",
         "type": "box",
         "xaxis": "x",
         "y": [
          1802780,
          2016085,
          12650.7,
          563634,
          829371,
          2324989.5,
          1823790,
          2254540,
          1127270,
          1127270,
          1132637,
          948201.6,
          385178.5,
          3772450,
          1707622.3333333333,
          6335930,
          4091370,
          3770620,
          4237166.666666667,
          1357494.5,
          391535.5,
          414448.5,
          385176.5,
          423696.3,
          905676,
          1368860,
          616285,
          213808,
          121988,
          213808,
          171046,
          1486900,
          3976185,
          1779770,
          1486900,
          2971410,
          4544220,
          1486900,
          3714270,
          4544220,
          1779770,
          1514740,
          2901244.3333333335,
          3366610,
          3100740.4,
          2525085,
          829685,
          813457.3333333334,
          353865,
          1963700.5,
          371501,
          249584.05,
          497622.5,
          563634.5,
          4179380,
          5768160,
          2889893.3333333335,
          6391604.625,
          2648283.3333333335,
          2440380,
          3280620.6666666665,
          2479990,
          2519128,
          1860415,
          4423310,
          3081196.6666666665,
          1663890,
          1105830,
          6763610,
          554631,
          2211660,
          4162395,
          2653580,
          1109260,
          7740807,
          34477520,
          7740790,
          22169600,
          2653580,
          1109260,
          6690260,
          15781800,
          6655570,
          3317480,
          6256345,
          1109260,
          361853.5,
          1690900,
          1658740,
          0,
          1127270,
          54644.8,
          1050000,
          3000000,
          5602300,
          1000000,
          575000,
          2000000,
          1049050,
          100000,
          104800,
          10000000,
          10000000,
          10000000,
          12992600,
          3500000,
          3100000,
          3500000,
          6574000,
          552914,
          517885.99999999994,
          331697,
          554631,
          552914,
          931659,
          2653580,
          1127270,
          6655560,
          11058300,
          8454510,
          3317480,
          5636340,
          1050170,
          793412,
          806020,
          1071402,
          7919240,
          2901706,
          1240030,
          8809310,
          12453100,
          620017,
          529199,
          52478.9,
          443050,
          1159120,
          1555780,
          1455890,
          535048,
          1050550,
          586486.5,
          2549383.5,
          643826,
          4199963,
          4673630,
          2926870,
          2546980,
          1187070,
          1981830,
          1736110,
          3286130,
          1032605,
          4900370,
          8172340,
          762062,
          1015130.0000000001,
          1523310.0000000002,
          42196.7,
          201479,
          42678.9,
          819674,
          1177733.6666666667,
          1522690,
          17292.100000000002,
          819674,
          909282,
          1421180,
          2284960,
          601092.5,
          1454850,
          1015130.0000000001,
          12677000,
          3055770,
          4723350,
          9657495,
          5233210,
          8815510,
          3428880,
          2543136.6666666665,
          4445175.5,
          9905783.666666666,
          27478410,
          26124766,
          6818190,
          14634700,
          31019844,
          3340740,
          3922735,
          2060260,
          13481800,
          33111600.000000004,
          25641000,
          34766900,
          2000000,
          3000000,
          300000,
          234500,
          582245,
          8024.999999999999,
          1425390,
          1590823.6666666667,
          1172239,
          1626304.2857142857,
          1000000,
          2750000,
          1200000,
          5250000,
          7693748,
          6964887.5,
          30197231.666666668,
          20652914.666666668,
          1112500,
          2556203.3333333335,
          2270000,
          0,
          0,
          705730,
          1503597.5,
          1133489.8,
          3781017.4,
          3040274.285714286,
          null,
          null,
          null,
          null,
          null,
          null,
          null,
          null,
          null,
          null,
          null,
          null,
          null,
          null,
          null,
          null,
          null,
          null,
          null,
          null,
          null,
          null,
          null,
          null,
          null,
          null,
          null,
          null,
          null,
          null,
          null,
          null,
          null,
          null,
          null,
          null,
          null,
          null,
          null
         ],
         "yaxis": "y"
        }
       ],
       "layout": {
        "annotations": [
         {
          "font": {
           "size": 16
          },
          "showarrow": false,
          "text": "FTS",
          "x": 0.5,
          "xanchor": "center",
          "xref": "paper",
          "y": 1,
          "yanchor": "bottom",
          "yref": "paper"
         }
        ],
        "autosize": true,
        "template": {
         "data": {
          "bar": [
           {
            "error_x": {
             "color": "#2a3f5f"
            },
            "error_y": {
             "color": "#2a3f5f"
            },
            "marker": {
             "line": {
              "color": "#E5ECF6",
              "width": 0.5
             }
            },
            "type": "bar"
           }
          ],
          "barpolar": [
           {
            "marker": {
             "line": {
              "color": "#E5ECF6",
              "width": 0.5
             }
            },
            "type": "barpolar"
           }
          ],
          "carpet": [
           {
            "aaxis": {
             "endlinecolor": "#2a3f5f",
             "gridcolor": "white",
             "linecolor": "white",
             "minorgridcolor": "white",
             "startlinecolor": "#2a3f5f"
            },
            "baxis": {
             "endlinecolor": "#2a3f5f",
             "gridcolor": "white",
             "linecolor": "white",
             "minorgridcolor": "white",
             "startlinecolor": "#2a3f5f"
            },
            "type": "carpet"
           }
          ],
          "choropleth": [
           {
            "colorbar": {
             "outlinewidth": 0,
             "ticks": ""
            },
            "type": "choropleth"
           }
          ],
          "contour": [
           {
            "colorbar": {
             "outlinewidth": 0,
             "ticks": ""
            },
            "colorscale": [
             [
              0,
              "#0d0887"
             ],
             [
              0.1111111111111111,
              "#46039f"
             ],
             [
              0.2222222222222222,
              "#7201a8"
             ],
             [
              0.3333333333333333,
              "#9c179e"
             ],
             [
              0.4444444444444444,
              "#bd3786"
             ],
             [
              0.5555555555555556,
              "#d8576b"
             ],
             [
              0.6666666666666666,
              "#ed7953"
             ],
             [
              0.7777777777777778,
              "#fb9f3a"
             ],
             [
              0.8888888888888888,
              "#fdca26"
             ],
             [
              1,
              "#f0f921"
             ]
            ],
            "type": "contour"
           }
          ],
          "contourcarpet": [
           {
            "colorbar": {
             "outlinewidth": 0,
             "ticks": ""
            },
            "type": "contourcarpet"
           }
          ],
          "heatmap": [
           {
            "colorbar": {
             "outlinewidth": 0,
             "ticks": ""
            },
            "colorscale": [
             [
              0,
              "#0d0887"
             ],
             [
              0.1111111111111111,
              "#46039f"
             ],
             [
              0.2222222222222222,
              "#7201a8"
             ],
             [
              0.3333333333333333,
              "#9c179e"
             ],
             [
              0.4444444444444444,
              "#bd3786"
             ],
             [
              0.5555555555555556,
              "#d8576b"
             ],
             [
              0.6666666666666666,
              "#ed7953"
             ],
             [
              0.7777777777777778,
              "#fb9f3a"
             ],
             [
              0.8888888888888888,
              "#fdca26"
             ],
             [
              1,
              "#f0f921"
             ]
            ],
            "type": "heatmap"
           }
          ],
          "heatmapgl": [
           {
            "colorbar": {
             "outlinewidth": 0,
             "ticks": ""
            },
            "colorscale": [
             [
              0,
              "#0d0887"
             ],
             [
              0.1111111111111111,
              "#46039f"
             ],
             [
              0.2222222222222222,
              "#7201a8"
             ],
             [
              0.3333333333333333,
              "#9c179e"
             ],
             [
              0.4444444444444444,
              "#bd3786"
             ],
             [
              0.5555555555555556,
              "#d8576b"
             ],
             [
              0.6666666666666666,
              "#ed7953"
             ],
             [
              0.7777777777777778,
              "#fb9f3a"
             ],
             [
              0.8888888888888888,
              "#fdca26"
             ],
             [
              1,
              "#f0f921"
             ]
            ],
            "type": "heatmapgl"
           }
          ],
          "histogram": [
           {
            "marker": {
             "colorbar": {
              "outlinewidth": 0,
              "ticks": ""
             }
            },
            "type": "histogram"
           }
          ],
          "histogram2d": [
           {
            "colorbar": {
             "outlinewidth": 0,
             "ticks": ""
            },
            "colorscale": [
             [
              0,
              "#0d0887"
             ],
             [
              0.1111111111111111,
              "#46039f"
             ],
             [
              0.2222222222222222,
              "#7201a8"
             ],
             [
              0.3333333333333333,
              "#9c179e"
             ],
             [
              0.4444444444444444,
              "#bd3786"
             ],
             [
              0.5555555555555556,
              "#d8576b"
             ],
             [
              0.6666666666666666,
              "#ed7953"
             ],
             [
              0.7777777777777778,
              "#fb9f3a"
             ],
             [
              0.8888888888888888,
              "#fdca26"
             ],
             [
              1,
              "#f0f921"
             ]
            ],
            "type": "histogram2d"
           }
          ],
          "histogram2dcontour": [
           {
            "colorbar": {
             "outlinewidth": 0,
             "ticks": ""
            },
            "colorscale": [
             [
              0,
              "#0d0887"
             ],
             [
              0.1111111111111111,
              "#46039f"
             ],
             [
              0.2222222222222222,
              "#7201a8"
             ],
             [
              0.3333333333333333,
              "#9c179e"
             ],
             [
              0.4444444444444444,
              "#bd3786"
             ],
             [
              0.5555555555555556,
              "#d8576b"
             ],
             [
              0.6666666666666666,
              "#ed7953"
             ],
             [
              0.7777777777777778,
              "#fb9f3a"
             ],
             [
              0.8888888888888888,
              "#fdca26"
             ],
             [
              1,
              "#f0f921"
             ]
            ],
            "type": "histogram2dcontour"
           }
          ],
          "mesh3d": [
           {
            "colorbar": {
             "outlinewidth": 0,
             "ticks": ""
            },
            "type": "mesh3d"
           }
          ],
          "parcoords": [
           {
            "line": {
             "colorbar": {
              "outlinewidth": 0,
              "ticks": ""
             }
            },
            "type": "parcoords"
           }
          ],
          "pie": [
           {
            "automargin": true,
            "type": "pie"
           }
          ],
          "scatter": [
           {
            "marker": {
             "colorbar": {
              "outlinewidth": 0,
              "ticks": ""
             }
            },
            "type": "scatter"
           }
          ],
          "scatter3d": [
           {
            "line": {
             "colorbar": {
              "outlinewidth": 0,
              "ticks": ""
             }
            },
            "marker": {
             "colorbar": {
              "outlinewidth": 0,
              "ticks": ""
             }
            },
            "type": "scatter3d"
           }
          ],
          "scattercarpet": [
           {
            "marker": {
             "colorbar": {
              "outlinewidth": 0,
              "ticks": ""
             }
            },
            "type": "scattercarpet"
           }
          ],
          "scattergeo": [
           {
            "marker": {
             "colorbar": {
              "outlinewidth": 0,
              "ticks": ""
             }
            },
            "type": "scattergeo"
           }
          ],
          "scattergl": [
           {
            "marker": {
             "colorbar": {
              "outlinewidth": 0,
              "ticks": ""
             }
            },
            "type": "scattergl"
           }
          ],
          "scattermapbox": [
           {
            "marker": {
             "colorbar": {
              "outlinewidth": 0,
              "ticks": ""
             }
            },
            "type": "scattermapbox"
           }
          ],
          "scatterpolar": [
           {
            "marker": {
             "colorbar": {
              "outlinewidth": 0,
              "ticks": ""
             }
            },
            "type": "scatterpolar"
           }
          ],
          "scatterpolargl": [
           {
            "marker": {
             "colorbar": {
              "outlinewidth": 0,
              "ticks": ""
             }
            },
            "type": "scatterpolargl"
           }
          ],
          "scatterternary": [
           {
            "marker": {
             "colorbar": {
              "outlinewidth": 0,
              "ticks": ""
             }
            },
            "type": "scatterternary"
           }
          ],
          "surface": [
           {
            "colorbar": {
             "outlinewidth": 0,
             "ticks": ""
            },
            "colorscale": [
             [
              0,
              "#0d0887"
             ],
             [
              0.1111111111111111,
              "#46039f"
             ],
             [
              0.2222222222222222,
              "#7201a8"
             ],
             [
              0.3333333333333333,
              "#9c179e"
             ],
             [
              0.4444444444444444,
              "#bd3786"
             ],
             [
              0.5555555555555556,
              "#d8576b"
             ],
             [
              0.6666666666666666,
              "#ed7953"
             ],
             [
              0.7777777777777778,
              "#fb9f3a"
             ],
             [
              0.8888888888888888,
              "#fdca26"
             ],
             [
              1,
              "#f0f921"
             ]
            ],
            "type": "surface"
           }
          ],
          "table": [
           {
            "cells": {
             "fill": {
              "color": "#EBF0F8"
             },
             "line": {
              "color": "white"
             }
            },
            "header": {
             "fill": {
              "color": "#C8D4E3"
             },
             "line": {
              "color": "white"
             }
            },
            "type": "table"
           }
          ]
         },
         "layout": {
          "annotationdefaults": {
           "arrowcolor": "#2a3f5f",
           "arrowhead": 0,
           "arrowwidth": 1
          },
          "coloraxis": {
           "colorbar": {
            "outlinewidth": 0,
            "ticks": ""
           }
          },
          "colorscale": {
           "diverging": [
            [
             0,
             "#8e0152"
            ],
            [
             0.1,
             "#c51b7d"
            ],
            [
             0.2,
             "#de77ae"
            ],
            [
             0.3,
             "#f1b6da"
            ],
            [
             0.4,
             "#fde0ef"
            ],
            [
             0.5,
             "#f7f7f7"
            ],
            [
             0.6,
             "#e6f5d0"
            ],
            [
             0.7,
             "#b8e186"
            ],
            [
             0.8,
             "#7fbc41"
            ],
            [
             0.9,
             "#4d9221"
            ],
            [
             1,
             "#276419"
            ]
           ],
           "sequential": [
            [
             0,
             "#0d0887"
            ],
            [
             0.1111111111111111,
             "#46039f"
            ],
            [
             0.2222222222222222,
             "#7201a8"
            ],
            [
             0.3333333333333333,
             "#9c179e"
            ],
            [
             0.4444444444444444,
             "#bd3786"
            ],
            [
             0.5555555555555556,
             "#d8576b"
            ],
            [
             0.6666666666666666,
             "#ed7953"
            ],
            [
             0.7777777777777778,
             "#fb9f3a"
            ],
            [
             0.8888888888888888,
             "#fdca26"
            ],
            [
             1,
             "#f0f921"
            ]
           ],
           "sequentialminus": [
            [
             0,
             "#0d0887"
            ],
            [
             0.1111111111111111,
             "#46039f"
            ],
            [
             0.2222222222222222,
             "#7201a8"
            ],
            [
             0.3333333333333333,
             "#9c179e"
            ],
            [
             0.4444444444444444,
             "#bd3786"
            ],
            [
             0.5555555555555556,
             "#d8576b"
            ],
            [
             0.6666666666666666,
             "#ed7953"
            ],
            [
             0.7777777777777778,
             "#fb9f3a"
            ],
            [
             0.8888888888888888,
             "#fdca26"
            ],
            [
             1,
             "#f0f921"
            ]
           ]
          },
          "colorway": [
           "#636efa",
           "#EF553B",
           "#00cc96",
           "#ab63fa",
           "#FFA15A",
           "#19d3f3",
           "#FF6692",
           "#B6E880",
           "#FF97FF",
           "#FECB52"
          ],
          "font": {
           "color": "#2a3f5f"
          },
          "geo": {
           "bgcolor": "white",
           "lakecolor": "white",
           "landcolor": "#E5ECF6",
           "showlakes": true,
           "showland": true,
           "subunitcolor": "white"
          },
          "hoverlabel": {
           "align": "left"
          },
          "hovermode": "closest",
          "mapbox": {
           "style": "light"
          },
          "paper_bgcolor": "white",
          "plot_bgcolor": "#E5ECF6",
          "polar": {
           "angularaxis": {
            "gridcolor": "white",
            "linecolor": "white",
            "ticks": ""
           },
           "bgcolor": "#E5ECF6",
           "radialaxis": {
            "gridcolor": "white",
            "linecolor": "white",
            "ticks": ""
           }
          },
          "scene": {
           "xaxis": {
            "backgroundcolor": "#E5ECF6",
            "gridcolor": "white",
            "gridwidth": 2,
            "linecolor": "white",
            "showbackground": true,
            "ticks": "",
            "zerolinecolor": "white"
           },
           "yaxis": {
            "backgroundcolor": "#E5ECF6",
            "gridcolor": "white",
            "gridwidth": 2,
            "linecolor": "white",
            "showbackground": true,
            "ticks": "",
            "zerolinecolor": "white"
           },
           "zaxis": {
            "backgroundcolor": "#E5ECF6",
            "gridcolor": "white",
            "gridwidth": 2,
            "linecolor": "white",
            "showbackground": true,
            "ticks": "",
            "zerolinecolor": "white"
           }
          },
          "shapedefaults": {
           "line": {
            "color": "#2a3f5f"
           }
          },
          "ternary": {
           "aaxis": {
            "gridcolor": "white",
            "linecolor": "white",
            "ticks": ""
           },
           "baxis": {
            "gridcolor": "white",
            "linecolor": "white",
            "ticks": ""
           },
           "bgcolor": "#E5ECF6",
           "caxis": {
            "gridcolor": "white",
            "linecolor": "white",
            "ticks": ""
           }
          },
          "title": {
           "x": 0.05
          },
          "xaxis": {
           "automargin": true,
           "gridcolor": "white",
           "linecolor": "white",
           "ticks": "",
           "title": {
            "standoff": 15
           },
           "zerolinecolor": "white",
           "zerolinewidth": 2
          },
          "yaxis": {
           "automargin": true,
           "gridcolor": "white",
           "linecolor": "white",
           "ticks": "",
           "title": {
            "standoff": 15
           },
           "zerolinecolor": "white",
           "zerolinewidth": 2
          }
         }
        },
        "xaxis": {
         "anchor": "y",
         "autorange": true,
         "domain": [
          0,
          1
         ],
         "range": [
          -0.5,
          1.5
         ],
         "type": "category"
        },
        "yaxis": {
         "anchor": "x",
         "autorange": true,
         "domain": [
          0,
          1
         ],
         "range": [
          -2215643.8,
          42097232.199999996
         ],
         "type": "linear"
        }
       }
      },
      "image/png": "[encoded data removed]",
      "text/html": [
       "<div>\n",
       "        \n",
       "        \n",
       "            <div id=\"3c32f418-9b24-4b99-abf0-332bcb512a74\" class=\"plotly-graph-div\" style=\"height:525px; width:100%;\"></div>\n",
       "            <script type=\"text/javascript\">\n",
       "                require([\"plotly\"], function(Plotly) {\n",
       "                    window.PLOTLYENV=window.PLOTLYENV || {};\n",
       "                    \n",
       "                if (document.getElementById(\"3c32f418-9b24-4b99-abf0-332bcb512a74\")) {\n",
       "                    Plotly.newPlot(\n",
       "                        '3c32f418-9b24-4b99-abf0-332bcb512a74',\n",
       "                        [{\"marker\": {\"color\": \"red\"}, \"name\": \"FTS\", \"type\": \"box\", \"xaxis\": \"x\", \"y\": [1855288.0, null, null, null, 836120.0, 278707.0, 2440626.0, 2239642.0, 711035.5, 1137656.0, null, null, 759857.0, null, null, 6283662.0, 4081506.5, 2017639.0, 4249318.333333333, 2714932.0, 786782.0, 823970.0, 1486989.0, 772709.5, 180995.6, 1343663.5, 1115242.0, null, null, 203080.0, 180587.0, null, null, null, null, null, 74487.0, 1506932.0, 3807493.0, 4847310.0, null, 3231540.0, null, null, null, null, 985978.5, null, 906002.0, 4881876.0, null, null, null, null, 8155102.0, 4098457.0, 3050281.3333333335, 8348425.5, 3357496.0, 3062210.0, 3350709.5, 4479283.0, 1530612.25, 4474273.0, 5464481.0, 9141017.0, null, null, null, null, 742227.3333333334, null, null, null, 279330.0, 2044625.0, 8125507.666666667, 12039011.166666666, 2673797.0, null, null, null, 15262515.0, null, 4953998.333333333, null, 718924.0, 1628664.0, null, 391937.0, 1179245.0, 60000.0, 1050000.0, 3000000.0, 1000000.0, 1000000.0, 287500.0, 520000.0, 1049050.0, 100000.0, 104800.0, 5107847.666666667, 7376584.5, 7746723.0, 6149510.333333333, 3500000.0, 2150000.0, 3500000.0, 2524791.6666666665, null, null, 343879.0, null, 566893.0, 1061571.0, null, null, null, null, null, 3260870.0, 5428882.0, null, 825083.0, 859560.5, 720793.3333333334, 1799557.5, 299385.5, 1177024.0, 1756796.0, 4034348.6666666665, 588512.0, 547615.0, null, null, null, null, 740083.0, null, 500000.0, 1096011.0, 752559.0, 495360.5, 357867.0, 558847.0, 2818489.0, 1525088.0, 1192606.0, 2081548.0, 1659476.0, 457526.2, 1572343.0, 1524266.5, 2651111.5, null, null, null, null, null, null, 564334.0, 414508.0, null, null, 1108647.0, null, 1404213.0, 2235840.0, 1218702.0, 1456816.0, 1003009.0, null, null, null, null, 1398239.3333333333, 3444935.3333333335, 933333.3333333334, null, 413223.0, 959623.5, 518806.5, 671141.0, 24015152.0, 4170429.0, 15974694.333333334, 3384615.0, 5651530.0, 489256.8, 2980244.3333333335, 14307420.0, 27656476.0, 9218826.333333334, null, null, 500000.0, null, null, null, 1481147.5, 6000000.0, null, null, 1000000.0, 916666.6666666666, 1200000.0, 2750000.0, 10390380.5, 34287489.333333336, 17363067.333333332, 39881588.4, 8900000.0, 22400000.0, 5760000.0, 3753333.3333333335, 1000080.0, null, 2333333.3333333335, 2778029.8333333335, 5050940.0, 2823166.75, 2268649.0, 3915427.0, 1000000.0, 54289.0, 182482.0, 239123.0, 1580778.0, 3200000.0, 3700000.0, 3730000.0, 6737538.5, 14269410.0, 3557604.0, 1310821.0, 247424.0, 1250000.0, 937500.0, 1000000.0, 602337.0, 1500000.0, 1250000.0, 6400000.0, 9000000.0, 5119762.25, 645572.0, 833333.0, 3180401.0, 1086956.0, 2849381.0, 456156.0, 450174.0, 986193.0, 1200000.0, 453001.0, 398406.0, 501505.0, 1513000.0, 1100000.0, 3381429.0], \"yaxis\": \"y\"}, {\"marker\": {\"color\": \"blue\"}, \"name\": \"OECD\", \"type\": \"box\", \"xaxis\": \"x\", \"y\": [1802780.0, 2016085.0, 12650.7, 563634.0, 829371.0, 2324989.5, 1823790.0, 2254540.0, 1127270.0, 1127270.0, 1132637.0, 948201.6, 385178.5, 3772450.0, 1707622.3333333333, 6335930.0, 4091370.0, 3770620.0, 4237166.666666667, 1357494.5, 391535.5, 414448.5, 385176.5, 423696.3, 905676.0, 1368860.0, 616285.0, 213808.0, 121988.0, 213808.0, 171046.0, 1486900.0, 3976185.0, 1779770.0, 1486900.0, 2971410.0, 4544220.0, 1486900.0, 3714270.0, 4544220.0, 1779770.0, 1514740.0, 2901244.3333333335, 3366610.0, 3100740.4, 2525085.0, 829685.0, 813457.3333333334, 353865.0, 1963700.5, 371501.0, 249584.05, 497622.5, 563634.5, 4179380.0, 5768160.0, 2889893.3333333335, 6391604.625, 2648283.3333333335, 2440380.0, 3280620.6666666665, 2479990.0, 2519128.0, 1860415.0, 4423310.0, 3081196.6666666665, 1663890.0, 1105830.0, 6763610.0, 554631.0, 2211660.0, 4162395.0, 2653580.0, 1109260.0, 7740807.0, 34477520.0, 7740790.0, 22169600.0, 2653580.0, 1109260.0, 6690260.0, 15781800.0, 6655570.0, 3317480.0, 6256345.0, 1109260.0, 361853.5, 1690900.0, 1658740.0, 0.0, 1127270.0, 54644.8, 1050000.0, 3000000.0, 5602300.0, 1000000.0, 575000.0, 2000000.0, 1049050.0, 100000.0, 104800.0, 10000000.0, 10000000.0, 10000000.0, 12992600.0, 3500000.0, 3100000.0, 3500000.0, 6574000.0, 552914.0, 517885.99999999994, 331697.0, 554631.0, 552914.0, 931659.0, 2653580.0, 1127270.0, 6655560.0, 11058300.0, 8454510.0, 3317480.0, 5636340.0, 1050170.0, 793412.0, 806020.0, 1071402.0, 7919240.0, 2901706.0, 1240030.0, 8809310.0, 12453100.0, 620017.0, 529199.0, 52478.9, 443050.0, 1159120.0, 1555780.0, 1455890.0, 535048.0, 1050550.0, 586486.5, 2549383.5, 643826.0, 4199963.0, 4673630.0, 2926870.0, 2546980.0, 1187070.0, 1981830.0, 1736110.0, 3286130.0, 1032605.0, 4900370.0, 8172340.0, 762062.0, 1015130.0000000001, 1523310.0000000002, 42196.7, 201479.0, 42678.9, 819674.0, 1177733.6666666667, 1522690.0, 17292.100000000002, 819674.0, 909282.0, 1421180.0, 2284960.0, 601092.5, 1454850.0, 1015130.0000000001, 12677000.0, 3055770.0, 4723350.0, 9657495.0, 5233210.0, 8815510.0, 3428880.0, 2543136.6666666665, 4445175.5, 9905783.666666666, 27478410.0, 26124766.0, 6818190.0, 14634700.0, 31019844.0, 3340740.0, 3922735.0, 2060260.0, 13481800.0, 33111600.000000004, 25641000.0, 34766900.0, 2000000.0, 3000000.0, 300000.0, 234500.0, 582245.0, 8024.999999999999, 1425390.0, 1590823.6666666667, 1172239.0, 1626304.2857142857, 1000000.0, 2750000.0, 1200000.0, 5250000.0, 7693748.0, 6964887.5, 30197231.666666668, 20652914.666666668, 1112500.0, 2556203.3333333335, 2270000.0, 0.0, 0.0, 705730.0, 1503597.5, 1133489.8, 3781017.4, 3040274.285714286, null, null, null, null, null, null, null, null, null, null, null, null, null, null, null, null, null, null, null, null, null, null, null, null, null, null, null, null, null, null, null, null, null, null, null, null, null, null, null], \"yaxis\": \"y\"}],\n",
       "                        {\"annotations\": [{\"font\": {\"size\": 16}, \"showarrow\": false, \"text\": \"FTS\", \"x\": 0.5, \"xanchor\": \"center\", \"xref\": \"paper\", \"y\": 1.0, \"yanchor\": \"bottom\", \"yref\": \"paper\"}], \"template\": {\"data\": {\"bar\": [{\"error_x\": {\"color\": \"#2a3f5f\"}, \"error_y\": {\"color\": \"#2a3f5f\"}, \"marker\": {\"line\": {\"color\": \"#E5ECF6\", \"width\": 0.5}}, \"type\": \"bar\"}], \"barpolar\": [{\"marker\": {\"line\": {\"color\": \"#E5ECF6\", \"width\": 0.5}}, \"type\": \"barpolar\"}], \"carpet\": [{\"aaxis\": {\"endlinecolor\": \"#2a3f5f\", \"gridcolor\": \"white\", \"linecolor\": \"white\", \"minorgridcolor\": \"white\", \"startlinecolor\": \"#2a3f5f\"}, \"baxis\": {\"endlinecolor\": \"#2a3f5f\", \"gridcolor\": \"white\", \"linecolor\": \"white\", \"minorgridcolor\": \"white\", \"startlinecolor\": \"#2a3f5f\"}, \"type\": \"carpet\"}], \"choropleth\": [{\"colorbar\": {\"outlinewidth\": 0, \"ticks\": \"\"}, \"type\": \"choropleth\"}], \"contour\": [{\"colorbar\": {\"outlinewidth\": 0, \"ticks\": \"\"}, \"colorscale\": [[0.0, \"#0d0887\"], [0.1111111111111111, \"#46039f\"], [0.2222222222222222, \"#7201a8\"], [0.3333333333333333, \"#9c179e\"], [0.4444444444444444, \"#bd3786\"], [0.5555555555555556, \"#d8576b\"], [0.6666666666666666, \"#ed7953\"], [0.7777777777777778, \"#fb9f3a\"], [0.8888888888888888, \"#fdca26\"], [1.0, \"#f0f921\"]], \"type\": \"contour\"}], \"contourcarpet\": [{\"colorbar\": {\"outlinewidth\": 0, \"ticks\": \"\"}, \"type\": \"contourcarpet\"}], \"heatmap\": [{\"colorbar\": {\"outlinewidth\": 0, \"ticks\": \"\"}, \"colorscale\": [[0.0, \"#0d0887\"], [0.1111111111111111, \"#46039f\"], [0.2222222222222222, \"#7201a8\"], [0.3333333333333333, \"#9c179e\"], [0.4444444444444444, \"#bd3786\"], [0.5555555555555556, \"#d8576b\"], [0.6666666666666666, \"#ed7953\"], [0.7777777777777778, \"#fb9f3a\"], [0.8888888888888888, \"#fdca26\"], [1.0, \"#f0f921\"]], \"type\": \"heatmap\"}], \"heatmapgl\": [{\"colorbar\": {\"outlinewidth\": 0, \"ticks\": \"\"}, \"colorscale\": [[0.0, \"#0d0887\"], [0.1111111111111111, \"#46039f\"], [0.2222222222222222, \"#7201a8\"], [0.3333333333333333, \"#9c179e\"], [0.4444444444444444, \"#bd3786\"], [0.5555555555555556, \"#d8576b\"], [0.6666666666666666, \"#ed7953\"], [0.7777777777777778, \"#fb9f3a\"], [0.8888888888888888, \"#fdca26\"], [1.0, \"#f0f921\"]], \"type\": \"heatmapgl\"}], \"histogram\": [{\"marker\": {\"colorbar\": {\"outlinewidth\": 0, \"ticks\": \"\"}}, \"type\": \"histogram\"}], \"histogram2d\": [{\"colorbar\": {\"outlinewidth\": 0, \"ticks\": \"\"}, \"colorscale\": [[0.0, \"#0d0887\"], [0.1111111111111111, \"#46039f\"], [0.2222222222222222, \"#7201a8\"], [0.3333333333333333, \"#9c179e\"], [0.4444444444444444, \"#bd3786\"], [0.5555555555555556, \"#d8576b\"], [0.6666666666666666, \"#ed7953\"], [0.7777777777777778, \"#fb9f3a\"], [0.8888888888888888, \"#fdca26\"], [1.0, \"#f0f921\"]], \"type\": \"histogram2d\"}], \"histogram2dcontour\": [{\"colorbar\": {\"outlinewidth\": 0, \"ticks\": \"\"}, \"colorscale\": [[0.0, \"#0d0887\"], [0.1111111111111111, \"#46039f\"], [0.2222222222222222, \"#7201a8\"], [0.3333333333333333, \"#9c179e\"], [0.4444444444444444, \"#bd3786\"], [0.5555555555555556, \"#d8576b\"], [0.6666666666666666, \"#ed7953\"], [0.7777777777777778, \"#fb9f3a\"], [0.8888888888888888, \"#fdca26\"], [1.0, \"#f0f921\"]], \"type\": \"histogram2dcontour\"}], \"mesh3d\": [{\"colorbar\": {\"outlinewidth\": 0, \"ticks\": \"\"}, \"type\": \"mesh3d\"}], \"parcoords\": [{\"line\": {\"colorbar\": {\"outlinewidth\": 0, \"ticks\": \"\"}}, \"type\": \"parcoords\"}], \"pie\": [{\"automargin\": true, \"type\": \"pie\"}], \"scatter\": [{\"marker\": {\"colorbar\": {\"outlinewidth\": 0, \"ticks\": \"\"}}, \"type\": \"scatter\"}], \"scatter3d\": [{\"line\": {\"colorbar\": {\"outlinewidth\": 0, \"ticks\": \"\"}}, \"marker\": {\"colorbar\": {\"outlinewidth\": 0, \"ticks\": \"\"}}, \"type\": \"scatter3d\"}], \"scattercarpet\": [{\"marker\": {\"colorbar\": {\"outlinewidth\": 0, \"ticks\": \"\"}}, \"type\": \"scattercarpet\"}], \"scattergeo\": [{\"marker\": {\"colorbar\": {\"outlinewidth\": 0, \"ticks\": \"\"}}, \"type\": \"scattergeo\"}], \"scattergl\": [{\"marker\": {\"colorbar\": {\"outlinewidth\": 0, \"ticks\": \"\"}}, \"type\": \"scattergl\"}], \"scattermapbox\": [{\"marker\": {\"colorbar\": {\"outlinewidth\": 0, \"ticks\": \"\"}}, \"type\": \"scattermapbox\"}], \"scatterpolar\": [{\"marker\": {\"colorbar\": {\"outlinewidth\": 0, \"ticks\": \"\"}}, \"type\": \"scatterpolar\"}], \"scatterpolargl\": [{\"marker\": {\"colorbar\": {\"outlinewidth\": 0, \"ticks\": \"\"}}, \"type\": \"scatterpolargl\"}], \"scatterternary\": [{\"marker\": {\"colorbar\": {\"outlinewidth\": 0, \"ticks\": \"\"}}, \"type\": \"scatterternary\"}], \"surface\": [{\"colorbar\": {\"outlinewidth\": 0, \"ticks\": \"\"}, \"colorscale\": [[0.0, \"#0d0887\"], [0.1111111111111111, \"#46039f\"], [0.2222222222222222, \"#7201a8\"], [0.3333333333333333, \"#9c179e\"], [0.4444444444444444, \"#bd3786\"], [0.5555555555555556, \"#d8576b\"], [0.6666666666666666, \"#ed7953\"], [0.7777777777777778, \"#fb9f3a\"], [0.8888888888888888, \"#fdca26\"], [1.0, \"#f0f921\"]], \"type\": \"surface\"}], \"table\": [{\"cells\": {\"fill\": {\"color\": \"#EBF0F8\"}, \"line\": {\"color\": \"white\"}}, \"header\": {\"fill\": {\"color\": \"#C8D4E3\"}, \"line\": {\"color\": \"white\"}}, \"type\": \"table\"}]}, \"layout\": {\"annotationdefaults\": {\"arrowcolor\": \"#2a3f5f\", \"arrowhead\": 0, \"arrowwidth\": 1}, \"coloraxis\": {\"colorbar\": {\"outlinewidth\": 0, \"ticks\": \"\"}}, \"colorscale\": {\"diverging\": [[0, \"#8e0152\"], [0.1, \"#c51b7d\"], [0.2, \"#de77ae\"], [0.3, \"#f1b6da\"], [0.4, \"#fde0ef\"], [0.5, \"#f7f7f7\"], [0.6, \"#e6f5d0\"], [0.7, \"#b8e186\"], [0.8, \"#7fbc41\"], [0.9, \"#4d9221\"], [1, \"#276419\"]], \"sequential\": [[0.0, \"#0d0887\"], [0.1111111111111111, \"#46039f\"], [0.2222222222222222, \"#7201a8\"], [0.3333333333333333, \"#9c179e\"], [0.4444444444444444, \"#bd3786\"], [0.5555555555555556, \"#d8576b\"], [0.6666666666666666, \"#ed7953\"], [0.7777777777777778, \"#fb9f3a\"], [0.8888888888888888, \"#fdca26\"], [1.0, \"#f0f921\"]], \"sequentialminus\": [[0.0, \"#0d0887\"], [0.1111111111111111, \"#46039f\"], [0.2222222222222222, \"#7201a8\"], [0.3333333333333333, \"#9c179e\"], [0.4444444444444444, \"#bd3786\"], [0.5555555555555556, \"#d8576b\"], [0.6666666666666666, \"#ed7953\"], [0.7777777777777778, \"#fb9f3a\"], [0.8888888888888888, \"#fdca26\"], [1.0, \"#f0f921\"]]}, \"colorway\": [\"#636efa\", \"#EF553B\", \"#00cc96\", \"#ab63fa\", \"#FFA15A\", \"#19d3f3\", \"#FF6692\", \"#B6E880\", \"#FF97FF\", \"#FECB52\"], \"font\": {\"color\": \"#2a3f5f\"}, \"geo\": {\"bgcolor\": \"white\", \"lakecolor\": \"white\", \"landcolor\": \"#E5ECF6\", \"showlakes\": true, \"showland\": true, \"subunitcolor\": \"white\"}, \"hoverlabel\": {\"align\": \"left\"}, \"hovermode\": \"closest\", \"mapbox\": {\"style\": \"light\"}, \"paper_bgcolor\": \"white\", \"plot_bgcolor\": \"#E5ECF6\", \"polar\": {\"angularaxis\": {\"gridcolor\": \"white\", \"linecolor\": \"white\", \"ticks\": \"\"}, \"bgcolor\": \"#E5ECF6\", \"radialaxis\": {\"gridcolor\": \"white\", \"linecolor\": \"white\", \"ticks\": \"\"}}, \"scene\": {\"xaxis\": {\"backgroundcolor\": \"#E5ECF6\", \"gridcolor\": \"white\", \"gridwidth\": 2, \"linecolor\": \"white\", \"showbackground\": true, \"ticks\": \"\", \"zerolinecolor\": \"white\"}, \"yaxis\": {\"backgroundcolor\": \"#E5ECF6\", \"gridcolor\": \"white\", \"gridwidth\": 2, \"linecolor\": \"white\", \"showbackground\": true, \"ticks\": \"\", \"zerolinecolor\": \"white\"}, \"zaxis\": {\"backgroundcolor\": \"#E5ECF6\", \"gridcolor\": \"white\", \"gridwidth\": 2, \"linecolor\": \"white\", \"showbackground\": true, \"ticks\": \"\", \"zerolinecolor\": \"white\"}}, \"shapedefaults\": {\"line\": {\"color\": \"#2a3f5f\"}}, \"ternary\": {\"aaxis\": {\"gridcolor\": \"white\", \"linecolor\": \"white\", \"ticks\": \"\"}, \"baxis\": {\"gridcolor\": \"white\", \"linecolor\": \"white\", \"ticks\": \"\"}, \"bgcolor\": \"#E5ECF6\", \"caxis\": {\"gridcolor\": \"white\", \"linecolor\": \"white\", \"ticks\": \"\"}}, \"title\": {\"x\": 0.05}, \"xaxis\": {\"automargin\": true, \"gridcolor\": \"white\", \"linecolor\": \"white\", \"ticks\": \"\", \"title\": {\"standoff\": 15}, \"zerolinecolor\": \"white\", \"zerolinewidth\": 2}, \"yaxis\": {\"automargin\": true, \"gridcolor\": \"white\", \"linecolor\": \"white\", \"ticks\": \"\", \"title\": {\"standoff\": 15}, \"zerolinecolor\": \"white\", \"zerolinewidth\": 2}}}, \"xaxis\": {\"anchor\": \"y\", \"domain\": [0.0, 1.0]}, \"yaxis\": {\"anchor\": \"x\", \"domain\": [0.0, 1.0]}},\n",
       "                        {\"responsive\": true}\n",
       "                    ).then(function(){\n",
       "                            \n",
       "var gd = document.getElementById('3c32f418-9b24-4b99-abf0-332bcb512a74');\n",
       "var x = new MutationObserver(function (mutations, observer) {{\n",
       "        var display = window.getComputedStyle(gd).display;\n",
       "        if (!display || display === 'none') {{\n",
       "            console.log([gd, 'removed!']);\n",
       "            Plotly.purge(gd);\n",
       "            observer.disconnect();\n",
       "        }}\n",
       "}});\n",
       "\n",
       "// Listen for the removal of the full notebook cells\n",
       "var notebookContainer = gd.closest('#notebook-container');\n",
       "if (notebookContainer) {{\n",
       "    x.observe(notebookContainer, {childList: true});\n",
       "}}\n",
       "\n",
       "// Listen for the clearing of the current output cell\n",
       "var outputEl = gd.closest('.output');\n",
       "if (outputEl) {{\n",
       "    x.observe(outputEl, {childList: true});\n",
       "}}\n",
       "\n",
       "                        })\n",
       "                };\n",
       "                });\n",
       "            </script>\n",
       "        </div>"
      ]
     },
     "metadata": {},
     "output_type": "display_data"
    }
   ],
   "source": [
    "plot_FTSandOECD_amount_distribution = make_subplots(rows=1, cols=1, subplot_titles=(\"FTS\", \"OECD\"))\n",
    "plot_FTSandOECD_amount_distribution.add_trace(go.Box(y=oecd_fts_merge_onlyGBSdonorsAndGBSorgs['FTS_Amount'], name='FTS', marker_color = 'red'),\n",
    "              row=1, col=1)\n",
    "plot_FTSandOECD_amount_distribution.add_trace(go.Box(y=oecd_fts_merge_onlyGBSdonorsAndGBSorgs['OECD_Amount'], name='OECD', marker_color = 'blue'),\n",
    "              row=1, col=1)\n",
    "plot_FTSandOECD_amount_distribution.show()"
   ]
  },
  {
   "cell_type": "markdown",
   "metadata": {},
   "source": [
    "## Remove outliers"
   ]
  },
  {
   "cell_type": "markdown",
   "metadata": {},
   "source": [
    "Replace all NAs with 0s."
   ]
  },
  {
   "cell_type": "code",
   "execution_count": 105,
   "metadata": {},
   "outputs": [],
   "source": [
    "#Replace NAs with 0s.\n",
    "oecd_fts_merge_onlyGBSdonorsAndGBSorgs = oecd_fts_merge_onlyGBSdonorsAndGBSorgs.fillna(0)"
   ]
  },
  {
   "cell_type": "markdown",
   "metadata": {},
   "source": [
    "Create copy of merged dataframe, excluding outliers. "
   ]
  },
  {
   "cell_type": "code",
   "execution_count": 110,
   "metadata": {},
   "outputs": [],
   "source": [
    "oecd_fts_merge_onlyGBSdonorsAndGBSorgs_exclOutliers = oecd_fts_merge_onlyGBSdonorsAndGBSorgs[(np.abs(stats.zscore(oecd_fts_merge_onlyGBSdonorsAndGBSorgs['FTS_Amount'])) < 1.5)]"
   ]
  },
  {
   "cell_type": "markdown",
   "metadata": {},
   "source": [
    "## Sums and Means of FTS and OECD data"
   ]
  },
  {
   "cell_type": "markdown",
   "metadata": {},
   "source": [
    "Sums of all FTS and OECD amounts, per year."
   ]
  },
  {
   "cell_type": "code",
   "execution_count": 111,
   "metadata": {},
   "outputs": [],
   "source": [
    "oecd_fts_merge_onlyGBSdonorsAndGBSorgs_exclOutliers_sums = oecd_fts_merge_onlyGBSdonorsAndGBSorgs_exclOutliers.groupby(['Year']).sum()"
   ]
  },
  {
   "cell_type": "markdown",
   "metadata": {},
   "source": [
    "Means of all FTS and OECD amounts, per year."
   ]
  },
  {
   "cell_type": "code",
   "execution_count": 112,
   "metadata": {},
   "outputs": [],
   "source": [
    "oecd_fts_merge_onlyGBSdonorsAndGBSorgs_exclOutliers_means = oecd_fts_merge_onlyGBSdonorsAndGBSorgs_exclOutliers.groupby(['Year']).mean()"
   ]
  },
  {
   "cell_type": "markdown",
   "metadata": {},
   "source": [
    "Plot sums and means of FTS and OECD data"
   ]
  },
  {
   "cell_type": "code",
   "execution_count": 114,
   "metadata": {},
   "outputs": [
    {
     "data": {
      "application/vnd.plotly.v1+json": {
       "config": {
        "plotlyServerURL": "https://plot.ly"
       },
       "data": [
        {
         "line": {
          "color": "red"
         },
         "mode": "lines+markers",
         "name": "FTS",
         "type": "scatter",
         "x": [
          "2014",
          "2015",
          "2016",
          "2017",
          "2016",
          "2017",
          "2016",
          "2017",
          "2017",
          "2017",
          "2016",
          "2017",
          "2017",
          "2016",
          "2017",
          "2014",
          "2015",
          "2016",
          "2017",
          "2014",
          "2015",
          "2016",
          "2017",
          "2017",
          "2014",
          "2015",
          "2017",
          "2017",
          "2015",
          "2017",
          "2017",
          "2015",
          "2017",
          "2014",
          "2015",
          "2016",
          "2017",
          "2015",
          "2016",
          "2017",
          "2014",
          "2017",
          "2014",
          "2015",
          "2016",
          "2017",
          "2014",
          "2015",
          "2016",
          "2017",
          "2014",
          "2015",
          "2016",
          "2017",
          "2014",
          "2015",
          "2016",
          "2017",
          "2014",
          "2015",
          "2016",
          "2017",
          "2014",
          "2015",
          "2016",
          "2017",
          "2015",
          "2016",
          "2017",
          "2015",
          "2016",
          "2017",
          "2014",
          "2015",
          "2016",
          "2017",
          "2016",
          "2017",
          "2014",
          "2015",
          "2016",
          "2017",
          "2015",
          "2016",
          "2017",
          "2015",
          "2017",
          "2017",
          "2016",
          "2017",
          "2017",
          "2014",
          "2015",
          "2016",
          "2017",
          "2014",
          "2015",
          "2016",
          "2017",
          "2016",
          "2017",
          "2014",
          "2015",
          "2016",
          "2017",
          "2014",
          "2015",
          "2016",
          "2017",
          "2016",
          "2017",
          "2014",
          "2015",
          "2016",
          "2017",
          "2014",
          "2017",
          "2015",
          "2016",
          "2017",
          "2016",
          "2017",
          "2016",
          "2014",
          "2015",
          "2016",
          "2017",
          "2017",
          "2015",
          "2016",
          "2017",
          "2015",
          "2017",
          "2014",
          "2015",
          "2016",
          "2017",
          "2014",
          "2015",
          "2016",
          "2017",
          "2014",
          "2015",
          "2016",
          "2017",
          "2017",
          "2014",
          "2015",
          "2016",
          "2017",
          "2014",
          "2015",
          "2016",
          "2017",
          "2015",
          "2016",
          "2017",
          "2014",
          "2015",
          "2016",
          "2014",
          "2015",
          "2016",
          "2017",
          "2014",
          "2015",
          "2016",
          "2017",
          "2014",
          "2015",
          "2016",
          "2014",
          "2015",
          "2016",
          "2017",
          "2014",
          "2015",
          "2016",
          "2017",
          "2014",
          "2015",
          "2016",
          "2017",
          "2015",
          "2016",
          "2017",
          "2015",
          "2016",
          "2017",
          "2014",
          "2015",
          "2016",
          "2017",
          "2015",
          "2016",
          "2014",
          "2015",
          "2016",
          "2017",
          "2014",
          "2015",
          "2016",
          "2017",
          "2014",
          "2015",
          "2016",
          "2017",
          "2014",
          "2015",
          "2016",
          "2017",
          "2014",
          "2015",
          "2016",
          "2017",
          "2016",
          "2017",
          "2014",
          "2015",
          "2016",
          "2017",
          "2017",
          "2017",
          "2015",
          "2017",
          "2014",
          "2015",
          "2015",
          "2016",
          "2017",
          "2017",
          "2014",
          "2015",
          "2015",
          "2016",
          "2014",
          "2014",
          "2016",
          "2014",
          "2015",
          "2016",
          "2014",
          "2015",
          "2016",
          "2017",
          "2017",
          "2014",
          "2015",
          "2016",
          "2017",
          "2017",
          "2017",
          "2017",
          "2017",
          "2014",
          "2015",
          "2016",
          "2016",
          "2016",
          "2017"
         ],
         "xaxis": "x",
         "y": [
          86291958.71666667,
          196959144.1666667,
          149341809.8333333,
          210433491.7
         ],
         "yaxis": "y"
        },
        {
         "line": {
          "color": "blue"
         },
         "mode": "lines+markers",
         "name": "OECD",
         "type": "scatter",
         "x": [
          "2014",
          "2015",
          "2016",
          "2017",
          "2016",
          "2017",
          "2016",
          "2017",
          "2017",
          "2017",
          "2016",
          "2017",
          "2017",
          "2016",
          "2017",
          "2014",
          "2015",
          "2016",
          "2017",
          "2014",
          "2015",
          "2016",
          "2017",
          "2017",
          "2014",
          "2015",
          "2017",
          "2017",
          "2015",
          "2017",
          "2017",
          "2015",
          "2017",
          "2014",
          "2015",
          "2016",
          "2017",
          "2015",
          "2016",
          "2017",
          "2014",
          "2017",
          "2014",
          "2015",
          "2016",
          "2017",
          "2014",
          "2015",
          "2016",
          "2017",
          "2014",
          "2015",
          "2016",
          "2017",
          "2014",
          "2015",
          "2016",
          "2017",
          "2014",
          "2015",
          "2016",
          "2017",
          "2014",
          "2015",
          "2016",
          "2017",
          "2015",
          "2016",
          "2017",
          "2015",
          "2016",
          "2017",
          "2014",
          "2015",
          "2016",
          "2017",
          "2016",
          "2017",
          "2014",
          "2015",
          "2016",
          "2017",
          "2015",
          "2016",
          "2017",
          "2015",
          "2017",
          "2017",
          "2016",
          "2017",
          "2017",
          "2014",
          "2015",
          "2016",
          "2017",
          "2014",
          "2015",
          "2016",
          "2017",
          "2016",
          "2017",
          "2014",
          "2015",
          "2016",
          "2017",
          "2014",
          "2015",
          "2016",
          "2017",
          "2016",
          "2017",
          "2014",
          "2015",
          "2016",
          "2017",
          "2014",
          "2017",
          "2015",
          "2016",
          "2017",
          "2016",
          "2017",
          "2016",
          "2014",
          "2015",
          "2016",
          "2017",
          "2017",
          "2015",
          "2016",
          "2017",
          "2015",
          "2017",
          "2014",
          "2015",
          "2016",
          "2017",
          "2014",
          "2015",
          "2016",
          "2017",
          "2014",
          "2015",
          "2016",
          "2017",
          "2017",
          "2014",
          "2015",
          "2016",
          "2017",
          "2014",
          "2015",
          "2016",
          "2017",
          "2015",
          "2016",
          "2017",
          "2014",
          "2015",
          "2016",
          "2014",
          "2015",
          "2016",
          "2017",
          "2014",
          "2015",
          "2016",
          "2017",
          "2014",
          "2015",
          "2016",
          "2014",
          "2015",
          "2016",
          "2017",
          "2014",
          "2015",
          "2016",
          "2017",
          "2014",
          "2015",
          "2016",
          "2017",
          "2015",
          "2016",
          "2017",
          "2015",
          "2016",
          "2017",
          "2014",
          "2015",
          "2016",
          "2017",
          "2015",
          "2016",
          "2014",
          "2015",
          "2016",
          "2017",
          "2014",
          "2015",
          "2016",
          "2017",
          "2014",
          "2015",
          "2016",
          "2017",
          "2014",
          "2015",
          "2016",
          "2017",
          "2014",
          "2015",
          "2016",
          "2017",
          "2016",
          "2017",
          "2014",
          "2015",
          "2016",
          "2017",
          "2017",
          "2017",
          "2015",
          "2017",
          "2014",
          "2015",
          "2015",
          "2016",
          "2017",
          "2017",
          "2014",
          "2015",
          "2015",
          "2016",
          "2014",
          "2014",
          "2016",
          "2014",
          "2015",
          "2016",
          "2014",
          "2015",
          "2016",
          "2017",
          "2017",
          "2014",
          "2015",
          "2016",
          "2017",
          "2017",
          "2017",
          "2017",
          "2017",
          "2014",
          "2015",
          "2016",
          "2016",
          "2016",
          "2017"
         ],
         "xaxis": "x",
         "y": [
          112097056.56666666,
          154376777.51666668,
          248806206.06666666,
          368801650.69642854
         ],
         "yaxis": "y"
        },
        {
         "line": {
          "color": "red"
         },
         "mode": "lines+markers",
         "name": "FTS",
         "showlegend": false,
         "type": "scatter",
         "x": [
          "2014",
          "2015",
          "2016",
          "2017",
          "2016",
          "2017",
          "2016",
          "2017",
          "2017",
          "2017",
          "2016",
          "2017",
          "2017",
          "2016",
          "2017",
          "2014",
          "2015",
          "2016",
          "2017",
          "2014",
          "2015",
          "2016",
          "2017",
          "2017",
          "2014",
          "2015",
          "2017",
          "2017",
          "2015",
          "2017",
          "2017",
          "2015",
          "2017",
          "2014",
          "2015",
          "2016",
          "2017",
          "2015",
          "2016",
          "2017",
          "2014",
          "2017",
          "2014",
          "2015",
          "2016",
          "2017",
          "2014",
          "2015",
          "2016",
          "2017",
          "2014",
          "2015",
          "2016",
          "2017",
          "2014",
          "2015",
          "2016",
          "2017",
          "2014",
          "2015",
          "2016",
          "2017",
          "2014",
          "2015",
          "2016",
          "2017",
          "2015",
          "2016",
          "2017",
          "2015",
          "2016",
          "2017",
          "2014",
          "2015",
          "2016",
          "2017",
          "2016",
          "2017",
          "2014",
          "2015",
          "2016",
          "2017",
          "2015",
          "2016",
          "2017",
          "2015",
          "2017",
          "2017",
          "2016",
          "2017",
          "2017",
          "2014",
          "2015",
          "2016",
          "2017",
          "2014",
          "2015",
          "2016",
          "2017",
          "2016",
          "2017",
          "2014",
          "2015",
          "2016",
          "2017",
          "2014",
          "2015",
          "2016",
          "2017",
          "2016",
          "2017",
          "2014",
          "2015",
          "2016",
          "2017",
          "2014",
          "2017",
          "2015",
          "2016",
          "2017",
          "2016",
          "2017",
          "2016",
          "2014",
          "2015",
          "2016",
          "2017",
          "2017",
          "2015",
          "2016",
          "2017",
          "2015",
          "2017",
          "2014",
          "2015",
          "2016",
          "2017",
          "2014",
          "2015",
          "2016",
          "2017",
          "2014",
          "2015",
          "2016",
          "2017",
          "2017",
          "2014",
          "2015",
          "2016",
          "2017",
          "2014",
          "2015",
          "2016",
          "2017",
          "2015",
          "2016",
          "2017",
          "2014",
          "2015",
          "2016",
          "2014",
          "2015",
          "2016",
          "2017",
          "2014",
          "2015",
          "2016",
          "2017",
          "2014",
          "2015",
          "2016",
          "2014",
          "2015",
          "2016",
          "2017",
          "2014",
          "2015",
          "2016",
          "2017",
          "2014",
          "2015",
          "2016",
          "2017",
          "2015",
          "2016",
          "2017",
          "2015",
          "2016",
          "2017",
          "2014",
          "2015",
          "2016",
          "2017",
          "2015",
          "2016",
          "2014",
          "2015",
          "2016",
          "2017",
          "2014",
          "2015",
          "2016",
          "2017",
          "2014",
          "2015",
          "2016",
          "2017",
          "2014",
          "2015",
          "2016",
          "2017",
          "2014",
          "2015",
          "2016",
          "2017",
          "2016",
          "2017",
          "2014",
          "2015",
          "2016",
          "2017",
          "2017",
          "2017",
          "2015",
          "2017",
          "2014",
          "2015",
          "2015",
          "2016",
          "2017",
          "2017",
          "2014",
          "2015",
          "2015",
          "2016",
          "2014",
          "2014",
          "2016",
          "2014",
          "2015",
          "2016",
          "2014",
          "2015",
          "2016",
          "2017",
          "2017",
          "2014",
          "2015",
          "2016",
          "2017",
          "2017",
          "2017",
          "2017",
          "2017",
          "2014",
          "2015",
          "2016",
          "2016",
          "2016",
          "2017"
         ],
         "xaxis": "x2",
         "y": [
          1797749.1399305556,
          3228838.428961749,
          2228982.2363184076,
          2505160.61547619
         ],
         "yaxis": "y2"
        },
        {
         "line": {
          "color": "blue"
         },
         "mode": "lines+markers",
         "name": "OECD",
         "showlegend": false,
         "type": "scatter",
         "x": [
          "2014",
          "2015",
          "2016",
          "2017",
          "2016",
          "2017",
          "2016",
          "2017",
          "2017",
          "2017",
          "2016",
          "2017",
          "2017",
          "2016",
          "2017",
          "2014",
          "2015",
          "2016",
          "2017",
          "2014",
          "2015",
          "2016",
          "2017",
          "2017",
          "2014",
          "2015",
          "2017",
          "2017",
          "2015",
          "2017",
          "2017",
          "2015",
          "2017",
          "2014",
          "2015",
          "2016",
          "2017",
          "2015",
          "2016",
          "2017",
          "2014",
          "2017",
          "2014",
          "2015",
          "2016",
          "2017",
          "2014",
          "2015",
          "2016",
          "2017",
          "2014",
          "2015",
          "2016",
          "2017",
          "2014",
          "2015",
          "2016",
          "2017",
          "2014",
          "2015",
          "2016",
          "2017",
          "2014",
          "2015",
          "2016",
          "2017",
          "2015",
          "2016",
          "2017",
          "2015",
          "2016",
          "2017",
          "2014",
          "2015",
          "2016",
          "2017",
          "2016",
          "2017",
          "2014",
          "2015",
          "2016",
          "2017",
          "2015",
          "2016",
          "2017",
          "2015",
          "2017",
          "2017",
          "2016",
          "2017",
          "2017",
          "2014",
          "2015",
          "2016",
          "2017",
          "2014",
          "2015",
          "2016",
          "2017",
          "2016",
          "2017",
          "2014",
          "2015",
          "2016",
          "2017",
          "2014",
          "2015",
          "2016",
          "2017",
          "2016",
          "2017",
          "2014",
          "2015",
          "2016",
          "2017",
          "2014",
          "2017",
          "2015",
          "2016",
          "2017",
          "2016",
          "2017",
          "2016",
          "2014",
          "2015",
          "2016",
          "2017",
          "2017",
          "2015",
          "2016",
          "2017",
          "2015",
          "2017",
          "2014",
          "2015",
          "2016",
          "2017",
          "2014",
          "2015",
          "2016",
          "2017",
          "2014",
          "2015",
          "2016",
          "2017",
          "2017",
          "2014",
          "2015",
          "2016",
          "2017",
          "2014",
          "2015",
          "2016",
          "2017",
          "2015",
          "2016",
          "2017",
          "2014",
          "2015",
          "2016",
          "2014",
          "2015",
          "2016",
          "2017",
          "2014",
          "2015",
          "2016",
          "2017",
          "2014",
          "2015",
          "2016",
          "2014",
          "2015",
          "2016",
          "2017",
          "2014",
          "2015",
          "2016",
          "2017",
          "2014",
          "2015",
          "2016",
          "2017",
          "2015",
          "2016",
          "2017",
          "2015",
          "2016",
          "2017",
          "2014",
          "2015",
          "2016",
          "2017",
          "2015",
          "2016",
          "2014",
          "2015",
          "2016",
          "2017",
          "2014",
          "2015",
          "2016",
          "2017",
          "2014",
          "2015",
          "2016",
          "2017",
          "2014",
          "2015",
          "2016",
          "2017",
          "2014",
          "2015",
          "2016",
          "2017",
          "2016",
          "2017",
          "2014",
          "2015",
          "2016",
          "2017",
          "2017",
          "2017",
          "2015",
          "2017",
          "2014",
          "2015",
          "2015",
          "2016",
          "2017",
          "2017",
          "2014",
          "2015",
          "2015",
          "2016",
          "2014",
          "2014",
          "2016",
          "2014",
          "2015",
          "2016",
          "2014",
          "2015",
          "2016",
          "2017",
          "2017",
          "2014",
          "2015",
          "2016",
          "2017",
          "2017",
          "2017",
          "2017",
          "2017",
          "2014",
          "2015",
          "2016",
          "2016",
          "2016",
          "2017"
         ],
         "xaxis": "x2",
         "y": [
          2335355.345138889,
          2530766.8445355194,
          3713525.463681592,
          4390495.841624149
         ],
         "yaxis": "y2"
        }
       ],
       "layout": {
        "annotations": [
         {
          "font": {
           "size": 16
          },
          "showarrow": false,
          "text": "Sums",
          "x": 0.225,
          "xanchor": "center",
          "xref": "paper",
          "y": 1,
          "yanchor": "bottom",
          "yref": "paper"
         },
         {
          "font": {
           "size": 16
          },
          "showarrow": false,
          "text": "Means",
          "x": 0.775,
          "xanchor": "center",
          "xref": "paper",
          "y": 1,
          "yanchor": "bottom",
          "yref": "paper"
         }
        ],
        "autosize": true,
        "template": {
         "data": {
          "bar": [
           {
            "error_x": {
             "color": "#2a3f5f"
            },
            "error_y": {
             "color": "#2a3f5f"
            },
            "marker": {
             "line": {
              "color": "#E5ECF6",
              "width": 0.5
             }
            },
            "type": "bar"
           }
          ],
          "barpolar": [
           {
            "marker": {
             "line": {
              "color": "#E5ECF6",
              "width": 0.5
             }
            },
            "type": "barpolar"
           }
          ],
          "carpet": [
           {
            "aaxis": {
             "endlinecolor": "#2a3f5f",
             "gridcolor": "white",
             "linecolor": "white",
             "minorgridcolor": "white",
             "startlinecolor": "#2a3f5f"
            },
            "baxis": {
             "endlinecolor": "#2a3f5f",
             "gridcolor": "white",
             "linecolor": "white",
             "minorgridcolor": "white",
             "startlinecolor": "#2a3f5f"
            },
            "type": "carpet"
           }
          ],
          "choropleth": [
           {
            "colorbar": {
             "outlinewidth": 0,
             "ticks": ""
            },
            "type": "choropleth"
           }
          ],
          "contour": [
           {
            "colorbar": {
             "outlinewidth": 0,
             "ticks": ""
            },
            "colorscale": [
             [
              0,
              "#0d0887"
             ],
             [
              0.1111111111111111,
              "#46039f"
             ],
             [
              0.2222222222222222,
              "#7201a8"
             ],
             [
              0.3333333333333333,
              "#9c179e"
             ],
             [
              0.4444444444444444,
              "#bd3786"
             ],
             [
              0.5555555555555556,
              "#d8576b"
             ],
             [
              0.6666666666666666,
              "#ed7953"
             ],
             [
              0.7777777777777778,
              "#fb9f3a"
             ],
             [
              0.8888888888888888,
              "#fdca26"
             ],
             [
              1,
              "#f0f921"
             ]
            ],
            "type": "contour"
           }
          ],
          "contourcarpet": [
           {
            "colorbar": {
             "outlinewidth": 0,
             "ticks": ""
            },
            "type": "contourcarpet"
           }
          ],
          "heatmap": [
           {
            "colorbar": {
             "outlinewidth": 0,
             "ticks": ""
            },
            "colorscale": [
             [
              0,
              "#0d0887"
             ],
             [
              0.1111111111111111,
              "#46039f"
             ],
             [
              0.2222222222222222,
              "#7201a8"
             ],
             [
              0.3333333333333333,
              "#9c179e"
             ],
             [
              0.4444444444444444,
              "#bd3786"
             ],
             [
              0.5555555555555556,
              "#d8576b"
             ],
             [
              0.6666666666666666,
              "#ed7953"
             ],
             [
              0.7777777777777778,
              "#fb9f3a"
             ],
             [
              0.8888888888888888,
              "#fdca26"
             ],
             [
              1,
              "#f0f921"
             ]
            ],
            "type": "heatmap"
           }
          ],
          "heatmapgl": [
           {
            "colorbar": {
             "outlinewidth": 0,
             "ticks": ""
            },
            "colorscale": [
             [
              0,
              "#0d0887"
             ],
             [
              0.1111111111111111,
              "#46039f"
             ],
             [
              0.2222222222222222,
              "#7201a8"
             ],
             [
              0.3333333333333333,
              "#9c179e"
             ],
             [
              0.4444444444444444,
              "#bd3786"
             ],
             [
              0.5555555555555556,
              "#d8576b"
             ],
             [
              0.6666666666666666,
              "#ed7953"
             ],
             [
              0.7777777777777778,
              "#fb9f3a"
             ],
             [
              0.8888888888888888,
              "#fdca26"
             ],
             [
              1,
              "#f0f921"
             ]
            ],
            "type": "heatmapgl"
           }
          ],
          "histogram": [
           {
            "marker": {
             "colorbar": {
              "outlinewidth": 0,
              "ticks": ""
             }
            },
            "type": "histogram"
           }
          ],
          "histogram2d": [
           {
            "colorbar": {
             "outlinewidth": 0,
             "ticks": ""
            },
            "colorscale": [
             [
              0,
              "#0d0887"
             ],
             [
              0.1111111111111111,
              "#46039f"
             ],
             [
              0.2222222222222222,
              "#7201a8"
             ],
             [
              0.3333333333333333,
              "#9c179e"
             ],
             [
              0.4444444444444444,
              "#bd3786"
             ],
             [
              0.5555555555555556,
              "#d8576b"
             ],
             [
              0.6666666666666666,
              "#ed7953"
             ],
             [
              0.7777777777777778,
              "#fb9f3a"
             ],
             [
              0.8888888888888888,
              "#fdca26"
             ],
             [
              1,
              "#f0f921"
             ]
            ],
            "type": "histogram2d"
           }
          ],
          "histogram2dcontour": [
           {
            "colorbar": {
             "outlinewidth": 0,
             "ticks": ""
            },
            "colorscale": [
             [
              0,
              "#0d0887"
             ],
             [
              0.1111111111111111,
              "#46039f"
             ],
             [
              0.2222222222222222,
              "#7201a8"
             ],
             [
              0.3333333333333333,
              "#9c179e"
             ],
             [
              0.4444444444444444,
              "#bd3786"
             ],
             [
              0.5555555555555556,
              "#d8576b"
             ],
             [
              0.6666666666666666,
              "#ed7953"
             ],
             [
              0.7777777777777778,
              "#fb9f3a"
             ],
             [
              0.8888888888888888,
              "#fdca26"
             ],
             [
              1,
              "#f0f921"
             ]
            ],
            "type": "histogram2dcontour"
           }
          ],
          "mesh3d": [
           {
            "colorbar": {
             "outlinewidth": 0,
             "ticks": ""
            },
            "type": "mesh3d"
           }
          ],
          "parcoords": [
           {
            "line": {
             "colorbar": {
              "outlinewidth": 0,
              "ticks": ""
             }
            },
            "type": "parcoords"
           }
          ],
          "pie": [
           {
            "automargin": true,
            "type": "pie"
           }
          ],
          "scatter": [
           {
            "marker": {
             "colorbar": {
              "outlinewidth": 0,
              "ticks": ""
             }
            },
            "type": "scatter"
           }
          ],
          "scatter3d": [
           {
            "line": {
             "colorbar": {
              "outlinewidth": 0,
              "ticks": ""
             }
            },
            "marker": {
             "colorbar": {
              "outlinewidth": 0,
              "ticks": ""
             }
            },
            "type": "scatter3d"
           }
          ],
          "scattercarpet": [
           {
            "marker": {
             "colorbar": {
              "outlinewidth": 0,
              "ticks": ""
             }
            },
            "type": "scattercarpet"
           }
          ],
          "scattergeo": [
           {
            "marker": {
             "colorbar": {
              "outlinewidth": 0,
              "ticks": ""
             }
            },
            "type": "scattergeo"
           }
          ],
          "scattergl": [
           {
            "marker": {
             "colorbar": {
              "outlinewidth": 0,
              "ticks": ""
             }
            },
            "type": "scattergl"
           }
          ],
          "scattermapbox": [
           {
            "marker": {
             "colorbar": {
              "outlinewidth": 0,
              "ticks": ""
             }
            },
            "type": "scattermapbox"
           }
          ],
          "scatterpolar": [
           {
            "marker": {
             "colorbar": {
              "outlinewidth": 0,
              "ticks": ""
             }
            },
            "type": "scatterpolar"
           }
          ],
          "scatterpolargl": [
           {
            "marker": {
             "colorbar": {
              "outlinewidth": 0,
              "ticks": ""
             }
            },
            "type": "scatterpolargl"
           }
          ],
          "scatterternary": [
           {
            "marker": {
             "colorbar": {
              "outlinewidth": 0,
              "ticks": ""
             }
            },
            "type": "scatterternary"
           }
          ],
          "surface": [
           {
            "colorbar": {
             "outlinewidth": 0,
             "ticks": ""
            },
            "colorscale": [
             [
              0,
              "#0d0887"
             ],
             [
              0.1111111111111111,
              "#46039f"
             ],
             [
              0.2222222222222222,
              "#7201a8"
             ],
             [
              0.3333333333333333,
              "#9c179e"
             ],
             [
              0.4444444444444444,
              "#bd3786"
             ],
             [
              0.5555555555555556,
              "#d8576b"
             ],
             [
              0.6666666666666666,
              "#ed7953"
             ],
             [
              0.7777777777777778,
              "#fb9f3a"
             ],
             [
              0.8888888888888888,
              "#fdca26"
             ],
             [
              1,
              "#f0f921"
             ]
            ],
            "type": "surface"
           }
          ],
          "table": [
           {
            "cells": {
             "fill": {
              "color": "#EBF0F8"
             },
             "line": {
              "color": "white"
             }
            },
            "header": {
             "fill": {
              "color": "#C8D4E3"
             },
             "line": {
              "color": "white"
             }
            },
            "type": "table"
           }
          ]
         },
         "layout": {
          "annotationdefaults": {
           "arrowcolor": "#2a3f5f",
           "arrowhead": 0,
           "arrowwidth": 1
          },
          "coloraxis": {
           "colorbar": {
            "outlinewidth": 0,
            "ticks": ""
           }
          },
          "colorscale": {
           "diverging": [
            [
             0,
             "#8e0152"
            ],
            [
             0.1,
             "#c51b7d"
            ],
            [
             0.2,
             "#de77ae"
            ],
            [
             0.3,
             "#f1b6da"
            ],
            [
             0.4,
             "#fde0ef"
            ],
            [
             0.5,
             "#f7f7f7"
            ],
            [
             0.6,
             "#e6f5d0"
            ],
            [
             0.7,
             "#b8e186"
            ],
            [
             0.8,
             "#7fbc41"
            ],
            [
             0.9,
             "#4d9221"
            ],
            [
             1,
             "#276419"
            ]
           ],
           "sequential": [
            [
             0,
             "#0d0887"
            ],
            [
             0.1111111111111111,
             "#46039f"
            ],
            [
             0.2222222222222222,
             "#7201a8"
            ],
            [
             0.3333333333333333,
             "#9c179e"
            ],
            [
             0.4444444444444444,
             "#bd3786"
            ],
            [
             0.5555555555555556,
             "#d8576b"
            ],
            [
             0.6666666666666666,
             "#ed7953"
            ],
            [
             0.7777777777777778,
             "#fb9f3a"
            ],
            [
             0.8888888888888888,
             "#fdca26"
            ],
            [
             1,
             "#f0f921"
            ]
           ],
           "sequentialminus": [
            [
             0,
             "#0d0887"
            ],
            [
             0.1111111111111111,
             "#46039f"
            ],
            [
             0.2222222222222222,
             "#7201a8"
            ],
            [
             0.3333333333333333,
             "#9c179e"
            ],
            [
             0.4444444444444444,
             "#bd3786"
            ],
            [
             0.5555555555555556,
             "#d8576b"
            ],
            [
             0.6666666666666666,
             "#ed7953"
            ],
            [
             0.7777777777777778,
             "#fb9f3a"
            ],
            [
             0.8888888888888888,
             "#fdca26"
            ],
            [
             1,
             "#f0f921"
            ]
           ]
          },
          "colorway": [
           "#636efa",
           "#EF553B",
           "#00cc96",
           "#ab63fa",
           "#FFA15A",
           "#19d3f3",
           "#FF6692",
           "#B6E880",
           "#FF97FF",
           "#FECB52"
          ],
          "font": {
           "color": "#2a3f5f"
          },
          "geo": {
           "bgcolor": "white",
           "lakecolor": "white",
           "landcolor": "#E5ECF6",
           "showlakes": true,
           "showland": true,
           "subunitcolor": "white"
          },
          "hoverlabel": {
           "align": "left"
          },
          "hovermode": "closest",
          "mapbox": {
           "style": "light"
          },
          "paper_bgcolor": "white",
          "plot_bgcolor": "#E5ECF6",
          "polar": {
           "angularaxis": {
            "gridcolor": "white",
            "linecolor": "white",
            "ticks": ""
           },
           "bgcolor": "#E5ECF6",
           "radialaxis": {
            "gridcolor": "white",
            "linecolor": "white",
            "ticks": ""
           }
          },
          "scene": {
           "xaxis": {
            "backgroundcolor": "#E5ECF6",
            "gridcolor": "white",
            "gridwidth": 2,
            "linecolor": "white",
            "showbackground": true,
            "ticks": "",
            "zerolinecolor": "white"
           },
           "yaxis": {
            "backgroundcolor": "#E5ECF6",
            "gridcolor": "white",
            "gridwidth": 2,
            "linecolor": "white",
            "showbackground": true,
            "ticks": "",
            "zerolinecolor": "white"
           },
           "zaxis": {
            "backgroundcolor": "#E5ECF6",
            "gridcolor": "white",
            "gridwidth": 2,
            "linecolor": "white",
            "showbackground": true,
            "ticks": "",
            "zerolinecolor": "white"
           }
          },
          "shapedefaults": {
           "line": {
            "color": "#2a3f5f"
           }
          },
          "ternary": {
           "aaxis": {
            "gridcolor": "white",
            "linecolor": "white",
            "ticks": ""
           },
           "baxis": {
            "gridcolor": "white",
            "linecolor": "white",
            "ticks": ""
           },
           "bgcolor": "#E5ECF6",
           "caxis": {
            "gridcolor": "white",
            "linecolor": "white",
            "ticks": ""
           }
          },
          "title": {
           "x": 0.05
          },
          "xaxis": {
           "automargin": true,
           "gridcolor": "white",
           "linecolor": "white",
           "ticks": "",
           "title": {
            "standoff": 15
           },
           "zerolinecolor": "white",
           "zerolinewidth": 2
          },
          "yaxis": {
           "automargin": true,
           "gridcolor": "white",
           "linecolor": "white",
           "ticks": "",
           "title": {
            "standoff": 15
           },
           "zerolinecolor": "white",
           "zerolinewidth": 2
          }
         }
        },
        "xaxis": {
         "anchor": "y",
         "autorange": true,
         "domain": [
          0,
          0.45
         ],
         "range": [
          2013.8056891690164,
          2017.1943108309836
         ],
         "type": "linear"
        },
        "xaxis2": {
         "anchor": "y2",
         "autorange": true,
         "domain": [
          0.55,
          1
         ],
         "range": [
          2013.8056891690164,
          2017.1943108309836
         ],
         "type": "linear"
        },
        "yaxis": {
         "anchor": "x",
         "autorange": true,
         "domain": [
          0,
          1
         ],
         "range": [
          65598573.63534653,
          389495035.77774864
         ],
         "type": "linear"
        },
        "yaxis2": {
         "anchor": "x2",
         "autorange": true,
         "domain": [
          0,
          1
         ],
         "range": [
          1607834.5726090504,
          4580410.4089456545
         ],
         "type": "linear"
        }
       }
      },
      "image/png": "[encoded data removed]",
      "text/html": [
       "<div>\n",
       "        \n",
       "        \n",
       "            <div id=\"bbb5f3a2-7666-47e7-8a31-65da28dd87ec\" class=\"plotly-graph-div\" style=\"height:525px; width:100%;\"></div>\n",
       "            <script type=\"text/javascript\">\n",
       "                require([\"plotly\"], function(Plotly) {\n",
       "                    window.PLOTLYENV=window.PLOTLYENV || {};\n",
       "                    \n",
       "                if (document.getElementById(\"bbb5f3a2-7666-47e7-8a31-65da28dd87ec\")) {\n",
       "                    Plotly.newPlot(\n",
       "                        'bbb5f3a2-7666-47e7-8a31-65da28dd87ec',\n",
       "                        [{\"line\": {\"color\": \"red\"}, \"mode\": \"lines+markers\", \"name\": \"FTS\", \"type\": \"scatter\", \"x\": [\"2014\", \"2015\", \"2016\", \"2017\", \"2016\", \"2017\", \"2016\", \"2017\", \"2017\", \"2017\", \"2016\", \"2017\", \"2017\", \"2016\", \"2017\", \"2014\", \"2015\", \"2016\", \"2017\", \"2014\", \"2015\", \"2016\", \"2017\", \"2017\", \"2014\", \"2015\", \"2017\", \"2017\", \"2015\", \"2017\", \"2017\", \"2015\", \"2017\", \"2014\", \"2015\", \"2016\", \"2017\", \"2015\", \"2016\", \"2017\", \"2014\", \"2017\", \"2014\", \"2015\", \"2016\", \"2017\", \"2014\", \"2015\", \"2016\", \"2017\", \"2014\", \"2015\", \"2016\", \"2017\", \"2014\", \"2015\", \"2016\", \"2017\", \"2014\", \"2015\", \"2016\", \"2017\", \"2014\", \"2015\", \"2016\", \"2017\", \"2015\", \"2016\", \"2017\", \"2015\", \"2016\", \"2017\", \"2014\", \"2015\", \"2016\", \"2017\", \"2016\", \"2017\", \"2014\", \"2015\", \"2016\", \"2017\", \"2015\", \"2016\", \"2017\", \"2015\", \"2017\", \"2017\", \"2016\", \"2017\", \"2017\", \"2014\", \"2015\", \"2016\", \"2017\", \"2014\", \"2015\", \"2016\", \"2017\", \"2016\", \"2017\", \"2014\", \"2015\", \"2016\", \"2017\", \"2014\", \"2015\", \"2016\", \"2017\", \"2016\", \"2017\", \"2014\", \"2015\", \"2016\", \"2017\", \"2014\", \"2017\", \"2015\", \"2016\", \"2017\", \"2016\", \"2017\", \"2016\", \"2014\", \"2015\", \"2016\", \"2017\", \"2017\", \"2015\", \"2016\", \"2017\", \"2015\", \"2017\", \"2014\", \"2015\", \"2016\", \"2017\", \"2014\", \"2015\", \"2016\", \"2017\", \"2014\", \"2015\", \"2016\", \"2017\", \"2017\", \"2014\", \"2015\", \"2016\", \"2017\", \"2014\", \"2015\", \"2016\", \"2017\", \"2015\", \"2016\", \"2017\", \"2014\", \"2015\", \"2016\", \"2014\", \"2015\", \"2016\", \"2017\", \"2014\", \"2015\", \"2016\", \"2017\", \"2014\", \"2015\", \"2016\", \"2014\", \"2015\", \"2016\", \"2017\", \"2014\", \"2015\", \"2016\", \"2017\", \"2014\", \"2015\", \"2016\", \"2017\", \"2015\", \"2016\", \"2017\", \"2015\", \"2016\", \"2017\", \"2014\", \"2015\", \"2016\", \"2017\", \"2015\", \"2016\", \"2014\", \"2015\", \"2016\", \"2017\", \"2014\", \"2015\", \"2016\", \"2017\", \"2014\", \"2015\", \"2016\", \"2017\", \"2014\", \"2015\", \"2016\", \"2017\", \"2014\", \"2015\", \"2016\", \"2017\", \"2016\", \"2017\", \"2014\", \"2015\", \"2016\", \"2017\", \"2017\", \"2017\", \"2015\", \"2017\", \"2014\", \"2015\", \"2015\", \"2016\", \"2017\", \"2017\", \"2014\", \"2015\", \"2015\", \"2016\", \"2014\", \"2014\", \"2016\", \"2014\", \"2015\", \"2016\", \"2014\", \"2015\", \"2016\", \"2017\", \"2017\", \"2014\", \"2015\", \"2016\", \"2017\", \"2017\", \"2017\", \"2017\", \"2017\", \"2014\", \"2015\", \"2016\", \"2016\", \"2016\", \"2017\"], \"xaxis\": \"x\", \"y\": [86291958.71666667, 196959144.1666667, 149341809.8333333, 210433491.7], \"yaxis\": \"y\"}, {\"line\": {\"color\": \"blue\"}, \"mode\": \"lines+markers\", \"name\": \"OECD\", \"type\": \"scatter\", \"x\": [\"2014\", \"2015\", \"2016\", \"2017\", \"2016\", \"2017\", \"2016\", \"2017\", \"2017\", \"2017\", \"2016\", \"2017\", \"2017\", \"2016\", \"2017\", \"2014\", \"2015\", \"2016\", \"2017\", \"2014\", \"2015\", \"2016\", \"2017\", \"2017\", \"2014\", \"2015\", \"2017\", \"2017\", \"2015\", \"2017\", \"2017\", \"2015\", \"2017\", \"2014\", \"2015\", \"2016\", \"2017\", \"2015\", \"2016\", \"2017\", \"2014\", \"2017\", \"2014\", \"2015\", \"2016\", \"2017\", \"2014\", \"2015\", \"2016\", \"2017\", \"2014\", \"2015\", \"2016\", \"2017\", \"2014\", \"2015\", \"2016\", \"2017\", \"2014\", \"2015\", \"2016\", \"2017\", \"2014\", \"2015\", \"2016\", \"2017\", \"2015\", \"2016\", \"2017\", \"2015\", \"2016\", \"2017\", \"2014\", \"2015\", \"2016\", \"2017\", \"2016\", \"2017\", \"2014\", \"2015\", \"2016\", \"2017\", \"2015\", \"2016\", \"2017\", \"2015\", \"2017\", \"2017\", \"2016\", \"2017\", \"2017\", \"2014\", \"2015\", \"2016\", \"2017\", \"2014\", \"2015\", \"2016\", \"2017\", \"2016\", \"2017\", \"2014\", \"2015\", \"2016\", \"2017\", \"2014\", \"2015\", \"2016\", \"2017\", \"2016\", \"2017\", \"2014\", \"2015\", \"2016\", \"2017\", \"2014\", \"2017\", \"2015\", \"2016\", \"2017\", \"2016\", \"2017\", \"2016\", \"2014\", \"2015\", \"2016\", \"2017\", \"2017\", \"2015\", \"2016\", \"2017\", \"2015\", \"2017\", \"2014\", \"2015\", \"2016\", \"2017\", \"2014\", \"2015\", \"2016\", \"2017\", \"2014\", \"2015\", \"2016\", \"2017\", \"2017\", \"2014\", \"2015\", \"2016\", \"2017\", \"2014\", \"2015\", \"2016\", \"2017\", \"2015\", \"2016\", \"2017\", \"2014\", \"2015\", \"2016\", \"2014\", \"2015\", \"2016\", \"2017\", \"2014\", \"2015\", \"2016\", \"2017\", \"2014\", \"2015\", \"2016\", \"2014\", \"2015\", \"2016\", \"2017\", \"2014\", \"2015\", \"2016\", \"2017\", \"2014\", \"2015\", \"2016\", \"2017\", \"2015\", \"2016\", \"2017\", \"2015\", \"2016\", \"2017\", \"2014\", \"2015\", \"2016\", \"2017\", \"2015\", \"2016\", \"2014\", \"2015\", \"2016\", \"2017\", \"2014\", \"2015\", \"2016\", \"2017\", \"2014\", \"2015\", \"2016\", \"2017\", \"2014\", \"2015\", \"2016\", \"2017\", \"2014\", \"2015\", \"2016\", \"2017\", \"2016\", \"2017\", \"2014\", \"2015\", \"2016\", \"2017\", \"2017\", \"2017\", \"2015\", \"2017\", \"2014\", \"2015\", \"2015\", \"2016\", \"2017\", \"2017\", \"2014\", \"2015\", \"2015\", \"2016\", \"2014\", \"2014\", \"2016\", \"2014\", \"2015\", \"2016\", \"2014\", \"2015\", \"2016\", \"2017\", \"2017\", \"2014\", \"2015\", \"2016\", \"2017\", \"2017\", \"2017\", \"2017\", \"2017\", \"2014\", \"2015\", \"2016\", \"2016\", \"2016\", \"2017\"], \"xaxis\": \"x\", \"y\": [112097056.56666666, 154376777.51666668, 248806206.06666666, 368801650.69642854], \"yaxis\": \"y\"}, {\"line\": {\"color\": \"red\"}, \"mode\": \"lines+markers\", \"name\": \"FTS\", \"showlegend\": false, \"type\": \"scatter\", \"x\": [\"2014\", \"2015\", \"2016\", \"2017\", \"2016\", \"2017\", \"2016\", \"2017\", \"2017\", \"2017\", \"2016\", \"2017\", \"2017\", \"2016\", \"2017\", \"2014\", \"2015\", \"2016\", \"2017\", \"2014\", \"2015\", \"2016\", \"2017\", \"2017\", \"2014\", \"2015\", \"2017\", \"2017\", \"2015\", \"2017\", \"2017\", \"2015\", \"2017\", \"2014\", \"2015\", \"2016\", \"2017\", \"2015\", \"2016\", \"2017\", \"2014\", \"2017\", \"2014\", \"2015\", \"2016\", \"2017\", \"2014\", \"2015\", \"2016\", \"2017\", \"2014\", \"2015\", \"2016\", \"2017\", \"2014\", \"2015\", \"2016\", \"2017\", \"2014\", \"2015\", \"2016\", \"2017\", \"2014\", \"2015\", \"2016\", \"2017\", \"2015\", \"2016\", \"2017\", \"2015\", \"2016\", \"2017\", \"2014\", \"2015\", \"2016\", \"2017\", \"2016\", \"2017\", \"2014\", \"2015\", \"2016\", \"2017\", \"2015\", \"2016\", \"2017\", \"2015\", \"2017\", \"2017\", \"2016\", \"2017\", \"2017\", \"2014\", \"2015\", \"2016\", \"2017\", \"2014\", \"2015\", \"2016\", \"2017\", \"2016\", \"2017\", \"2014\", \"2015\", \"2016\", \"2017\", \"2014\", \"2015\", \"2016\", \"2017\", \"2016\", \"2017\", \"2014\", \"2015\", \"2016\", \"2017\", \"2014\", \"2017\", \"2015\", \"2016\", \"2017\", \"2016\", \"2017\", \"2016\", \"2014\", \"2015\", \"2016\", \"2017\", \"2017\", \"2015\", \"2016\", \"2017\", \"2015\", \"2017\", \"2014\", \"2015\", \"2016\", \"2017\", \"2014\", \"2015\", \"2016\", \"2017\", \"2014\", \"2015\", \"2016\", \"2017\", \"2017\", \"2014\", \"2015\", \"2016\", \"2017\", \"2014\", \"2015\", \"2016\", \"2017\", \"2015\", \"2016\", \"2017\", \"2014\", \"2015\", \"2016\", \"2014\", \"2015\", \"2016\", \"2017\", \"2014\", \"2015\", \"2016\", \"2017\", \"2014\", \"2015\", \"2016\", \"2014\", \"2015\", \"2016\", \"2017\", \"2014\", \"2015\", \"2016\", \"2017\", \"2014\", \"2015\", \"2016\", \"2017\", \"2015\", \"2016\", \"2017\", \"2015\", \"2016\", \"2017\", \"2014\", \"2015\", \"2016\", \"2017\", \"2015\", \"2016\", \"2014\", \"2015\", \"2016\", \"2017\", \"2014\", \"2015\", \"2016\", \"2017\", \"2014\", \"2015\", \"2016\", \"2017\", \"2014\", \"2015\", \"2016\", \"2017\", \"2014\", \"2015\", \"2016\", \"2017\", \"2016\", \"2017\", \"2014\", \"2015\", \"2016\", \"2017\", \"2017\", \"2017\", \"2015\", \"2017\", \"2014\", \"2015\", \"2015\", \"2016\", \"2017\", \"2017\", \"2014\", \"2015\", \"2015\", \"2016\", \"2014\", \"2014\", \"2016\", \"2014\", \"2015\", \"2016\", \"2014\", \"2015\", \"2016\", \"2017\", \"2017\", \"2014\", \"2015\", \"2016\", \"2017\", \"2017\", \"2017\", \"2017\", \"2017\", \"2014\", \"2015\", \"2016\", \"2016\", \"2016\", \"2017\"], \"xaxis\": \"x2\", \"y\": [1797749.1399305556, 3228838.428961749, 2228982.2363184076, 2505160.61547619], \"yaxis\": \"y2\"}, {\"line\": {\"color\": \"blue\"}, \"mode\": \"lines+markers\", \"name\": \"OECD\", \"showlegend\": false, \"type\": \"scatter\", \"x\": [\"2014\", \"2015\", \"2016\", \"2017\", \"2016\", \"2017\", \"2016\", \"2017\", \"2017\", \"2017\", \"2016\", \"2017\", \"2017\", \"2016\", \"2017\", \"2014\", \"2015\", \"2016\", \"2017\", \"2014\", \"2015\", \"2016\", \"2017\", \"2017\", \"2014\", \"2015\", \"2017\", \"2017\", \"2015\", \"2017\", \"2017\", \"2015\", \"2017\", \"2014\", \"2015\", \"2016\", \"2017\", \"2015\", \"2016\", \"2017\", \"2014\", \"2017\", \"2014\", \"2015\", \"2016\", \"2017\", \"2014\", \"2015\", \"2016\", \"2017\", \"2014\", \"2015\", \"2016\", \"2017\", \"2014\", \"2015\", \"2016\", \"2017\", \"2014\", \"2015\", \"2016\", \"2017\", \"2014\", \"2015\", \"2016\", \"2017\", \"2015\", \"2016\", \"2017\", \"2015\", \"2016\", \"2017\", \"2014\", \"2015\", \"2016\", \"2017\", \"2016\", \"2017\", \"2014\", \"2015\", \"2016\", \"2017\", \"2015\", \"2016\", \"2017\", \"2015\", \"2017\", \"2017\", \"2016\", \"2017\", \"2017\", \"2014\", \"2015\", \"2016\", \"2017\", \"2014\", \"2015\", \"2016\", \"2017\", \"2016\", \"2017\", \"2014\", \"2015\", \"2016\", \"2017\", \"2014\", \"2015\", \"2016\", \"2017\", \"2016\", \"2017\", \"2014\", \"2015\", \"2016\", \"2017\", \"2014\", \"2017\", \"2015\", \"2016\", \"2017\", \"2016\", \"2017\", \"2016\", \"2014\", \"2015\", \"2016\", \"2017\", \"2017\", \"2015\", \"2016\", \"2017\", \"2015\", \"2017\", \"2014\", \"2015\", \"2016\", \"2017\", \"2014\", \"2015\", \"2016\", \"2017\", \"2014\", \"2015\", \"2016\", \"2017\", \"2017\", \"2014\", \"2015\", \"2016\", \"2017\", \"2014\", \"2015\", \"2016\", \"2017\", \"2015\", \"2016\", \"2017\", \"2014\", \"2015\", \"2016\", \"2014\", \"2015\", \"2016\", \"2017\", \"2014\", \"2015\", \"2016\", \"2017\", \"2014\", \"2015\", \"2016\", \"2014\", \"2015\", \"2016\", \"2017\", \"2014\", \"2015\", \"2016\", \"2017\", \"2014\", \"2015\", \"2016\", \"2017\", \"2015\", \"2016\", \"2017\", \"2015\", \"2016\", \"2017\", \"2014\", \"2015\", \"2016\", \"2017\", \"2015\", \"2016\", \"2014\", \"2015\", \"2016\", \"2017\", \"2014\", \"2015\", \"2016\", \"2017\", \"2014\", \"2015\", \"2016\", \"2017\", \"2014\", \"2015\", \"2016\", \"2017\", \"2014\", \"2015\", \"2016\", \"2017\", \"2016\", \"2017\", \"2014\", \"2015\", \"2016\", \"2017\", \"2017\", \"2017\", \"2015\", \"2017\", \"2014\", \"2015\", \"2015\", \"2016\", \"2017\", \"2017\", \"2014\", \"2015\", \"2015\", \"2016\", \"2014\", \"2014\", \"2016\", \"2014\", \"2015\", \"2016\", \"2014\", \"2015\", \"2016\", \"2017\", \"2017\", \"2014\", \"2015\", \"2016\", \"2017\", \"2017\", \"2017\", \"2017\", \"2017\", \"2014\", \"2015\", \"2016\", \"2016\", \"2016\", \"2017\"], \"xaxis\": \"x2\", \"y\": [2335355.345138889, 2530766.8445355194, 3713525.463681592, 4390495.841624149], \"yaxis\": \"y2\"}],\n",
       "                        {\"annotations\": [{\"font\": {\"size\": 16}, \"showarrow\": false, \"text\": \"Sums\", \"x\": 0.225, \"xanchor\": \"center\", \"xref\": \"paper\", \"y\": 1.0, \"yanchor\": \"bottom\", \"yref\": \"paper\"}, {\"font\": {\"size\": 16}, \"showarrow\": false, \"text\": \"Means\", \"x\": 0.775, \"xanchor\": \"center\", \"xref\": \"paper\", \"y\": 1.0, \"yanchor\": \"bottom\", \"yref\": \"paper\"}], \"template\": {\"data\": {\"bar\": [{\"error_x\": {\"color\": \"#2a3f5f\"}, \"error_y\": {\"color\": \"#2a3f5f\"}, \"marker\": {\"line\": {\"color\": \"#E5ECF6\", \"width\": 0.5}}, \"type\": \"bar\"}], \"barpolar\": [{\"marker\": {\"line\": {\"color\": \"#E5ECF6\", \"width\": 0.5}}, \"type\": \"barpolar\"}], \"carpet\": [{\"aaxis\": {\"endlinecolor\": \"#2a3f5f\", \"gridcolor\": \"white\", \"linecolor\": \"white\", \"minorgridcolor\": \"white\", \"startlinecolor\": \"#2a3f5f\"}, \"baxis\": {\"endlinecolor\": \"#2a3f5f\", \"gridcolor\": \"white\", \"linecolor\": \"white\", \"minorgridcolor\": \"white\", \"startlinecolor\": \"#2a3f5f\"}, \"type\": \"carpet\"}], \"choropleth\": [{\"colorbar\": {\"outlinewidth\": 0, \"ticks\": \"\"}, \"type\": \"choropleth\"}], \"contour\": [{\"colorbar\": {\"outlinewidth\": 0, \"ticks\": \"\"}, \"colorscale\": [[0.0, \"#0d0887\"], [0.1111111111111111, \"#46039f\"], [0.2222222222222222, \"#7201a8\"], [0.3333333333333333, \"#9c179e\"], [0.4444444444444444, \"#bd3786\"], [0.5555555555555556, \"#d8576b\"], [0.6666666666666666, \"#ed7953\"], [0.7777777777777778, \"#fb9f3a\"], [0.8888888888888888, \"#fdca26\"], [1.0, \"#f0f921\"]], \"type\": \"contour\"}], \"contourcarpet\": [{\"colorbar\": {\"outlinewidth\": 0, \"ticks\": \"\"}, \"type\": \"contourcarpet\"}], \"heatmap\": [{\"colorbar\": {\"outlinewidth\": 0, \"ticks\": \"\"}, \"colorscale\": [[0.0, \"#0d0887\"], [0.1111111111111111, \"#46039f\"], [0.2222222222222222, \"#7201a8\"], [0.3333333333333333, \"#9c179e\"], [0.4444444444444444, \"#bd3786\"], [0.5555555555555556, \"#d8576b\"], [0.6666666666666666, \"#ed7953\"], [0.7777777777777778, \"#fb9f3a\"], [0.8888888888888888, \"#fdca26\"], [1.0, \"#f0f921\"]], \"type\": \"heatmap\"}], \"heatmapgl\": [{\"colorbar\": {\"outlinewidth\": 0, \"ticks\": \"\"}, \"colorscale\": [[0.0, \"#0d0887\"], [0.1111111111111111, \"#46039f\"], [0.2222222222222222, \"#7201a8\"], [0.3333333333333333, \"#9c179e\"], [0.4444444444444444, \"#bd3786\"], [0.5555555555555556, \"#d8576b\"], [0.6666666666666666, \"#ed7953\"], [0.7777777777777778, \"#fb9f3a\"], [0.8888888888888888, \"#fdca26\"], [1.0, \"#f0f921\"]], \"type\": \"heatmapgl\"}], \"histogram\": [{\"marker\": {\"colorbar\": {\"outlinewidth\": 0, \"ticks\": \"\"}}, \"type\": \"histogram\"}], \"histogram2d\": [{\"colorbar\": {\"outlinewidth\": 0, \"ticks\": \"\"}, \"colorscale\": [[0.0, \"#0d0887\"], [0.1111111111111111, \"#46039f\"], [0.2222222222222222, \"#7201a8\"], [0.3333333333333333, \"#9c179e\"], [0.4444444444444444, \"#bd3786\"], [0.5555555555555556, \"#d8576b\"], [0.6666666666666666, \"#ed7953\"], [0.7777777777777778, \"#fb9f3a\"], [0.8888888888888888, \"#fdca26\"], [1.0, \"#f0f921\"]], \"type\": \"histogram2d\"}], \"histogram2dcontour\": [{\"colorbar\": {\"outlinewidth\": 0, \"ticks\": \"\"}, \"colorscale\": [[0.0, \"#0d0887\"], [0.1111111111111111, \"#46039f\"], [0.2222222222222222, \"#7201a8\"], [0.3333333333333333, \"#9c179e\"], [0.4444444444444444, \"#bd3786\"], [0.5555555555555556, \"#d8576b\"], [0.6666666666666666, \"#ed7953\"], [0.7777777777777778, \"#fb9f3a\"], [0.8888888888888888, \"#fdca26\"], [1.0, \"#f0f921\"]], \"type\": \"histogram2dcontour\"}], \"mesh3d\": [{\"colorbar\": {\"outlinewidth\": 0, \"ticks\": \"\"}, \"type\": \"mesh3d\"}], \"parcoords\": [{\"line\": {\"colorbar\": {\"outlinewidth\": 0, \"ticks\": \"\"}}, \"type\": \"parcoords\"}], \"pie\": [{\"automargin\": true, \"type\": \"pie\"}], \"scatter\": [{\"marker\": {\"colorbar\": {\"outlinewidth\": 0, \"ticks\": \"\"}}, \"type\": \"scatter\"}], \"scatter3d\": [{\"line\": {\"colorbar\": {\"outlinewidth\": 0, \"ticks\": \"\"}}, \"marker\": {\"colorbar\": {\"outlinewidth\": 0, \"ticks\": \"\"}}, \"type\": \"scatter3d\"}], \"scattercarpet\": [{\"marker\": {\"colorbar\": {\"outlinewidth\": 0, \"ticks\": \"\"}}, \"type\": \"scattercarpet\"}], \"scattergeo\": [{\"marker\": {\"colorbar\": {\"outlinewidth\": 0, \"ticks\": \"\"}}, \"type\": \"scattergeo\"}], \"scattergl\": [{\"marker\": {\"colorbar\": {\"outlinewidth\": 0, \"ticks\": \"\"}}, \"type\": \"scattergl\"}], \"scattermapbox\": [{\"marker\": {\"colorbar\": {\"outlinewidth\": 0, \"ticks\": \"\"}}, \"type\": \"scattermapbox\"}], \"scatterpolar\": [{\"marker\": {\"colorbar\": {\"outlinewidth\": 0, \"ticks\": \"\"}}, \"type\": \"scatterpolar\"}], \"scatterpolargl\": [{\"marker\": {\"colorbar\": {\"outlinewidth\": 0, \"ticks\": \"\"}}, \"type\": \"scatterpolargl\"}], \"scatterternary\": [{\"marker\": {\"colorbar\": {\"outlinewidth\": 0, \"ticks\": \"\"}}, \"type\": \"scatterternary\"}], \"surface\": [{\"colorbar\": {\"outlinewidth\": 0, \"ticks\": \"\"}, \"colorscale\": [[0.0, \"#0d0887\"], [0.1111111111111111, \"#46039f\"], [0.2222222222222222, \"#7201a8\"], [0.3333333333333333, \"#9c179e\"], [0.4444444444444444, \"#bd3786\"], [0.5555555555555556, \"#d8576b\"], [0.6666666666666666, \"#ed7953\"], [0.7777777777777778, \"#fb9f3a\"], [0.8888888888888888, \"#fdca26\"], [1.0, \"#f0f921\"]], \"type\": \"surface\"}], \"table\": [{\"cells\": {\"fill\": {\"color\": \"#EBF0F8\"}, \"line\": {\"color\": \"white\"}}, \"header\": {\"fill\": {\"color\": \"#C8D4E3\"}, \"line\": {\"color\": \"white\"}}, \"type\": \"table\"}]}, \"layout\": {\"annotationdefaults\": {\"arrowcolor\": \"#2a3f5f\", \"arrowhead\": 0, \"arrowwidth\": 1}, \"coloraxis\": {\"colorbar\": {\"outlinewidth\": 0, \"ticks\": \"\"}}, \"colorscale\": {\"diverging\": [[0, \"#8e0152\"], [0.1, \"#c51b7d\"], [0.2, \"#de77ae\"], [0.3, \"#f1b6da\"], [0.4, \"#fde0ef\"], [0.5, \"#f7f7f7\"], [0.6, \"#e6f5d0\"], [0.7, \"#b8e186\"], [0.8, \"#7fbc41\"], [0.9, \"#4d9221\"], [1, \"#276419\"]], \"sequential\": [[0.0, \"#0d0887\"], [0.1111111111111111, \"#46039f\"], [0.2222222222222222, \"#7201a8\"], [0.3333333333333333, \"#9c179e\"], [0.4444444444444444, \"#bd3786\"], [0.5555555555555556, \"#d8576b\"], [0.6666666666666666, \"#ed7953\"], [0.7777777777777778, \"#fb9f3a\"], [0.8888888888888888, \"#fdca26\"], [1.0, \"#f0f921\"]], \"sequentialminus\": [[0.0, \"#0d0887\"], [0.1111111111111111, \"#46039f\"], [0.2222222222222222, \"#7201a8\"], [0.3333333333333333, \"#9c179e\"], [0.4444444444444444, \"#bd3786\"], [0.5555555555555556, \"#d8576b\"], [0.6666666666666666, \"#ed7953\"], [0.7777777777777778, \"#fb9f3a\"], [0.8888888888888888, \"#fdca26\"], [1.0, \"#f0f921\"]]}, \"colorway\": [\"#636efa\", \"#EF553B\", \"#00cc96\", \"#ab63fa\", \"#FFA15A\", \"#19d3f3\", \"#FF6692\", \"#B6E880\", \"#FF97FF\", \"#FECB52\"], \"font\": {\"color\": \"#2a3f5f\"}, \"geo\": {\"bgcolor\": \"white\", \"lakecolor\": \"white\", \"landcolor\": \"#E5ECF6\", \"showlakes\": true, \"showland\": true, \"subunitcolor\": \"white\"}, \"hoverlabel\": {\"align\": \"left\"}, \"hovermode\": \"closest\", \"mapbox\": {\"style\": \"light\"}, \"paper_bgcolor\": \"white\", \"plot_bgcolor\": \"#E5ECF6\", \"polar\": {\"angularaxis\": {\"gridcolor\": \"white\", \"linecolor\": \"white\", \"ticks\": \"\"}, \"bgcolor\": \"#E5ECF6\", \"radialaxis\": {\"gridcolor\": \"white\", \"linecolor\": \"white\", \"ticks\": \"\"}}, \"scene\": {\"xaxis\": {\"backgroundcolor\": \"#E5ECF6\", \"gridcolor\": \"white\", \"gridwidth\": 2, \"linecolor\": \"white\", \"showbackground\": true, \"ticks\": \"\", \"zerolinecolor\": \"white\"}, \"yaxis\": {\"backgroundcolor\": \"#E5ECF6\", \"gridcolor\": \"white\", \"gridwidth\": 2, \"linecolor\": \"white\", \"showbackground\": true, \"ticks\": \"\", \"zerolinecolor\": \"white\"}, \"zaxis\": {\"backgroundcolor\": \"#E5ECF6\", \"gridcolor\": \"white\", \"gridwidth\": 2, \"linecolor\": \"white\", \"showbackground\": true, \"ticks\": \"\", \"zerolinecolor\": \"white\"}}, \"shapedefaults\": {\"line\": {\"color\": \"#2a3f5f\"}}, \"ternary\": {\"aaxis\": {\"gridcolor\": \"white\", \"linecolor\": \"white\", \"ticks\": \"\"}, \"baxis\": {\"gridcolor\": \"white\", \"linecolor\": \"white\", \"ticks\": \"\"}, \"bgcolor\": \"#E5ECF6\", \"caxis\": {\"gridcolor\": \"white\", \"linecolor\": \"white\", \"ticks\": \"\"}}, \"title\": {\"x\": 0.05}, \"xaxis\": {\"automargin\": true, \"gridcolor\": \"white\", \"linecolor\": \"white\", \"ticks\": \"\", \"title\": {\"standoff\": 15}, \"zerolinecolor\": \"white\", \"zerolinewidth\": 2}, \"yaxis\": {\"automargin\": true, \"gridcolor\": \"white\", \"linecolor\": \"white\", \"ticks\": \"\", \"title\": {\"standoff\": 15}, \"zerolinecolor\": \"white\", \"zerolinewidth\": 2}}}, \"xaxis\": {\"anchor\": \"y\", \"domain\": [0.0, 0.45]}, \"xaxis2\": {\"anchor\": \"y2\", \"domain\": [0.55, 1.0]}, \"yaxis\": {\"anchor\": \"x\", \"domain\": [0.0, 1.0]}, \"yaxis2\": {\"anchor\": \"x2\", \"domain\": [0.0, 1.0]}},\n",
       "                        {\"responsive\": true}\n",
       "                    ).then(function(){\n",
       "                            \n",
       "var gd = document.getElementById('bbb5f3a2-7666-47e7-8a31-65da28dd87ec');\n",
       "var x = new MutationObserver(function (mutations, observer) {{\n",
       "        var display = window.getComputedStyle(gd).display;\n",
       "        if (!display || display === 'none') {{\n",
       "            console.log([gd, 'removed!']);\n",
       "            Plotly.purge(gd);\n",
       "            observer.disconnect();\n",
       "        }}\n",
       "}});\n",
       "\n",
       "// Listen for the removal of the full notebook cells\n",
       "var notebookContainer = gd.closest('#notebook-container');\n",
       "if (notebookContainer) {{\n",
       "    x.observe(notebookContainer, {childList: true});\n",
       "}}\n",
       "\n",
       "// Listen for the clearing of the current output cell\n",
       "var outputEl = gd.closest('.output');\n",
       "if (outputEl) {{\n",
       "    x.observe(outputEl, {childList: true});\n",
       "}}\n",
       "\n",
       "                        })\n",
       "                };\n",
       "                });\n",
       "            </script>\n",
       "        </div>"
      ]
     },
     "metadata": {},
     "output_type": "display_data"
    }
   ],
   "source": [
    "plot_meansAndsums = make_subplots(rows=1, cols=2,\n",
    "    subplot_titles=(\"Sums\", \"Means\"))\n",
    "\n",
    "plot_meansAndsums.add_trace(go.Scatter(x=oecd_fts_merge_onlyGBSdonorsAndGBSorgs['Year'], y=oecd_fts_merge_onlyGBSdonorsAndGBSorgs_sums['FTS_Amount'],\n",
    "                    mode='lines+markers',\n",
    "                    name='FTS',\n",
    "                    line=dict(color='red')), row=1, col=1)\n",
    "plot_meansAndsums.add_trace(go.Scatter(x=oecd_fts_merge_onlyGBSdonorsAndGBSorgs['Year'], y=oecd_fts_merge_onlyGBSdonorsAndGBSorgs_sums['OECD_Amount'],\n",
    "                    mode='lines+markers',\n",
    "                    name='OECD',\n",
    "                    line=dict(color='blue')), row=1, col=1)\n",
    "\n",
    "plot_meansAndsums.add_trace(go.Scatter(x=oecd_fts_merge_onlyGBSdonorsAndGBSorgs['Year'], y=oecd_fts_merge_onlyGBSdonorsAndGBSorgs_means['FTS_Amount'],\n",
    "                    mode='lines+markers',\n",
    "                    name='FTS',\n",
    "                    line=dict(color='red'),\n",
    "                    showlegend=False), row=1, col=2)\n",
    "plot_meansAndsums.add_trace(go.Scatter(x=oecd_fts_merge_onlyGBSdonorsAndGBSorgs['Year'], y=oecd_fts_merge_onlyGBSdonorsAndGBSorgs_means['OECD_Amount'],\n",
    "                    mode='lines+markers',\n",
    "                    name='OECD',\n",
    "                    line=dict(color='blue'),\n",
    "                    showlegend=False), row=1, col=2)\n",
    "\n",
    "#plot_meansAndsums.write_html('first_figure.html', auto_open=True)\n",
    "plot_meansAndsums.show()"
   ]
  },
  {
   "cell_type": "markdown",
   "metadata": {},
   "source": [
    "## 2014-2015 vs. 2016-2017"
   ]
  },
  {
   "cell_type": "markdown",
   "metadata": {},
   "source": [
    "Copy reported amounts from both timeframes into separate dataframes."
   ]
  },
  {
   "cell_type": "code",
   "execution_count": 116,
   "metadata": {},
   "outputs": [],
   "source": [
    "preGB = ('2014', '2015')\n",
    "postGB = ('2016', '2017')"
   ]
  },
  {
   "cell_type": "code",
   "execution_count": 117,
   "metadata": {},
   "outputs": [],
   "source": [
    "oecd_fts_merge_onlyGBSdonorsAndGBSorgs_exclOutliers_preGB = oecd_fts_merge_onlyGBSdonorsAndGBSorgs_exclOutliers.loc[oecd_fts_merge_onlyGBSdonorsAndGBSorgs_exclOutliers['Year'].isin(preGB)]"
   ]
  },
  {
   "cell_type": "code",
   "execution_count": 118,
   "metadata": {},
   "outputs": [],
   "source": [
    "oecd_fts_merge_onlyGBSdonorsAndGBSorgs_exclOutliers_postGB = oecd_fts_merge_onlyGBSdonorsAndGBSorgs_exclOutliers.loc[oecd_fts_merge_onlyGBSdonorsAndGBSorgs_exclOutliers['Year'].isin(postGB)]"
   ]
  },
  {
   "cell_type": "markdown",
   "metadata": {},
   "source": [
    "## Wilcoxon signed rank tests"
   ]
  },
  {
   "cell_type": "markdown",
   "metadata": {},
   "source": [
    "For 2014-2015."
   ]
  },
  {
   "cell_type": "code",
   "execution_count": 119,
   "metadata": {},
   "outputs": [
    {
     "name": "stdout",
     "output_type": "stream",
     "text": [
      "Statistics=1787.000, p=0.024\n",
      "Different distribution (reject H0)\n"
     ]
    }
   ],
   "source": [
    "# compare samples\n",
    "stat, p = wilcoxon(oecd_fts_merge_onlyGBSdonorsAndGBSorgs_exclOutliers_preGB['FTS_Amount'], oecd_fts_merge_onlyGBSdonorsAndGBSorgs_exclOutliers_preGB['OECD_Amount'])\n",
    "print('Statistics=%.3f, p=%.3f' % (stat, p))\n",
    "# interpret\n",
    "alpha = 0.05\n",
    "if p > alpha:\n",
    "\tprint('Same distribution (fail to reject H0)')\n",
    "else:\n",
    "\tprint('Different distribution (reject H0)')"
   ]
  },
  {
   "cell_type": "markdown",
   "metadata": {},
   "source": [
    "For 2016-2017."
   ]
  },
  {
   "cell_type": "code",
   "execution_count": 120,
   "metadata": {},
   "outputs": [
    {
     "name": "stdout",
     "output_type": "stream",
     "text": [
      "Statistics=3337.000, p=0.001\n",
      "Different distribution (reject H0)\n"
     ]
    }
   ],
   "source": [
    "# compare samples\n",
    "stat, p = wilcoxon(oecd_fts_merge_onlyGBSdonorsAndGBSorgs_exclOutliers_postGB['FTS_Amount'], oecd_fts_merge_onlyGBSdonorsAndGBSorgs_exclOutliers_postGB['OECD_Amount'])\n",
    "print('Statistics=%.3f, p=%.3f' % (stat, p))\n",
    "# interpret\n",
    "alpha = 0.05\n",
    "if p > alpha:\n",
    "\tprint('Same distribution (fail to reject H0)')\n",
    "else:\n",
    "\tprint('Different distribution (reject H0)')"
   ]
  },
  {
   "cell_type": "markdown",
   "metadata": {},
   "source": [
    "For 2014-2017."
   ]
  },
  {
   "cell_type": "code",
   "execution_count": 121,
   "metadata": {},
   "outputs": [
    {
     "name": "stdout",
     "output_type": "stream",
     "text": [
      "Statistics=10036.000, p=0.000\n",
      "Different distribution (reject H0)\n"
     ]
    }
   ],
   "source": [
    "# compare samples\n",
    "stat, p = wilcoxon(oecd_fts_merge_onlyGBSdonorsAndGBSorgs_exclOutliers['FTS_Amount'], oecd_fts_merge_onlyGBSdonorsAndGBSorgs_exclOutliers['OECD_Amount'])\n",
    "print('Statistics=%.3f, p=%.3f' % (stat, p))\n",
    "# interpret\n",
    "alpha = 0.05\n",
    "if p > alpha:\n",
    "\tprint('Same distribution (fail to reject H0)')\n",
    "else:\n",
    "\tprint('Different distribution (reject H0)')"
   ]
  },
  {
   "cell_type": "markdown",
   "metadata": {},
   "source": [
    "For 2014-2017, full sample, incl. outliers."
   ]
  },
  {
   "cell_type": "code",
   "execution_count": 122,
   "metadata": {},
   "outputs": [
    {
     "name": "stdout",
     "output_type": "stream",
     "text": [
      "Statistics=11867.000, p=0.001\n",
      "Different distribution (reject H0)\n"
     ]
    }
   ],
   "source": [
    "# compare samples\n",
    "stat, p = wilcoxon(oecd_fts_merge_onlyGBSdonorsAndGBSorgs['FTS_Amount'], oecd_fts_merge_onlyGBSdonorsAndGBSorgs['OECD_Amount'])\n",
    "print('Statistics=%.3f, p=%.3f' % (stat, p))\n",
    "# interpret\n",
    "alpha = 0.05\n",
    "if p > alpha:\n",
    "\tprint('Same distribution (fail to reject H0)')\n",
    "else:\n",
    "\tprint('Different distribution (reject H0)')"
   ]
  },
  {
   "cell_type": "code",
   "execution_count": null,
   "metadata": {},
   "outputs": [],
   "source": []
  },
  {
   "cell_type": "code",
   "execution_count": null,
   "metadata": {},
   "outputs": [],
   "source": []
  },
  {
   "cell_type": "code",
   "execution_count": null,
   "metadata": {},
   "outputs": [],
   "source": []
  },
  {
   "cell_type": "code",
   "execution_count": null,
   "metadata": {},
   "outputs": [],
   "source": []
  },
  {
   "cell_type": "code",
   "execution_count": null,
   "metadata": {},
   "outputs": [],
   "source": []
  },
  {
   "cell_type": "code",
   "execution_count": null,
   "metadata": {},
   "outputs": [],
   "source": []
  },
  {
   "cell_type": "code",
   "execution_count": null,
   "metadata": {},
   "outputs": [],
   "source": []
  },
  {
   "cell_type": "code",
   "execution_count": null,
   "metadata": {},
   "outputs": [],
   "source": []
  },
  {
   "cell_type": "code",
   "execution_count": null,
   "metadata": {},
   "outputs": [],
   "source": []
  },
  {
   "cell_type": "code",
   "execution_count": null,
   "metadata": {},
   "outputs": [],
   "source": []
  },
  {
   "cell_type": "code",
   "execution_count": null,
   "metadata": {},
   "outputs": [],
   "source": []
  },
  {
   "cell_type": "code",
   "execution_count": null,
   "metadata": {},
   "outputs": [],
   "source": []
  },
  {
   "cell_type": "code",
   "execution_count": null,
   "metadata": {},
   "outputs": [],
   "source": []
  },
  {
   "cell_type": "code",
   "execution_count": null,
   "metadata": {},
   "outputs": [],
   "source": []
  },
  {
   "cell_type": "code",
   "execution_count": 46,
   "metadata": {},
   "outputs": [
    {
     "data": {
      "text/plain": [
       "643026404.4166666"
      ]
     },
     "execution_count": 46,
     "metadata": {},
     "output_type": "execute_result"
    }
   ],
   "source": [
    "#Sum of FTS column\n",
    "oecd_fts_merge_onlyGBSdonorsAndGBSorgs['FTS_Amount'].sum()"
   ]
  },
  {
   "cell_type": "code",
   "execution_count": 47,
   "metadata": {},
   "outputs": [
    {
     "data": {
      "text/plain": [
       "884081690.8464286"
      ]
     },
     "execution_count": 47,
     "metadata": {},
     "output_type": "execute_result"
    }
   ],
   "source": [
    "#Sum of OECD column\n",
    "oecd_fts_merge_onlyGBSdonorsAndGBSorgs['OECD_Amount'].sum()"
   ]
  }
 ],
 "metadata": {
  "kernelspec": {
   "display_name": "redcar",
   "language": "python",
   "name": "redcar"
  },
  "language_info": {
   "codemirror_mode": {
    "name": "ipython",
    "version": 3
   },
   "file_extension": ".py",
   "mimetype": "text/x-python",
   "name": "python",
   "nbconvert_exporter": "python",
   "pygments_lexer": "ipython3",
   "version": "3.7.4"
  }
 },
 "nbformat": 4,
 "nbformat_minor": 4
}
