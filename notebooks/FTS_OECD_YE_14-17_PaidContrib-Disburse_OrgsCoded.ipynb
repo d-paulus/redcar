{
 "cells": [
  {
   "cell_type": "markdown",
   "metadata": {},
   "source": [
    "## Imports"
   ]
  },
  {
   "cell_type": "code",
   "execution_count": null,
   "metadata": {},
   "outputs": [],
   "source": [
    "import pandas as pd\n",
    "import plotly.graph_objects as go\n",
    "import numpy as np\n",
    "import seaborn as sns\n",
    "import plotly.express as px\n",
    "from plotly.subplots import make_subplots\n",
    "from scipy.stats import wilcoxon\n",
    "from scipy import stats"
   ]
  },
  {
   "cell_type": "markdown",
   "metadata": {},
   "source": [
    "## FTS data"
   ]
  },
  {
   "cell_type": "markdown",
   "metadata": {},
   "source": [
    "Read FTS csv data."
   ]
  },
  {
   "cell_type": "code",
   "execution_count": null,
   "metadata": {},
   "outputs": [],
   "source": [
    "fts_data = pd.read_csv(\"../data/raw/FTS_Complete.csv\", dtype='unicode')"
   ]
  },
  {
   "cell_type": "markdown",
   "metadata": {},
   "source": [
    "Remove unneeded columns."
   ]
  },
  {
   "cell_type": "code",
   "execution_count": null,
   "metadata": {},
   "outputs": [],
   "source": [
    "fts_data_simplified = fts_data.drop([\"Flow ID\",\n",
    "\"Original amount\",\n",
    "\"Description\",\n",
    "\"Source Emergency\",\n",
    "\"Source Project\",\n",
    "\"Source Plan\",\n",
    "\"Destination Plan\",\n",
    "\"Destination Emergency\",\n",
    "\"Destination Project\",\n",
    "\"Linked parent ID\",\n",
    "\"Linked child ID\",\n",
    "\"Donor project code\",\n",
    "\"Modality\",\n",
    "\"Version ID\",\n",
    "\"Exchange rate\",\n",
    "\"Original currency\",\n",
    "\"Amount shared on boundary (USD)\"], axis=1)"
   ]
  },
  {
   "cell_type": "markdown",
   "metadata": {},
   "source": [
    "Only keep donations that went to Yemen,"
   ]
  },
  {
   "cell_type": "code",
   "execution_count": null,
   "metadata": {},
   "outputs": [],
   "source": [
    "fts_data_simplified_destinLocYE = fts_data_simplified.loc[fts_data_simplified['Destination Location'] == \"Yemen\"]"
   ]
  },
  {
   "cell_type": "markdown",
   "metadata": {},
   "source": [
    "The scope of the study defines the time frame as 2014-2017. "
   ]
  },
  {
   "cell_type": "code",
   "execution_count": null,
   "metadata": {},
   "outputs": [],
   "source": [
    "years = (\"2014\", \"2015\", \"2016\", \"2017\")"
   ]
  },
  {
   "cell_type": "code",
   "execution_count": null,
   "metadata": {},
   "outputs": [],
   "source": [
    "fts_data_simplified_destinLocYE_14_17 = fts_data_simplified_destinLocYE.loc[fts_data_simplified_destinLocYE['Destination Usage year'].isin(years)]"
   ]
  },
  {
   "cell_type": "markdown",
   "metadata": {},
   "source": [
    "Only select actual 'Paid Contributions', not 'Commitments' or 'Pledges'."
   ]
  },
  {
   "cell_type": "code",
   "execution_count": null,
   "metadata": {},
   "outputs": [],
   "source": [
    "fts_data_simplified_destinLocYE_14_17_paidDistribu = fts_data_simplified_destinLocYE_14_17.loc[fts_data_simplified_destinLocYE_14_17['Flow status'] == \"Paid Contribution\"]"
   ]
  },
  {
   "cell_type": "markdown",
   "metadata": {},
   "source": [
    "Insert a column used for recoding the recipient organizations. This is needed because sometimes organizations have different names within FTS."
   ]
  },
  {
   "cell_type": "code",
   "execution_count": null,
   "metadata": {},
   "outputs": [],
   "source": [
    "fts_data_simplified_destinLocYE_14_17_paidDistribu.insert(11, 'DestinOrgCode', '')"
   ]
  },
  {
   "cell_type": "markdown",
   "metadata": {},
   "source": [
    "Code the organizations within the FTS data."
   ]
  },
  {
   "cell_type": "code",
   "execution_count": null,
   "metadata": {},
   "outputs": [],
   "source": [
    "fts_data_simplified_destinLocYE_14_17_paidDistribu.fillna(method='ffill')\n",
    "\n",
    "def coding_orgs(org_name):\n",
    "    if org_name == 'United Nations Development Programme':\n",
    "        return \"1\"\n",
    "    elif org_name == 'Action Contre la Faim':\n",
    "        return \"2\"\n",
    "    elif org_name == 'Adventist Development and Relief Agency':\n",
    "        return \"3\"\n",
    "    elif org_name == 'Agency for Technical Cooperation and Development':\n",
    "        return \"4\"\n",
    "    elif org_name == 'Al Khair Relief Development Foundation':\n",
    "        return \"5\"\n",
    "    elif org_name == 'Al-Badyah Charitable Foundation':\n",
    "        return \"6\"\n",
    "    elif org_name == 'Al-Baida Coalition for Relief and Humanitarian Actions':\n",
    "        return \"7\"\n",
    "    elif org_name == 'Benevolence Coalition For Humanitarian Relief':\n",
    "        return \"8\"\n",
    "    elif org_name == 'The Coalition Of Humanitarian Relief':\n",
    "        return \"8\"\n",
    "    elif org_name == 'International Committee of the Red Cross':\n",
    "        return \"10\"\n",
    "    elif org_name == 'International Federation of Red Cross and Red Crescent Societies':\n",
    "        return \"10\"\n",
    "    elif org_name == 'Norwegian Red Cross':\n",
    "        return \"10\"\n",
    "    elif org_name == 'Qatar Red Crescent Society':\n",
    "        return \"10\"\n",
    "    elif org_name == 'Red Crescent Society of the United Arab Emirates':\n",
    "        return \"10\"\n",
    "    elif org_name == 'Sudanese Red Crescent':\n",
    "        return \"10\"\n",
    "    elif org_name == 'Yemen Red Crescent Society':\n",
    "        return \"10\"\n",
    "    elif org_name == 'Kuwait Red Crescent Society':\n",
    "        return \"10\"\n",
    "    elif org_name == 'CARE International':\n",
    "        return \"11\"\n",
    "    elif org_name == 'Yemen Humanitarian Fund':\n",
    "        return \"12\"\n",
    "    elif org_name == 'M├®decins sans Fronti─ìres':\n",
    "        return \"18\"\n",
    "    elif org_name == 'Enjaz foundation for development':\n",
    "        return \"21\"\n",
    "    elif org_name == 'Food & Agriculture Organization of the United Nations':\n",
    "        return \"26\"\n",
    "    elif org_name == 'Global Communities':\n",
    "        return \"28\"\n",
    "    elif org_name == 'Yemen, Government of':\n",
    "        return \"30\"\n",
    "    elif org_name == 'Handicap International / Humanity & Inclusion':\n",
    "        return \"32\"\n",
    "    elif org_name == 'Yemen Higher Relief Committee':\n",
    "        return \"33\"\n",
    "    elif org_name == 'International Commission for Human Development':\n",
    "        return \"37\"\n",
    "    elif org_name == 'International Medical Corps':\n",
    "        return \"38\"\n",
    "    elif org_name == 'International Organization for Migration':\n",
    "        return \"40\"\n",
    "    elif org_name == 'International Rescue Committee':\n",
    "        return \"42\"\n",
    "    elif org_name == 'International Islamic Relief Organization':\n",
    "        return \"44\"\n",
    "    elif org_name == 'Islamic Relief Worldwide':\n",
    "        return \"44\"\n",
    "    elif org_name == 'Khalifa Bin Zayed Al Nahyan Foundation':\n",
    "        return \"45\"\n",
    "    elif org_name == 'Mercy Corps':\n",
    "        return \"49\"\n",
    "    elif org_name == 'Norwegian Refugee Council':\n",
    "        return \"53\"\n",
    "    elif org_name == 'Office for the Coordination of Humanitarian Affairs':\n",
    "        return \"54\"\n",
    "    elif org_name == 'OXFAM GB':\n",
    "        return \"59\"\n",
    "    elif org_name == 'OXFAM Ireland':\n",
    "        return \"59\"\n",
    "    elif org_name == 'World Food Programme':\n",
    "        return \"64\"\n",
    "    elif org_name == 'Save the Children':\n",
    "        return \"68\"\n",
    "    elif org_name == 'Scoop Group':\n",
    "        return \"72\"\n",
    "    elif org_name == 'United Nations High Commissioner for Refugees':\n",
    "        return \"78\"\n",
    "    elif org_name == 'United Nations Population Fund':\n",
    "        return \"79\"\n",
    "    elif org_name == 'United Nations Children\\'s Fund':\n",
    "        return \"80\"\n",
    "    elif org_name == 'World Health Organization':\n",
    "        return \"85\"\n",
    "    elif org_name == 'Yemeni Social Reform Society':\n",
    "        return \"87\"\n",
    "    elif org_name == 'Alawn Foundation for Development':\n",
    "        return \"93\"\n",
    "    elif org_name == 'AlBasar Foundation':\n",
    "        return \"94\"\n",
    "    elif org_name == 'Alyateem Development Foundation':\n",
    "        return \"95\"\n",
    "    elif org_name == 'Direct Aid':\n",
    "        return \"96\"\n",
    "    elif org_name == 'International Campaign to Abolish Nuclear Weapons (ICAN)':\n",
    "        return \"97\"\n",
    "    elif org_name == 'International Children\\'s Action Network':\n",
    "        return \"98\"\n",
    "    elif org_name == 'International Youth Council - Yemen':\n",
    "        return \"99\"\n",
    "    elif org_name == 'Japan Platform':\n",
    "        return \"100\"\n",
    "    elif org_name == 'Japanese NGOs':\n",
    "        return \"101\"\n",
    "    elif org_name == 'Kuwaiti Yemeni Relief':\n",
    "        return \"102\"\n",
    "    elif org_name == 'NGOs (details not yet provided)':\n",
    "        return \"91\"\n",
    "    elif org_name == 'Office of the High Commissioner for Human Rights':\n",
    "        return \"103\"\n",
    "    elif org_name == 'Physicians Across Continents':\n",
    "        return \"104\"\n",
    "    elif org_name == 'Private (individuals & organizations)':\n",
    "        return \"63\"\n",
    "    elif org_name == 'Reform Society':\n",
    "        return \"87\"\n",
    "    elif org_name == 'United Nations Office on Drugs and Crime':\n",
    "        return \"105\"\n",
    "    elif org_name == 'Wethaq Foundation for Civil Orientation':\n",
    "        return \"106\"\n",
    "    elif org_name == 'World Assembly of Muslim Youth':\n",
    "        return \"107\"\n",
    "    elif org_name == 'Yemen National Committee for Human Rights':\n",
    "        return \"108\"\n",
    "    elif org_name == 'Yemeni Association for relief and development':\n",
    "        return \"109\"\n",
    "    \n",
    "fts_data_simplified_destinLocYE_14_17_paidDistribu['DestinOrgCode'] = fts_data_simplified_destinLocYE_14_17_paidDistribu['Destination Organization'].apply(coding_orgs)"
   ]
  },
  {
   "cell_type": "markdown",
   "metadata": {},
   "source": [
    "Convert donation amounts into numeric data types."
   ]
  },
  {
   "cell_type": "code",
   "execution_count": null,
   "metadata": {},
   "outputs": [],
   "source": [
    "fts_data_simplified_destinLocYE_14_17_paidDistribu[\"Amount (USD)\"] = pd.to_numeric(fts_data_simplified_destinLocYE_14_17_paidDistribu[\"Amount (USD)\"])"
   ]
  },
  {
   "cell_type": "markdown",
   "metadata": {},
   "source": [
    "The EU as a donor is only listed in the 'Source Organization' column, not in the 'Source Location' column like all other major donors. Therefor we recode it here."
   ]
  },
  {
   "cell_type": "code",
   "execution_count": null,
   "metadata": {},
   "outputs": [],
   "source": [
    "for key, row in fts_data_simplified_destinLocYE_14_17_paidDistribu.iterrows():\n",
    "    if fts_data_simplified_destinLocYE_14_17_paidDistribu.loc[key,'Source Organization'] == 'European Commission' :\n",
    "        fts_data_simplified_destinLocYE_14_17_paidDistribu.loc[key,'Source Location'] = 'EU Institutions'\n",
    "    if fts_data_simplified_destinLocYE_14_17_paidDistribu.loc[key,'Source Organization'] == 'European Commission\\'s Humanitarian Aid and Civil Protection Department' :\n",
    "        fts_data_simplified_destinLocYE_14_17_paidDistribu.loc[key,'Source Location'] = 'EU Institutions'\n"
   ]
  },
  {
   "cell_type": "markdown",
   "metadata": {},
   "source": [
    "Create a pivot table to aggregate donation amounts by donor, recipient organization and year."
   ]
  },
  {
   "cell_type": "code",
   "execution_count": null,
   "metadata": {},
   "outputs": [],
   "source": [
    "fts_data_simplified_destinLocYE_14_17_paidDistribu_pivot = pd.pivot_table(fts_data_simplified_destinLocYE_14_17_paidDistribu,index=[\"Source Location\",\"DestinOrgCode\", \"Destination Usage year\"],values=[\"Amount (USD)\"])"
   ]
  },
  {
   "cell_type": "markdown",
   "metadata": {},
   "source": [
    "## OECD data"
   ]
  },
  {
   "cell_type": "markdown",
   "metadata": {},
   "source": [
    "Read OECD csv data."
   ]
  },
  {
   "cell_type": "code",
   "execution_count": null,
   "metadata": {},
   "outputs": [],
   "source": [
    "oecd_data = pd.read_csv(\"../data/raw/OECD_CompleteHumanitarian.csv\", encoding='latin-1', dtype='unicode')"
   ]
  },
  {
   "cell_type": "markdown",
   "metadata": {},
   "source": [
    "Remove unneeded columns."
   ]
  },
  {
   "cell_type": "code",
   "execution_count": null,
   "metadata": {},
   "outputs": [],
   "source": [
    "oecd_data_simplified = oecd_data.drop([\"AgencyCode\",\n",
    "\"Aid_t\",\n",
    "\"AssocFinance\",\n",
    "\"Bi_Multi\",\n",
    "\"Biodiversity\",\n",
    "\"BudgetIdent\",\n",
    "\"CRSid\",\n",
    "\"CapitalExpend\",\n",
    "\"Category\",\n",
    "\"ChannelCode\",\n",
    "\"ClimateAdaptation\",\n",
    "\"ClimateMitigation\",\n",
    "\"CommitmentDate\",\n",
    "\"Commitment_National\",\n",
    "\"CurrencyCode\",\n",
    "\"Desertification\",\n",
    "\"Disbursement_National\",\n",
    "\"Environment\",\n",
    "\"ExpectedStartDate\",\n",
    "\"FTC\",\n",
    "\"Finance_t\",\n",
    "\"FlowCode\",\n",
    "\"Gender\",\n",
    "\"Geography\",\n",
    "\"GrantElement\",\n",
    "\"GrantEquiv\",\n",
    "\"IncomegroupCode\",\n",
    "\"IncomegroupName\",\n",
    "\"InitialReport\",\n",
    "\"Interest1\",\n",
    "\"Interest2\",\n",
    "\"InvestmentProject\",\n",
    "\"NumberRepayment\",\n",
    "\"PBA\",\n",
    "\"ParentChannelCode\",\n",
    "\"Pdgg\",\n",
    "\"ProjectNumber\",\n",
    "\"ProjectTitle\",\n",
    "\"PurposeName\",\n",
    "\"RMNCH\",\n",
    "\"RecipientCode\",\n",
    "\"RegionCode\",\n",
    "\"RegionName\",\n",
    "\"Repaydate1\",\n",
    "\"Repaydate2\",\n",
    "\"SectorCode\",\n",
    "\"Trade\",\n",
    "\"TypeRepayment\",\n",
    "\"USD_Adjustment\",\n",
    "\"USD_Adjustment_Defl\",\n",
    "\"USD_AmountPartialTied\",\n",
    "\"USD_AmountPartialTied_Defl\",\n",
    "\"USD_AmountTied\",\n",
    "\"USD_AmountUntied\",\n",
    "\"USD_AmountUntied_Defl\",\n",
    "\"USD_Amounttied_Defl\",\n",
    "\"USD_Arrears_Interest\",\n",
    "\"USD_Arrears_Principal\",\n",
    "\"USD_Commitment\",\n",
    "\"USD_Commitment_Defl\",\n",
    "\"USD_Disbursement_Defl\",\n",
    "\"USD_Expert_Commitment\",\n",
    "\"USD_Expert_Extended\",\n",
    "\"USD_Export_Credit\",\n",
    "\"USD_Future_DS_Interest\",\n",
    "\"USD_Future_DS_Principal\",\n",
    "\"USD_GrantEquiv\",\n",
    "\"USD_IRTC\",\n",
    "\"USD_Interest\",\n",
    "\"USD_Outstanding\",\n",
    "\"USD_Received\",\n",
    "\"USD_Received_Defl\",\n",
    "\"@_id\"\n",
    "], axis=1)"
   ]
  },
  {
   "cell_type": "markdown",
   "metadata": {},
   "source": [
    "Only keep donations that went to Yemen."
   ]
  },
  {
   "cell_type": "code",
   "execution_count": null,
   "metadata": {},
   "outputs": [],
   "source": [
    "oecd_data_simplified_recipientNameYE = oecd_data_simplified.loc[oecd_data_simplified['RecipientName'] == \"Yemen\"]"
   ]
  },
  {
   "cell_type": "markdown",
   "metadata": {},
   "source": [
    "The scope of the study defines the time frame as 2014-2017."
   ]
  },
  {
   "cell_type": "code",
   "execution_count": null,
   "metadata": {},
   "outputs": [],
   "source": [
    "years = (\"2014\", \"2015\", \"2016\", \"2017\")"
   ]
  },
  {
   "cell_type": "code",
   "execution_count": null,
   "metadata": {},
   "outputs": [],
   "source": [
    "oecd_data_simplified_recipientNameYE_14_17 = oecd_data_simplified_recipientNameYE.loc[oecd_data_simplified_recipientNameYE['Year'].isin(years)]"
   ]
  },
  {
   "cell_type": "markdown",
   "metadata": {},
   "source": [
    "Insert two columns used for recoding the recipient organizations. This is needed because sometimes organizations have different names within OECD."
   ]
  },
  {
   "cell_type": "code",
   "execution_count": null,
   "metadata": {},
   "outputs": [],
   "source": [
    "oecd_data_simplified_recipientNameYE_14_17.insert(2, 'ChannelNameCode', '')"
   ]
  },
  {
   "cell_type": "code",
   "execution_count": null,
   "metadata": {},
   "outputs": [],
   "source": [
    "oecd_data_simplified_recipientNameYE_14_17.insert(4, 'ChannelReportedNameCode', '')"
   ]
  },
  {
   "cell_type": "markdown",
   "metadata": {},
   "source": [
    "Code the organizations within the OECD data."
   ]
  },
  {
   "cell_type": "code",
   "execution_count": null,
   "metadata": {},
   "outputs": [],
   "source": [
    "def coding_orgs(org_name):\n",
    "    if org_name == '03474 - UNDP (Direct Execution)':\n",
    "        return \"1\"\n",
    "    elif org_name == '99999 - UNDP':\n",
    "        return \"1\"\n",
    "    elif org_name == 'UNDP':\n",
    "        return \"1\"\n",
    "    elif org_name == 'UNDP(United Nations Development Programme)':\n",
    "        return \"1\"\n",
    "    elif org_name == 'United Nations Development Programme':\n",
    "        return \"1\"\n",
    "    elif org_name == 'ACF - Action Against Hunger - France':\n",
    "        return \"2\"\n",
    "    elif org_name == 'ACF International':\n",
    "        return \"2\"\n",
    "    elif org_name == 'ACF/ACTION CONTRE LA FAIM FRANCE':\n",
    "        return \"2\"\n",
    "    elif org_name == 'Action Against Hunger (ACF) - France':\n",
    "        return \"2\"\n",
    "    elif org_name == 'Adventist Development and Relief Agency':\n",
    "        return \"3\"\n",
    "    elif org_name == 'Adventist Development and Relief Agency International':\n",
    "        return \"3\"\n",
    "    elif org_name == 'Agency for Technical Cooperation and Development':\n",
    "        return \"4\"\n",
    "    elif org_name == 'Al - Khair Coalition for Humanitarian Relief':\n",
    "        return \"5\"\n",
    "    elif org_name == 'Al-Badiyh Charitable Foundation':\n",
    "        return \"6\"\n",
    "    elif org_name == 'Al-Baida Coalition for Relief and Humanitarian Actions':\n",
    "        return \"7\"\n",
    "    elif org_name == 'Benevolence Coalition For Humanitarian Relief':\n",
    "        return \"8\"\n",
    "    elif org_name == 'Bollor?Group':\n",
    "        return \"9\"\n",
    "    elif org_name == 'Canadian Red Cross':\n",
    "        return \"10\"\n",
    "    elif org_name == 'Comit?international de la Croix-Rouge':\n",
    "        return \"10\"\n",
    "    elif org_name == 'Dansk R?de Kors':\n",
    "        return \"10\"\n",
    "    elif org_name == 'Emirates Red Crescent':\n",
    "        return \"10\"\n",
    "    elif org_name == 'Finnish Red Cross':\n",
    "        return \"10\"\n",
    "    elif org_name == 'ICRC':\n",
    "        return \"10\"\n",
    "    elif org_name == 'ICRC - International Committee of the Red Cross':\n",
    "        return \"10\"\n",
    "    elif org_name == 'ICRC - Switzerland':\n",
    "        return \"10\"\n",
    "    elif org_name == 'ICRC(International Committee of the Red Cross)':\n",
    "        return \"10\"\n",
    "    elif org_name == 'ICRC/INTERNATIONAL COMMITTEE OF THE RED CROSS':\n",
    "        return \"10\"\n",
    "    elif org_name == 'International Committee Of The Red Cross':\n",
    "        return \"10\"\n",
    "    elif org_name == 'ICRC/INTERNATIONAL COMMITTEE OF THE RED CROSS/R?A KORSET':\n",
    "        return \"10\"\n",
    "    elif org_name == 'INGO International Committee of the Red Cross ICRC - ICRC - PRT':\n",
    "        return \"10\"\n",
    "    elif org_name == 'International Committee of the Red Cross':\n",
    "        return \"10\"\n",
    "    elif org_name == 'International Committee of the Red Cross (ICRC)':\n",
    "        return \"10\"\n",
    "    elif org_name == 'International Committee of the Red Cross?ICRC)':\n",
    "        return \"10\"\n",
    "    elif org_name == 'International Federation of Red Cross and Red Crescent Societies':\n",
    "        return \"10\"\n",
    "    elif org_name == 'International Red Cross and Red Crescent Societies (ICRC)':\n",
    "        return \"10\"\n",
    "    elif org_name == 'NGO Rode Kruis-Vlaanderen Internationaal':\n",
    "        return \"10\"\n",
    "    elif org_name == 'Norges R?de Kors':\n",
    "        return \"10\"\n",
    "    elif org_name == 'Swedish Red Cross':\n",
    "        return \"10\"\n",
    "    elif org_name == 'CARE Canada':\n",
    "        return \"11\"\n",
    "    elif org_name == 'Care International':\n",
    "        return \"11\"\n",
    "    elif org_name == 'CBPFs(Country-Based Pooled Funds)':\n",
    "        return \"12\"\n",
    "    elif org_name == 'Central Emergency Response Fund':\n",
    "        return \"12\"\n",
    "    elif org_name == 'ERF(Emergency Reponse Fund)':\n",
    "        return \"12\"\n",
    "    elif org_name == 'ERF(Emergency Response Fund)':\n",
    "        return \"12\"\n",
    "    elif org_name == 'UN-led Country-based Pooled Funds':\n",
    "        return \"12\"\n",
    "    elif org_name == 'UNOCHA (Emergency Response Fund)':\n",
    "        return \"12\"\n",
    "    elif org_name == 'Central Government':\n",
    "        return \"0\"\n",
    "    elif org_name == 'Cooperative for Assistance and Relief Everywhere':\n",
    "        return \"15\"\n",
    "    elif org_name == 'Dansk Flygtningehj?lp':\n",
    "        return \"16\"\n",
    "    elif org_name == 'Flyktninghjelpen':\n",
    "        return \"16\"\n",
    "    elif org_name == 'Developing country-based NGO':\n",
    "        return \"0\"\n",
    "    elif org_name == 'Doctors Without Borders':\n",
    "        return \"19\"\n",
    "    elif org_name == 'Donor country-based NGO':\n",
    "        return \"0\"\n",
    "    elif org_name == 'ONG bas? dans un pays donneur':\n",
    "        return \"0\"\n",
    "    elif org_name == 'Donor Government':\n",
    "        return \"0\"\n",
    "    elif org_name == 'Enjaz development foundation':\n",
    "        return \"21\"\n",
    "    elif org_name == 'Enterprise - Non United States Other':\n",
    "        return \"0\"\n",
    "    elif org_name == 'Enterprise - United States Other':\n",
    "        return \"0\"\n",
    "    elif org_name == 'Estonian Rescue Board':\n",
    "        return \"25\"\n",
    "    elif org_name == 'FAO':\n",
    "        return \"26\"\n",
    "    elif org_name == 'Food and Agricultural Organisation':\n",
    "        return \"26\"\n",
    "    elif org_name == 'GIZ':\n",
    "        return \"27\"\n",
    "    elif org_name == 'Global Communities':\n",
    "        return \"28\"\n",
    "    elif org_name == 'Government of the United Arab Emirates':\n",
    "        return \"0\"\n",
    "    elif org_name == 'Government of Yemen':\n",
    "        return \"0\"\n",
    "    elif org_name == 'REPUBLIC OF YEMEN':\n",
    "        return \"0\"\n",
    "    elif org_name == 'Yemen Government':\n",
    "        return \"0\"\n",
    "    elif org_name == 'Governorate in Yemen':\n",
    "        return \"0\"\n",
    "    elif org_name == 'Handicap International Canada':\n",
    "        return \"32\"\n",
    "    elif org_name == 'High relief committee (Republic of yemen)':\n",
    "        return \"33\"\n",
    "    elif org_name == 'ILO':\n",
    "        return \"34\"\n",
    "    elif org_name == 'International Labour Organisation - Regular Budget Supplementary Account':\n",
    "        return \"34\"\n",
    "    elif org_name == 'Information Management and Mine Action Programs':\n",
    "        return \"35\"\n",
    "    elif org_name == 'International Business and Technical Consultants Inc.':\n",
    "        return \"36\"\n",
    "    elif org_name == 'International Commission for Human Development':\n",
    "        return \"37\"\n",
    "    elif org_name == 'International Medical Corps':\n",
    "        return \"38\"\n",
    "    elif org_name == 'International NGO':\n",
    "        return \"0\"\n",
    "    elif org_name == 'ONG INTERNATIONALE':\n",
    "        return \"0\"\n",
    "    elif org_name == 'International Organisation for Migration':\n",
    "        return \"40\"\n",
    "    elif org_name == 'International Organisation for Migration (IOM)':\n",
    "        return \"40\"\n",
    "    elif org_name == 'International Organization for Migration':\n",
    "        return \"40\"\n",
    "    elif org_name == 'IOM':\n",
    "        return \"40\"\n",
    "    elif org_name == 'IOM - International Organisation for Migration/Organizzazione internazionale per l emigrazione':\n",
    "        return \"40\"\n",
    "    elif org_name == 'IOM(International Organisation for Migration )':\n",
    "        return \"40\"\n",
    "    elif org_name == 'IOM(International Organisation for Migration)':\n",
    "        return \"40\"\n",
    "    elif org_name == 'IOM(International Organization for Migration)':\n",
    "        return \"40\"\n",
    "    elif org_name == 'IOM/INTERNATIONAL ORGANIZATION FOR MIGRATION':\n",
    "        return \"40\"\n",
    "    elif org_name == 'International Relief and Development':\n",
    "        return \"41\"\n",
    "    elif org_name == 'International Rescue Committee':\n",
    "        return \"42\"\n",
    "    elif org_name == 'IRC/INTERNATIONAL RESCUE COMMITTEE':\n",
    "        return \"42\"\n",
    "    elif org_name == 'INTERSOS':\n",
    "        return \"43\"\n",
    "    elif org_name == 'ISLAMIC RELIEF':\n",
    "        return \"44\"\n",
    "    elif org_name == 'Islamic Relief Canada':\n",
    "        return \"44\"\n",
    "    elif org_name == 'Islamic Relief Sweden':\n",
    "        return \"44\"\n",
    "    elif org_name == 'Islamic Relief Worldwide':\n",
    "        return \"44\"\n",
    "    elif org_name == 'khalifa Bin Zayed Al Nahyan Foundation':\n",
    "        return \"45\"\n",
    "    elif org_name == 'King Salman for Relief and Humanitarian Aid Center':\n",
    "        return \"46\"\n",
    "    elif org_name == 'KOICA':\n",
    "        return \"47\"\n",
    "    elif org_name == 'Matrix International Logistics Inc.':\n",
    "        return \"48\"\n",
    "    elif org_name == 'Mercy Corps':\n",
    "        return \"49\"\n",
    "    elif org_name == 'Multilateral Organisations':\n",
    "        return \"0\"\n",
    "    elif org_name == 'Network':\n",
    "        return \"0\"\n",
    "    elif org_name == 'Networks':\n",
    "        return \"0\"\n",
    "    elif org_name == 'Non-Governmental Organisation (NGO) and Civil Society':\n",
    "        return \"0\"\n",
    "    elif org_name == 'NON-GOVERNMENTAL ORGANISATIONS (NGOs) AND CIVIL SOCIETY':\n",
    "        return \"0\"\n",
    "    elif org_name == 'Norwegian Refugee Council':\n",
    "        return \"53\"\n",
    "    elif org_name == 'NRC/NORWEGIAN REFUGEE COUNCIL':\n",
    "        return \"53\"\n",
    "    elif org_name == 'OCHA - Office for the Coordination of Humanitarian Affairs':\n",
    "        return \"54\"\n",
    "    elif org_name == 'OCHA - United Nations Office for the Coordination of Humanitarian Affairs':\n",
    "        return \"54\"\n",
    "    elif org_name == 'Un Ocha':\n",
    "        return \"54\"\n",
    "    elif org_name == 'UN Office for the Coordination of Humanitarian Aff':\n",
    "        return \"54\"\n",
    "    elif org_name == 'UN UNOCHA - Office of Co-ordination of Humanitarian Affairs - PRT':\n",
    "        return \"54\"\n",
    "    elif org_name == 'United Nations Office of Co-ordination of Humanitarian Affairs':\n",
    "        return \"54\"\n",
    "    elif org_name == 'United Nations Office of Co-ordination of Humanitarian Affairs (UNOCHA)':\n",
    "        return \"54\"\n",
    "    elif org_name == 'United nations Office of co-ordination of Humanitarian Affairs':\n",
    "        return \"54\"\n",
    "    elif org_name == 'UNOCHA':\n",
    "        return \"54\"\n",
    "    elif org_name == 'UN OCHA':\n",
    "        return \"54\"\n",
    "    elif org_name == 'UNOCHA - Switzerland':\n",
    "        return \"54\"\n",
    "    elif org_name == 'UNOCHA - UN Office of Co-ordination of Humanitarian Affairs':\n",
    "        return \"54\"\n",
    "    elif org_name == 'UNOCHA office in Yemen':\n",
    "        return \"54\"\n",
    "    elif org_name == 'UNOCHA/UNITED NATIONS OFFICE FOR THE COORDINATION OF HUMANITARIAN AFFAIRS':\n",
    "        return \"54\"\n",
    "    elif org_name == 'Other':\n",
    "        return \"0\"\n",
    "    elif org_name == 'Other non-financial corporations':\n",
    "        return \"0\"\n",
    "    elif org_name == 'Other public entities in donor country':\n",
    "        return \"0\"\n",
    "    elif org_name == 'Other public entities in recipient country':\n",
    "        return \"0\"\n",
    "    elif org_name == 'Oxfam':\n",
    "        return \"59\"\n",
    "    elif org_name == 'OXFAM - provider country office':\n",
    "        return \"59\"\n",
    "    elif org_name == 'Oxfam Deutschland e. V. (OXFAM - provider country office)':\n",
    "        return \"59\"\n",
    "    elif org_name == 'OXFAM International':\n",
    "        return \"59\"\n",
    "    elif org_name == 'Oxfam-Qu?ec':\n",
    "        return \"59\"\n",
    "    elif org_name == 'Private sector in provider country':\n",
    "        return \"0\"\n",
    "    elif org_name == 'Private sector in recipient country':\n",
    "        return \"0\"\n",
    "    elif org_name == 'Private sector in third country':\n",
    "        return \"0\"\n",
    "    elif org_name == 'Private sector institution':\n",
    "        return \"0\"\n",
    "    elif org_name == 'Private Sector Institutions':\n",
    "        return \"0\"\n",
    "    elif org_name == 'Programme alimentaire mondial':\n",
    "        return \"64\"\n",
    "    elif org_name == 'UN WFP - UNHAS Humanitarian Air Service - PRT':\n",
    "        return \"64\"\n",
    "    elif org_name == 'UN World Food Programme WFP_PAM - WFP - PRT':\n",
    "        return \"64\"\n",
    "    elif org_name == 'United Nations World Food Programme (UN WFP)':\n",
    "        return \"64\"\n",
    "    elif org_name == 'United Nations World Food Programme (WFP)':\n",
    "        return \"64\"\n",
    "    elif org_name == 'WFP':\n",
    "        return \"64\"\n",
    "    elif org_name == 'WFP - World Food Programme':\n",
    "        return \"64\"\n",
    "    elif org_name == 'WFP(World Food Programme)':\n",
    "        return \"64\"\n",
    "    elif org_name == 'WFP/WORLD FOOD PROGRAMME':\n",
    "        return \"64\"\n",
    "    elif org_name == 'World Food Programme':\n",
    "        return \"64\"\n",
    "    elif org_name == 'WFP - WORLD FOOD PROGRAMME':\n",
    "        return \"64\"\n",
    "    elif org_name == 'World Food programme (WFP)':\n",
    "        return \"64\"\n",
    "    elif org_name == 'World Food Programme (WFP)':\n",
    "        return \"64\"\n",
    "    elif org_name == 'Public corporations':\n",
    "        return \"0\"\n",
    "    elif org_name == 'Public-Private Partnerships (PPP)':\n",
    "        return \"0\"\n",
    "    elif org_name == 'Recipient Government':\n",
    "        return \"0\"\n",
    "    elif org_name == 'Red Barnet':\n",
    "        return \"68\"\n",
    "    elif org_name == 'Save the Children':\n",
    "        return \"68\"\n",
    "    elif org_name == 'Save the Children - donor country office':\n",
    "        return \"68\"\n",
    "    elif org_name == 'Save the Children Canada':\n",
    "        return \"68\"\n",
    "    elif org_name == 'Save the Children Deutschland e. V. (provider country office)':\n",
    "        return \"68\"\n",
    "    elif org_name == 'Save the Children Federation Inc.':\n",
    "        return \"68\"\n",
    "    elif org_name == 'Relief Coalition in Aden':\n",
    "        return \"69\"\n",
    "    elif org_name == 'SANA\\'A MUNICIPALITY':\n",
    "        return \"0\"\n",
    "    elif org_name == 'Scoop group':\n",
    "        return \"72\"\n",
    "    elif org_name == 'Socotra Development Association':\n",
    "        return \"73\"\n",
    "    elif org_name == 'Solidarios sin Fronteras':\n",
    "        return \"74\"\n",
    "    elif org_name == 'SVENSKA MISSIONSR?DET':\n",
    "        return \"75\"\n",
    "    elif org_name == 'Third Country Government (Delegated co-operation)':\n",
    "        return \"0\"\n",
    "    elif org_name == 'UN Office of the High Commissioner for Refugees UNHCR_HCR - UNHCR - PRT':\n",
    "        return \"78\"\n",
    "    elif org_name == 'UNHCR':\n",
    "        return \"78\"\n",
    "    elif org_name == 'UNHCR - U.N. Office of the United Nations High Commissioner for Refugees':\n",
    "        return \"78\"\n",
    "    elif org_name == 'UNHCR - UN Office of the UN High Commissioner for Refugees':\n",
    "        return \"78\"\n",
    "    elif org_name == 'UNHCR - United Nations High Commissioner for Refugees':\n",
    "        return \"78\"\n",
    "    elif org_name == 'UNHCR(United Nations Office of the United Nations High Commissioner for Refugees)':\n",
    "        return \"78\"\n",
    "    elif org_name == 'UNHCR/UNITED NATIONS HIGH COMMISSIONER FOR REFUGEES':\n",
    "        return \"78\"\n",
    "    elif org_name == 'United Nations Office of the United Nations High Commissioner for Refugees':\n",
    "        return \"78\"\n",
    "    elif org_name == 'United Nations Office of the United Nations High Commissioner for Refugees (UNHCR)':\n",
    "        return \"78\"\n",
    "    elif org_name == 'UNFPA':\n",
    "        return \"79\"\n",
    "    elif org_name == 'UNFPA - United Nations Population Fund':\n",
    "        return \"79\"\n",
    "    elif org_name == 'United Nations Population Fund':\n",
    "        return \"79\"\n",
    "    elif org_name == 'UNICEF':\n",
    "        return \"80\"\n",
    "    elif org_name == 'UNICEF - UNITED NATIONS CHILDREN S FUND':\n",
    "        return \"80\"\n",
    "    elif org_name == 'UNICEF - Childrens Fund - PRT':\n",
    "        return \"80\"\n",
    "    elif org_name == 'UNICEF - United Nations Children s Fund':\n",
    "        return \"80\"\n",
    "    elif org_name == 'UNICEF - United Nations Children\\'s Fund':\n",
    "        return \"80\"\n",
    "    elif org_name == 'UNICEF(United Nations Children`s Fund)':\n",
    "        return \"80\"\n",
    "    elif org_name == 'UNICEF(United Nations Children\\'s Fund)':\n",
    "        return \"80\"\n",
    "    elif org_name == 'UNICEF/UNITED NATIONS CHILDRENS FUND':\n",
    "        return \"80\"\n",
    "    elif org_name == 'United Nations Children?s Fund':\n",
    "        return \"80\"\n",
    "    elif org_name == 'United Nations Childrens Fund':\n",
    "        return \"80\"\n",
    "    elif org_name == 'United Nations Children\\'s Fund':\n",
    "        return \"80\"\n",
    "    elif org_name == 'United Nations Children\\'s Fund (UNICEF)':\n",
    "        return \"80\"\n",
    "    elif org_name == 'United Nations Office for Project Services':\n",
    "        return \"81\"\n",
    "    elif org_name == 'University college or other teaching institution research institute or think?tank':\n",
    "        return \"0\"\n",
    "    elif org_name == 'University college or other teaching institution research institute or think-tank':\n",
    "        return \"0\"\n",
    "    elif org_name == 'Unspecified Vendors - Bosnia and Herzegovina':\n",
    "        return \"0\"\n",
    "    elif org_name == 'Watan Foundation':\n",
    "        return \"84\"\n",
    "    elif org_name == 'WHO - World Health Organization':\n",
    "        return \"85\"\n",
    "    elif org_name == 'WHO(World Health Organization)':\n",
    "        return \"85\"\n",
    "    elif org_name == 'World Health Organisation - assessed contributions':\n",
    "        return \"85\"\n",
    "    elif org_name == 'World Health Organisation - core voluntary contributions account':\n",
    "        return \"85\"\n",
    "    elif org_name == 'World Health Organisation (WHO)':\n",
    "        return \"85\"\n",
    "    elif org_name == 'World Health Organization':\n",
    "        return \"85\"\n",
    "    elif org_name == 'World Health Organization (WHO)':\n",
    "        return \"85\"\n",
    "    elif org_name == 'Yemen Development Network for NGOs':\n",
    "        return \"86\"\n",
    "    elif org_name == 'Yemeni Development Network For NGOs':\n",
    "        return \"86\"\n",
    "    elif org_name == 'Yemeni Social Reform Society':\n",
    "        return \"87\"\n",
    "    elif org_name == 'MSB/MYNDIGHETEN F? SAMH?LLSSKYDD & BEREDSKAP':\n",
    "        return \"88\"\n",
    "    elif org_name == 'United Nations (UN) agency fund or commission':\n",
    "        return \"0\"\n",
    "    elif org_name == 'United Nations agency fund or commission (UN)':\n",
    "        return \"0\"\n",
    "    elif org_name == 'Personal Services Contractors - USAID':\n",
    "        return \"0\"\n",
    "    elif org_name == 'NGO-s':\n",
    "        return \"0\"\n",
    "    elif org_name == '03469 - National Execution':\n",
    "        return \"0\"\n",
    "    else: \n",
    "        return \"0\"\n",
    "    \n",
    "oecd_data_simplified_recipientNameYE_14_17['ChannelNameCode'] = oecd_data_simplified_recipientNameYE_14_17['ChannelName'].apply(coding_orgs)\n",
    "oecd_data_simplified_recipientNameYE_14_17['ChannelReportedNameCode'] = oecd_data_simplified_recipientNameYE_14_17['ChannelReportedName'].apply(coding_orgs)\n"
   ]
  },
  {
   "cell_type": "markdown",
   "metadata": {},
   "source": [
    "As we now have two colums with coded organizations, we need one that combines both."
   ]
  },
  {
   "cell_type": "code",
   "execution_count": null,
   "metadata": {},
   "outputs": [],
   "source": [
    "oecd_data_simplified_recipientNameYE_14_17.insert(5, 'CodedOrg', '')"
   ]
  },
  {
   "cell_type": "code",
   "execution_count": null,
   "metadata": {},
   "outputs": [],
   "source": [
    "oecd_data_simplified_recipientNameYE_14_17['CodedOrg'] = '0'"
   ]
  },
  {
   "cell_type": "code",
   "execution_count": null,
   "metadata": {},
   "outputs": [],
   "source": [
    "for key, row in oecd_data_simplified_recipientNameYE_14_17.iterrows():\n",
    "    if row['ChannelNameCode'] != '0':\n",
    "        row['CodedOrg'] = row['ChannelNameCode']\n",
    "    if row['ChannelReportedNameCode'] != '0':\n",
    "        row['CodedOrg'] = row['ChannelReportedNameCode']\n"
   ]
  },
  {
   "cell_type": "markdown",
   "metadata": {},
   "source": [
    "Remove some erroneous data that Excel inserted into the CSV."
   ]
  },
  {
   "cell_type": "code",
   "execution_count": null,
   "metadata": {},
   "outputs": [],
   "source": [
    "oecd_data_simplified_recipientNameYE_14_17[\"USD_Disbursement\"]= oecd_data_simplified_recipientNameYE_14_17[\"USD_Disbursement\"].replace('#NULL!', '0') "
   ]
  },
  {
   "cell_type": "markdown",
   "metadata": {},
   "source": [
    "Convert donation amounts into numeric data types."
   ]
  },
  {
   "cell_type": "code",
   "execution_count": null,
   "metadata": {},
   "outputs": [],
   "source": [
    "oecd_data_simplified_recipientNameYE_14_17[\"USD_Disbursement\"] = pd.to_numeric(oecd_data_simplified_recipientNameYE_14_17[\"USD_Disbursement\"])"
   ]
  },
  {
   "cell_type": "markdown",
   "metadata": {},
   "source": [
    "Within the OECD data, amounts are reported as 1/1000000. To make OECD amounts comparable with FTS amounts we multiply OECD amounts by 1000000."
   ]
  },
  {
   "cell_type": "code",
   "execution_count": null,
   "metadata": {},
   "outputs": [],
   "source": [
    "oecd_data_simplified_recipientNameYE_14_17[\"USD_Disbursement\"] = oecd_data_simplified_recipientNameYE_14_17[\"USD_Disbursement\"] *1000000"
   ]
  },
  {
   "cell_type": "markdown",
   "metadata": {},
   "source": [
    "Create a pivot table to aggregate donation amounts by donor, recipient organization and year."
   ]
  },
  {
   "cell_type": "code",
   "execution_count": null,
   "metadata": {},
   "outputs": [],
   "source": [
    "oecd_data_simplified_recipientNameYE_14_17_pivot = pd.pivot_table(oecd_data_simplified_recipientNameYE_14_17,index=[\"DonorName\",\"CodedOrg\", \"Year\"],values=[\"USD_Disbursement\"])"
   ]
  },
  {
   "cell_type": "markdown",
   "metadata": {},
   "source": [
    "## Merge FTS and OECD data"
   ]
  },
  {
   "cell_type": "markdown",
   "metadata": {},
   "source": [
    "Turn FTS and OECD pivot tables into dataframes."
   ]
  },
  {
   "cell_type": "code",
   "execution_count": null,
   "metadata": {},
   "outputs": [],
   "source": [
    "oecd_data_simplified_recipientNameYE_14_17_pivotToDF = pd.DataFrame(oecd_data_simplified_recipientNameYE_14_17_pivot.to_records())"
   ]
  },
  {
   "cell_type": "code",
   "execution_count": null,
   "metadata": {},
   "outputs": [],
   "source": [
    "fts_data_simplified_destinLocYE_14_17_paidDistribu_pivotToDF = pd.DataFrame(fts_data_simplified_destinLocYE_14_17_paidDistribu_pivot.to_records())"
   ]
  },
  {
   "cell_type": "markdown",
   "metadata": {},
   "source": [
    "Rename columns to make merging easier."
   ]
  },
  {
   "cell_type": "code",
   "execution_count": null,
   "metadata": {},
   "outputs": [],
   "source": [
    "fts_data_simplified_destinLocYE_14_17_paidDistribu_pivotToDF = fts_data_simplified_destinLocYE_14_17_paidDistribu_pivotToDF.rename(columns={\"Source Location\": \"Donor\", \"DestinOrgCode\": \"Organization\", 'Destination Usage year': 'Year', 'Amount (USD)': 'FTS_Amount'})"
   ]
  },
  {
   "cell_type": "code",
   "execution_count": null,
   "metadata": {},
   "outputs": [],
   "source": [
    "oecd_data_simplified_recipientNameYE_14_17_pivotToDF = oecd_data_simplified_recipientNameYE_14_17_pivotToDF.rename(columns={\"DonorName\": \"Donor\", \"CodedOrg\": \"Organization\", 'Year': 'Year', 'USD_Disbursement': 'OECD_Amount'})"
   ]
  },
  {
   "cell_type": "markdown",
   "metadata": {},
   "source": [
    "Merge the two dataframes into one."
   ]
  },
  {
   "cell_type": "code",
   "execution_count": null,
   "metadata": {},
   "outputs": [],
   "source": [
    "oecd_fts_merge = oecd_data_simplified_recipientNameYE_14_17_pivotToDF.merge(fts_data_simplified_destinLocYE_14_17_paidDistribu_pivotToDF, how='outer', on=['Donor', 'Organization', 'Year'])"
   ]
  },
  {
   "cell_type": "markdown",
   "metadata": {},
   "source": [
    "## Grand Bargain signatories"
   ]
  },
  {
   "cell_type": "markdown",
   "metadata": {},
   "source": [
    "Only select Grand Bargain signatory donors and organizations in the merged data."
   ]
  },
  {
   "cell_type": "code",
   "execution_count": null,
   "metadata": {},
   "outputs": [],
   "source": [
    "GBSorgs = ('26', '10', '40', '80', '1', '78', '79', '54', '64')"
   ]
  },
  {
   "cell_type": "code",
   "execution_count": null,
   "metadata": {},
   "outputs": [],
   "source": [
    "GBSdonors = ('Australia', 'Belgium', 'Bulgaria', 'Canada', 'Czech Republic', 'Denmark', 'EU Institutions', 'Germany', 'Italy', 'Japan', 'Luxembourg', 'Netherlands', 'Norway', 'Poland', 'Sweden', 'Switzerland', 'United Kingdom', 'United States')"
   ]
  },
  {
   "cell_type": "code",
   "execution_count": null,
   "metadata": {},
   "outputs": [],
   "source": [
    "oecd_fts_merge_onlyGBSdonors = oecd_fts_merge.loc[oecd_fts_merge['Donor'].isin(GBSdonors)]"
   ]
  },
  {
   "cell_type": "code",
   "execution_count": null,
   "metadata": {},
   "outputs": [],
   "source": [
    "oecd_fts_merge_onlyGBSdonorsAndGBSorgs = oecd_fts_merge_onlyGBSdonors.loc[oecd_fts_merge_onlyGBSdonors['Organization'].isin(GBSorgs)]"
   ]
  },
  {
   "cell_type": "markdown",
   "metadata": {},
   "source": [
    "## Descriptive statistics"
   ]
  },
  {
   "cell_type": "markdown",
   "metadata": {},
   "source": [
    "Check the distribution of reported FTS and OECD amounts."
   ]
  },
  {
   "cell_type": "code",
   "execution_count": null,
   "metadata": {},
   "outputs": [],
   "source": [
    "plot_FTSandOECD_amount_distribution = make_subplots(rows=1, cols=1, subplot_titles=(\"FTS\", \"OECD\"))\n",
    "plot_FTSandOECD_amount_distribution.add_trace(go.Box(y=oecd_fts_merge_onlyGBSdonorsAndGBSorgs['FTS_Amount'], name='FTS', marker_color = 'red'),\n",
    "              row=1, col=1)\n",
    "plot_FTSandOECD_amount_distribution.add_trace(go.Box(y=oecd_fts_merge_onlyGBSdonorsAndGBSorgs['OECD_Amount'], name='OECD', marker_color = 'blue'),\n",
    "              row=1, col=1)\n",
    "plot_FTSandOECD_amount_distribution.show()"
   ]
  },
  {
   "cell_type": "markdown",
   "metadata": {},
   "source": [
    "## Remove outliers"
   ]
  },
  {
   "cell_type": "markdown",
   "metadata": {},
   "source": [
    "Replace all NAs with 0s."
   ]
  },
  {
   "cell_type": "code",
   "execution_count": null,
   "metadata": {},
   "outputs": [],
   "source": [
    "#Replace NAs with 0s.\n",
    "oecd_fts_merge_onlyGBSdonorsAndGBSorgs = oecd_fts_merge_onlyGBSdonorsAndGBSorgs.fillna(0)"
   ]
  },
  {
   "cell_type": "markdown",
   "metadata": {},
   "source": [
    "Create copy of merged dataframe, excluding outliers. "
   ]
  },
  {
   "cell_type": "code",
   "execution_count": null,
   "metadata": {},
   "outputs": [],
   "source": [
    "oecd_fts_merge_onlyGBSdonorsAndGBSorgs_exclOutliers = oecd_fts_merge_onlyGBSdonorsAndGBSorgs[(np.abs(stats.zscore(oecd_fts_merge_onlyGBSdonorsAndGBSorgs['FTS_Amount'])) < 1.5)]"
   ]
  },
  {
   "cell_type": "markdown",
   "metadata": {},
   "source": [
    "## Sums and Means of FTS and OECD data"
   ]
  },
  {
   "cell_type": "markdown",
   "metadata": {},
   "source": [
    "Sums of all FTS and OECD amounts, per year."
   ]
  },
  {
   "cell_type": "code",
   "execution_count": null,
   "metadata": {},
   "outputs": [],
   "source": [
    "oecd_fts_merge_onlyGBSdonorsAndGBSorgs_exclOutliers_sums = oecd_fts_merge_onlyGBSdonorsAndGBSorgs_exclOutliers.groupby(['Year']).sum()"
   ]
  },
  {
   "cell_type": "markdown",
   "metadata": {},
   "source": [
    "Means of all FTS and OECD amounts, per year."
   ]
  },
  {
   "cell_type": "code",
   "execution_count": null,
   "metadata": {},
   "outputs": [],
   "source": [
    "oecd_fts_merge_onlyGBSdonorsAndGBSorgs_exclOutliers_means = oecd_fts_merge_onlyGBSdonorsAndGBSorgs_exclOutliers.groupby(['Year']).mean()"
   ]
  },
  {
   "cell_type": "markdown",
   "metadata": {},
   "source": [
    "Plot sums and means of FTS and OECD data"
   ]
  },
  {
   "cell_type": "code",
   "execution_count": null,
   "metadata": {},
   "outputs": [],
   "source": [
    "plot_meansAndsums = make_subplots(rows=2, cols=2, subplot_titles=(\"Sums (full sample)\", \"Means (full sample)\", \"Sums (excl. outliers)\", \"Means (excl. outliers)\"))\n",
    "\n",
    "plot_meansAndsums.add_trace(go.Scatter(x=oecd_fts_merge_onlyGBSdonorsAndGBSorgs['Year'], y=oecd_fts_merge_onlyGBSdonorsAndGBSorgs_sums['FTS_Amount'],\n",
    "                    mode='lines+markers',\n",
    "                    name='FTS',\n",
    "                    line=dict(color='red')), row=1, col=1)\n",
    "plot_meansAndsums.add_trace(go.Scatter(x=oecd_fts_merge_onlyGBSdonorsAndGBSorgs['Year'], y=oecd_fts_merge_onlyGBSdonorsAndGBSorgs_sums['OECD_Amount'],\n",
    "                    mode='lines+markers',\n",
    "                    name='OECD',\n",
    "                    line=dict(color='blue')), row=1, col=1)\n",
    "\n",
    "plot_meansAndsums.add_trace(go.Scatter(x=oecd_fts_merge_onlyGBSdonorsAndGBSorgs['Year'], y=oecd_fts_merge_onlyGBSdonorsAndGBSorgs_means['FTS_Amount'],\n",
    "                    mode='lines+markers',\n",
    "                    name='FTS',\n",
    "                    line=dict(color='red'),\n",
    "                    showlegend=False), row=1, col=2)\n",
    "plot_meansAndsums.add_trace(go.Scatter(x=oecd_fts_merge_onlyGBSdonorsAndGBSorgs['Year'], y=oecd_fts_merge_onlyGBSdonorsAndGBSorgs_means['OECD_Amount'],\n",
    "                    mode='lines+markers',\n",
    "                    name='OECD',\n",
    "                    line=dict(color='blue'),\n",
    "                    showlegend=False), row=1, col=2)\n",
    "\n",
    "plot_meansAndsums.add_trace(go.Scatter(x=oecd_fts_merge_onlyGBSdonorsAndGBSorgs['Year'], y=oecd_fts_merge_onlyGBSdonorsAndGBSorgs_exclOutliers_sums['FTS_Amount'],\n",
    "                    mode='lines+markers',\n",
    "                    name='FTS',\n",
    "                    line=dict(color='red'),\n",
    "                    showlegend=False), row=2, col=1)\n",
    "plot_meansAndsums.add_trace(go.Scatter(x=oecd_fts_merge_onlyGBSdonorsAndGBSorgs['Year'], y=oecd_fts_merge_onlyGBSdonorsAndGBSorgs_exclOutliers_sums['OECD_Amount'],\n",
    "                    mode='lines+markers',\n",
    "                    name='OECD',\n",
    "                    line=dict(color='blue'),\n",
    "                    showlegend=False), row=2, col=1)\n",
    "\n",
    "plot_meansAndsums.add_trace(go.Scatter(x=oecd_fts_merge_onlyGBSdonorsAndGBSorgs['Year'], y=oecd_fts_merge_onlyGBSdonorsAndGBSorgs_exclOutliers_means['FTS_Amount'],\n",
    "                    mode='lines+markers',\n",
    "                    name='FTS',\n",
    "                    line=dict(color='red'),\n",
    "                    showlegend=False), row=2, col=2)\n",
    "plot_meansAndsums.add_trace(go.Scatter(x=oecd_fts_merge_onlyGBSdonorsAndGBSorgs['Year'], y=oecd_fts_merge_onlyGBSdonorsAndGBSorgs_exclOutliers_means['OECD_Amount'],\n",
    "                    mode='lines+markers',\n",
    "                    name='OECD',\n",
    "                    line=dict(color='blue'),\n",
    "                    showlegend=False), row=2, col=2)\n",
    "\n",
    "plot_meansAndsums.update_layout(height=600, width=800)\n",
    "#plot_meansAndsums.write_html('first_figure.html', auto_open=True)\n",
    "plot_meansAndsums.show()"
   ]
  },
  {
   "cell_type": "markdown",
   "metadata": {},
   "source": [
    "### 2014-2015 vs. 2016-2017"
   ]
  },
  {
   "cell_type": "markdown",
   "metadata": {},
   "source": [
    "Copy reported amounts from both timeframes into separate dataframes."
   ]
  },
  {
   "cell_type": "code",
   "execution_count": null,
   "metadata": {},
   "outputs": [],
   "source": [
    "preGB = ('2014', '2015')\n",
    "postGB = ('2016', '2017')"
   ]
  },
  {
   "cell_type": "code",
   "execution_count": null,
   "metadata": {},
   "outputs": [],
   "source": [
    "oecd_fts_merge_onlyGBSdonorsAndGBSorgs_exclOutliers_preGB = oecd_fts_merge_onlyGBSdonorsAndGBSorgs_exclOutliers.loc[oecd_fts_merge_onlyGBSdonorsAndGBSorgs_exclOutliers['Year'].isin(preGB)]"
   ]
  },
  {
   "cell_type": "code",
   "execution_count": null,
   "metadata": {},
   "outputs": [],
   "source": [
    "oecd_fts_merge_onlyGBSdonorsAndGBSorgs_exclOutliers_postGB = oecd_fts_merge_onlyGBSdonorsAndGBSorgs_exclOutliers.loc[oecd_fts_merge_onlyGBSdonorsAndGBSorgs_exclOutliers['Year'].isin(postGB)]"
   ]
  },
  {
   "cell_type": "code",
   "execution_count": null,
   "metadata": {},
   "outputs": [],
   "source": [
    "oecd_fts_merge_onlyGBSdonorsAndGBSorgs_preGB = oecd_fts_merge_onlyGBSdonorsAndGBSorgs.loc[oecd_fts_merge_onlyGBSdonorsAndGBSorgs['Year'].isin(preGB)]"
   ]
  },
  {
   "cell_type": "code",
   "execution_count": null,
   "metadata": {},
   "outputs": [],
   "source": [
    "oecd_fts_merge_onlyGBSdonorsAndGBSorgs_postGB = oecd_fts_merge_onlyGBSdonorsAndGBSorgs.loc[oecd_fts_merge_onlyGBSdonorsAndGBSorgs['Year'].isin(postGB)]"
   ]
  },
  {
   "cell_type": "markdown",
   "metadata": {},
   "source": [
    "## Wilcoxon signed rank tests"
   ]
  },
  {
   "cell_type": "markdown",
   "metadata": {},
   "source": [
    "### Excluding outliers"
   ]
  },
  {
   "cell_type": "markdown",
   "metadata": {},
   "source": [
    "2014-2015, excluding outliers."
   ]
  },
  {
   "cell_type": "code",
   "execution_count": null,
   "metadata": {},
   "outputs": [],
   "source": [
    "stat, p = wilcoxon(oecd_fts_merge_onlyGBSdonorsAndGBSorgs_exclOutliers_preGB['FTS_Amount'], oecd_fts_merge_onlyGBSdonorsAndGBSorgs_exclOutliers_preGB['OECD_Amount'])\n",
    "print('Statistics=%.3f, p=%.3f' % (stat, p))\n",
    "alpha = 0.05\n",
    "if p > alpha:\n",
    "    print('Same distribution (fail to reject H0)')\n",
    "else:\n",
    "    print('Different distribution (reject H0)')"
   ]
  },
  {
   "cell_type": "markdown",
   "metadata": {},
   "source": [
    "2016-2017, excluding outliers."
   ]
  },
  {
   "cell_type": "code",
   "execution_count": null,
   "metadata": {},
   "outputs": [],
   "source": [
    "stat, p = wilcoxon(oecd_fts_merge_onlyGBSdonorsAndGBSorgs_exclOutliers_postGB['FTS_Amount'], oecd_fts_merge_onlyGBSdonorsAndGBSorgs_exclOutliers_postGB['OECD_Amount'])\n",
    "print('Statistics=%.3f, p=%.3f' % (stat, p))\n",
    "alpha = 0.05\n",
    "if p > alpha:\n",
    "    print('Same distribution (fail to reject H0)')\n",
    "else:\n",
    "    print('Different distribution (reject H0)')"
   ]
  },
  {
   "cell_type": "markdown",
   "metadata": {},
   "source": [
    "2014-2017, excluding outliers."
   ]
  },
  {
   "cell_type": "code",
   "execution_count": null,
   "metadata": {},
   "outputs": [],
   "source": [
    "stat, p = wilcoxon(oecd_fts_merge_onlyGBSdonorsAndGBSorgs_exclOutliers['FTS_Amount'], oecd_fts_merge_onlyGBSdonorsAndGBSorgs_exclOutliers['OECD_Amount'])\n",
    "print('Statistics=%.3f, p=%.3f' % (stat, p))\n",
    "alpha = 0.05\n",
    "if p > alpha:\n",
    "    print('Same distribution (fail to reject H0)')\n",
    "else:\n",
    "    print('Different distribution (reject H0)')"
   ]
  },
  {
   "cell_type": "markdown",
   "metadata": {},
   "source": [
    "### Including outliers (full sample)"
   ]
  },
  {
   "cell_type": "markdown",
   "metadata": {},
   "source": [
    "2014-2015, including outliers."
   ]
  },
  {
   "cell_type": "code",
   "execution_count": null,
   "metadata": {},
   "outputs": [],
   "source": [
    "stat, p = wilcoxon(oecd_fts_merge_onlyGBSdonorsAndGBSorgs_preGB['FTS_Amount'], oecd_fts_merge_onlyGBSdonorsAndGBSorgs_preGB['OECD_Amount'])\n",
    "print('Statistics=%.3f, p=%.3f' % (stat, p))\n",
    "alpha = 0.05\n",
    "if p > alpha:\n",
    "    print('Same distribution (fail to reject H0)')\n",
    "else:\n",
    "    print('Different distribution (reject H0)')"
   ]
  },
  {
   "cell_type": "markdown",
   "metadata": {},
   "source": [
    "2016-2017, including outliers."
   ]
  },
  {
   "cell_type": "code",
   "execution_count": null,
   "metadata": {},
   "outputs": [],
   "source": [
    "stat, p = wilcoxon(oecd_fts_merge_onlyGBSdonorsAndGBSorgs_postGB['FTS_Amount'], oecd_fts_merge_onlyGBSdonorsAndGBSorgs_postGB['OECD_Amount'])\n",
    "print('Statistics=%.3f, p=%.3f' % (stat, p))\n",
    "alpha = 0.05\n",
    "if p > alpha:\n",
    "    print('Same distribution (fail to reject H0)')\n",
    "else:\n",
    "    print('Different distribution (reject H0)')"
   ]
  },
  {
   "cell_type": "markdown",
   "metadata": {},
   "source": [
    "2014-2017, including outliers."
   ]
  },
  {
   "cell_type": "code",
   "execution_count": null,
   "metadata": {},
   "outputs": [],
   "source": [
    "stat, p = wilcoxon(oecd_fts_merge_onlyGBSdonorsAndGBSorgs['FTS_Amount'], oecd_fts_merge_onlyGBSdonorsAndGBSorgs['OECD_Amount'])\n",
    "print('Statistics=%.3f, p=%.3f' % (stat, p))\n",
    "alpha = 0.05\n",
    "if p > alpha:\n",
    "    print('Same distribution (fail to reject H0)')\n",
    "else:\n",
    "    print('Different distribution (reject H0)')"
   ]
  },
  {
   "cell_type": "code",
   "execution_count": null,
   "metadata": {},
   "outputs": [],
   "source": []
  },
  {
   "cell_type": "code",
   "execution_count": null,
   "metadata": {},
   "outputs": [],
   "source": []
  },
  {
   "cell_type": "code",
   "execution_count": null,
   "metadata": {},
   "outputs": [],
   "source": []
  },
  {
   "cell_type": "code",
   "execution_count": null,
   "metadata": {},
   "outputs": [],
   "source": []
  },
  {
   "cell_type": "code",
   "execution_count": null,
   "metadata": {},
   "outputs": [],
   "source": []
  },
  {
   "cell_type": "code",
   "execution_count": null,
   "metadata": {},
   "outputs": [],
   "source": []
  },
  {
   "cell_type": "code",
   "execution_count": null,
   "metadata": {},
   "outputs": [],
   "source": []
  },
  {
   "cell_type": "code",
   "execution_count": null,
   "metadata": {},
   "outputs": [],
   "source": []
  },
  {
   "cell_type": "code",
   "execution_count": null,
   "metadata": {},
   "outputs": [],
   "source": []
  },
  {
   "cell_type": "code",
   "execution_count": null,
   "metadata": {},
   "outputs": [],
   "source": []
  },
  {
   "cell_type": "code",
   "execution_count": null,
   "metadata": {},
   "outputs": [],
   "source": []
  },
  {
   "cell_type": "code",
   "execution_count": null,
   "metadata": {},
   "outputs": [],
   "source": []
  },
  {
   "cell_type": "code",
   "execution_count": null,
   "metadata": {},
   "outputs": [],
   "source": []
  },
  {
   "cell_type": "code",
   "execution_count": null,
   "metadata": {},
   "outputs": [],
   "source": []
  },
  {
   "cell_type": "code",
   "execution_count": null,
   "metadata": {},
   "outputs": [],
   "source": [
    "#Sum of FTS column\n",
    "oecd_fts_merge_onlyGBSdonorsAndGBSorgs['FTS_Amount'].sum()"
   ]
  },
  {
   "cell_type": "code",
   "execution_count": null,
   "metadata": {},
   "outputs": [],
   "source": [
    "#Sum of OECD column\n",
    "oecd_fts_merge_onlyGBSdonorsAndGBSorgs['OECD_Amount'].sum()"
   ]
  }
 ],
 "metadata": {
  "kernelspec": {
   "display_name": "redcar",
   "language": "python",
   "name": "redcar"
  },
  "language_info": {
   "codemirror_mode": {
    "name": "ipython",
    "version": 3
   },
   "file_extension": ".py",
   "mimetype": "text/x-python",
   "name": "python",
   "nbconvert_exporter": "python",
   "pygments_lexer": "ipython3",
   "version": "3.7.4"
  }
 },
 "nbformat": 4,
 "nbformat_minor": 4
}
