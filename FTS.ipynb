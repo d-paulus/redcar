{
 "cells": [
  {
   "cell_type": "code",
   "execution_count": 1,
   "metadata": {},
   "outputs": [],
   "source": [
    "import pandas as pd"
   ]
  },
  {
   "cell_type": "code",
   "execution_count": 2,
   "metadata": {},
   "outputs": [],
   "source": [
    "fts_data = pd.read_csv(\"data/raw/FTS_Complete.csv\", dtype='unicode')"
   ]
  },
  {
   "cell_type": "code",
   "execution_count": 3,
   "metadata": {},
   "outputs": [],
   "source": [
    "fts_data_simplified = fts_data.drop([\"Flow ID\",\n",
    "\"Original amount\",\n",
    "\"Description\",\n",
    "\"Source Emergency\",\n",
    "\"Source Project\",\n",
    "\"Source Plan\",\n",
    "\"Destination Plan\",\n",
    "\"Destination Emergency\",\n",
    "\"Destination Project\",\n",
    "\"Linked parent ID\",\n",
    "\"Linked child ID\",\n",
    "\"Donor project code\",\n",
    "\"Modality\",\n",
    "\"Version ID\",\n",
    "\"Exchange rate\",\n",
    "\"Original currency\",\n",
    "\"Amount shared on boundary (USD)\"], axis=1)"
   ]
  },
  {
   "cell_type": "code",
   "execution_count": 5,
   "metadata": {},
   "outputs": [],
   "source": [
    "fts_data_simplified_destinLocYE = fts_data_simplified.loc[fts_data_simplified['Destination Location'] == \"Yemen\"]"
   ]
  },
  {
   "cell_type": "code",
   "execution_count": 6,
   "metadata": {},
   "outputs": [],
   "source": [
    "years = (\"2014\", \"2015\", \"2016\", \"2017\")"
   ]
  },
  {
   "cell_type": "code",
   "execution_count": 7,
   "metadata": {},
   "outputs": [],
   "source": [
    "fts_data_simplified_destinLocYE_14_17 = fts_data_simplified_destinLocYE.loc[fts_data_simplified_destinLocYE['Destination Usage year'].isin(years)]"
   ]
  },
  {
   "cell_type": "code",
   "execution_count": 26,
   "metadata": {},
   "outputs": [],
   "source": [
    "fts_data_simplified_destinLocYE_14_17_paidDistribu = fts_data_simplified_destinLocYE_14_17.loc[fts_data_simplified_destinLocYE_14_17['Flow status'] == \"Paid Contribution\"]"
   ]
  },
  {
   "cell_type": "code",
   "execution_count": 9,
   "metadata": {},
   "outputs": [],
   "source": [
    "#fts_data_simplified_destinLocYE_14_17_paidDistribu.to_csv('fts_data_simplified_destinLocYE_14_17_paidDistribu.csv')"
   ]
  },
  {
   "cell_type": "code",
   "execution_count": 27,
   "metadata": {},
   "outputs": [],
   "source": [
    "fts_data_simplified_destinLocYE_14_17_paidDistribu.insert(11, 'DestinOrgCode', '')"
   ]
  },
  {
   "cell_type": "code",
   "execution_count": null,
   "metadata": {},
   "outputs": [],
   "source": [
    "pd.set_option('display.max_columns', None)\n",
    "fts_data_simplified_destinLocYE_14_17_paidDistribu.head()"
   ]
  },
  {
   "cell_type": "code",
   "execution_count": 42,
   "metadata": {},
   "outputs": [
    {
     "name": "stderr",
     "output_type": "stream",
     "text": [
      "C:\\Users\\dpaulus\\AppData\\Local\\Continuum\\miniconda3\\envs\\redcar\\lib\\site-packages\\ipykernel_launcher.py:137: SettingWithCopyWarning: \n",
      "A value is trying to be set on a copy of a slice from a DataFrame.\n",
      "Try using .loc[row_indexer,col_indexer] = value instead\n",
      "\n",
      "See the caveats in the documentation: https://pandas.pydata.org/pandas-docs/stable/user_guide/indexing.html#returning-a-view-versus-a-copy\n"
     ]
    }
   ],
   "source": [
    "fts_data_simplified_destinLocYE_14_17_paidDistribu.fillna(method='ffill')\n",
    "\n",
    "def coding_orgs(org_name):\n",
    "    if org_name == 'United Nations Development Programme':\n",
    "        return \"1\"\n",
    "    elif org_name == 'Action Contre la Faim':\n",
    "        return \"2\"\n",
    "    elif org_name == 'Adventist Development and Relief Agency':\n",
    "        return \"3\"\n",
    "    elif org_name == 'Agency for Technical Cooperation and Development':\n",
    "        return \"4\"\n",
    "    elif org_name == 'Al Khair Relief Development Foundation':\n",
    "        return \"5\"\n",
    "    elif org_name == 'Al-Badyah Charitable Foundation':\n",
    "        return \"6\"\n",
    "    elif org_name == 'Al-Baida Coalition for Relief and Humanitarian Actions':\n",
    "        return \"7\"\n",
    "    elif org_name == 'Benevolence Coalition For Humanitarian Relief':\n",
    "        return \"8\"\n",
    "    elif org_name == 'The Coalition Of Humanitarian Relief':\n",
    "        return \"8\"\n",
    "    elif org_name == 'International Committee of the Red Cross':\n",
    "        return \"10\"\n",
    "    elif org_name == 'International Federation of Red Cross and Red Crescent Societies':\n",
    "        return \"10\"\n",
    "    elif org_name == 'Norwegian Red Cross':\n",
    "        return \"10\"\n",
    "    elif org_name == 'Qatar Red Crescent Society':\n",
    "        return \"10\"\n",
    "    elif org_name == 'Red Crescent Society of the United Arab Emirates':\n",
    "        return \"10\"\n",
    "    elif org_name == 'Sudanese Red Crescent':\n",
    "        return \"10\"\n",
    "    elif org_name == 'Yemen Red Crescent Society':\n",
    "        return \"10\"\n",
    "    elif org_name == 'Kuwait Red Crescent Society':\n",
    "        return \"10\"\n",
    "    elif org_name == 'CARE International':\n",
    "        return \"11\"\n",
    "    elif org_name == 'Yemen Humanitarian Fund':\n",
    "        return \"12\"\n",
    "    elif org_name == 'M├®decins sans Fronti─ìres':\n",
    "        return \"18\"\n",
    "    elif org_name == 'Enjaz foundation for development':\n",
    "        return \"21\"\n",
    "    elif org_name == 'Food & Agriculture Organization of the United Nations':\n",
    "        return \"26\"\n",
    "    elif org_name == 'Global Communities':\n",
    "        return \"28\"\n",
    "    elif org_name == 'Yemen, Government of':\n",
    "        return \"30\"\n",
    "    elif org_name == 'Handicap International / Humanity & Inclusion':\n",
    "        return \"32\"\n",
    "    elif org_name == 'Yemen Higher Relief Committee':\n",
    "        return \"33\"\n",
    "    elif org_name == 'International Commission for Human Development':\n",
    "        return \"37\"\n",
    "    elif org_name == 'International Medical Corps':\n",
    "        return \"38\"\n",
    "    elif org_name == 'International Organization for Migration':\n",
    "        return \"40\"\n",
    "    elif org_name == 'International Rescue Committee':\n",
    "        return \"42\"\n",
    "    elif org_name == 'International Islamic Relief Organization':\n",
    "        return \"44\"\n",
    "    elif org_name == 'Islamic Relief Worldwide':\n",
    "        return \"44\"\n",
    "    elif org_name == 'Khalifa Bin Zayed Al Nahyan Foundation':\n",
    "        return \"45\"\n",
    "    elif org_name == 'Mercy Corps':\n",
    "        return \"49\"\n",
    "    elif org_name == 'Norwegian Refugee Council':\n",
    "        return \"53\"\n",
    "    elif org_name == 'Office for the Coordination of Humanitarian Affairs':\n",
    "        return \"54\"\n",
    "    elif org_name == 'OXFAM GB':\n",
    "        return \"59\"\n",
    "    elif org_name == 'OXFAM Ireland':\n",
    "        return \"59\"\n",
    "    elif org_name == 'World Food Programme':\n",
    "        return \"64\"\n",
    "    elif org_name == 'Save the Children':\n",
    "        return \"68\"\n",
    "    elif org_name == 'Scoop Group':\n",
    "        return \"72\"\n",
    "    elif org_name == 'United Nations High Commissioner for Refugees':\n",
    "        return \"78\"\n",
    "    elif org_name == 'United Nations Population Fund':\n",
    "        return \"79\"\n",
    "    elif org_name == 'United Nations Children\\'s Fund':\n",
    "        return \"80\"\n",
    "    elif org_name == 'World Health Organization':\n",
    "        return \"85\"\n",
    "    elif org_name == 'Yemeni Social Reform Society':\n",
    "        return \"87\"\n",
    "    elif org_name == 'Alawn Foundation for Development':\n",
    "        return \"93\"\n",
    "    elif org_name == 'AlBasar Foundation':\n",
    "        return \"94\"\n",
    "    elif org_name == 'Alyateem Development Foundation':\n",
    "        return \"95\"\n",
    "    elif org_name == 'Direct Aid':\n",
    "        return \"96\"\n",
    "    elif org_name == 'International Campaign to Abolish Nuclear Weapons (ICAN)':\n",
    "        return \"97\"\n",
    "    elif org_name == 'International Children\\'s Action Network':\n",
    "        return \"98\"\n",
    "    elif org_name == 'International Youth Council - Yemen':\n",
    "        return \"99\"\n",
    "    elif org_name == 'Japan Platform':\n",
    "        return \"100\"\n",
    "    elif org_name == 'Japanese NGOs':\n",
    "        return \"101\"\n",
    "    elif org_name == 'Kuwaiti Yemeni Relief':\n",
    "        return \"102\"\n",
    "    elif org_name == 'NGOs (details not yet provided)':\n",
    "        return \"91\"\n",
    "    elif org_name == 'Office of the High Commissioner for Human Rights':\n",
    "        return \"103\"\n",
    "    elif org_name == 'Physicians Across Continents':\n",
    "        return \"104\"\n",
    "    elif org_name == 'Private (individuals & organizations)':\n",
    "        return \"63\"\n",
    "    elif org_name == 'Reform Society':\n",
    "        return \"87\"\n",
    "    elif org_name == 'United Nations Office on Drugs and Crime':\n",
    "        return \"105\"\n",
    "    elif org_name == 'Wethaq Foundation for Civil Orientation':\n",
    "        return \"106\"\n",
    "    elif org_name == 'World Assembly of Muslim Youth':\n",
    "        return \"107\"\n",
    "    elif org_name == 'Yemen National Committee for Human Rights':\n",
    "        return \"108\"\n",
    "    elif org_name == 'Yemeni Association for relief and development':\n",
    "        return \"109\"\n",
    "    \n",
    "fts_data_simplified_destinLocYE_14_17_paidDistribu['DestinOrgCode'] = fts_data_simplified_destinLocYE_14_17_paidDistribu['Destination Organization'].apply(coding_orgs)"
   ]
  },
  {
   "cell_type": "code",
   "execution_count": null,
   "metadata": {},
   "outputs": [],
   "source": [
    "pd.set_option('display.max_rows', None)\n",
    "fts_data_simplified_destinLocYE_14_17_paidDistribu"
   ]
  },
  {
   "cell_type": "code",
   "execution_count": null,
   "metadata": {},
   "outputs": [],
   "source": []
  }
 ],
 "metadata": {
  "kernelspec": {
   "display_name": "redcar",
   "language": "python",
   "name": "redcar"
  },
  "language_info": {
   "codemirror_mode": {
    "name": "ipython",
    "version": 3
   },
   "file_extension": ".py",
   "mimetype": "text/x-python",
   "name": "python",
   "nbconvert_exporter": "python",
   "pygments_lexer": "ipython3",
   "version": "3.7.4"
  }
 },
 "nbformat": 4,
 "nbformat_minor": 4
}
